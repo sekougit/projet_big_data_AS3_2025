{
  "nbformat": 4,
  "nbformat_minor": 0,
  "metadata": {
    "colab": {
      "cell_execution_strategy": "setup",
      "provenance": [],
      "name": "modif_anova"
    },
    "kernelspec": {
      "name": "python3",
      "display_name": "Python 3"
    },
    "language_info": {
      "name": "python"
    }
  },
  "cells": [
    {
      "cell_type": "markdown",
      "source": [
        "# Example 2: Query a table with BigQuery DataFrames"
      ],
      "metadata": {
        "id": "PYt5QGSf67N3"
      }
    },
    {
      "cell_type": "code",
      "source": [
        "# With BigQuery DataFrames, you can use many familiar Pandas methods, but the\n",
        "# processing happens BigQuery rather than the runtime, allowing you to work with larger\n",
        "# DataFrames that would otherwise not fit in the runtime memory.\n",
        "# Learn more here: https://cloud.google.com/python/docs/reference/bigframes/latest\n",
        "\n",
        "import bigframes.pandas as bf\n",
        "\n",
        "bf.options.bigquery.location = \"EU\" #this variable is set based on the dataset you chose to query\n",
        "bf.options.bigquery.project = \"generated-arena-448412-j7\" #this variable is set based on the dataset you chose to query"
      ],
      "metadata": {
        "id": "tJSfAiHycbAj"
      },
      "execution_count": null,
      "outputs": []
    },
    {
      "cell_type": "code",
      "source": [
        "df = bf.read_gbq(\"generated-arena-448412-j7.data_set_bi.table_anova\") #this variable is set based on the dataset you chose to query"
      ],
      "metadata": {
        "id": "fUsQzlgjiA_G"
      },
      "execution_count": null,
      "outputs": []
    },
    {
      "cell_type": "code",
      "source": [
        "# BigFrames can work with tables that are too large to fit in the notebook memory.\n",
        "# Look at the first 20 rows.\n",
        "df=df[df[\"Bloc\"]==\"B3\"]\n"
      ],
      "metadata": {
        "id": "YQguJBV6iRSI"
      },
      "execution_count": null,
      "outputs": []
    },
    {
      "cell_type": "code",
      "source": [
        "df.columns.tolist()"
      ],
      "metadata": {
        "colab": {
          "base_uri": "https://localhost:8080/"
        },
        "id": "XcwQe7D6Yge2",
        "executionInfo": {
          "status": "ok",
          "timestamp": 1739048777288,
          "user_tz": 0,
          "elapsed": 452,
          "user": {
            "displayName": "",
            "userId": ""
          }
        },
        "outputId": "35ca3dc4-6264-4d35-b3f9-60d6426ec068"
      },
      "execution_count": null,
      "outputs": [
        {
          "output_type": "execute_result",
          "data": {
            "text/plain": [
              "['Bloc',\n",
              " 'Varietes',\n",
              " 'Code_Variete',\n",
              " 'Traitement',\n",
              " 'Num_plante',\n",
              " 'Num_feuille',\n",
              " 'Long',\n",
              " 'Larg',\n",
              " 'Epine',\n",
              " 'Nbre_feuille',\n",
              " 'Haut_Plante',\n",
              " 'Diam_plante']"
            ]
          },
          "metadata": {},
          "execution_count": 13
        }
      ]
    },
    {
      "cell_type": "code",
      "source": [
        "# Supprimer la ligne avec l'index 2\n",
        "df = df.drop(index=2)\n",
        "len(df)"
      ],
      "metadata": {
        "colab": {
          "base_uri": "https://localhost:8080/",
          "height": 52
        },
        "id": "K_w-HqXeJ4M3",
        "executionInfo": {
          "status": "ok",
          "timestamp": 1739046759449,
          "user_tz": 0,
          "elapsed": 2334,
          "user": {
            "displayName": "",
            "userId": ""
          }
        },
        "outputId": "ed58d098-acae-4a49-8b15-368ef1e4a301"
      },
      "execution_count": null,
      "outputs": [
        {
          "output_type": "display_data",
          "data": {
            "text/plain": [
              "<IPython.core.display.HTML object>"
            ],
            "text/html": [
              "Query job d39dbcef-3a6a-41b7-b7f0-13693299038e is DONE. 8.2 kB processed. <a target=\"_blank\" href=\"https://console.cloud.google.com/bigquery?project=generated-arena-448412-j7&j=bq:EU:d39dbcef-3a6a-41b7-b7f0-13693299038e&page=queryresults\">Open Job</a>"
            ]
          },
          "metadata": {}
        },
        {
          "output_type": "execute_result",
          "data": {
            "text/plain": [
              "95"
            ]
          },
          "metadata": {},
          "execution_count": 10
        }
      ]
    },
    {
      "cell_type": "code",
      "source": [
        "from google.cloud import bigquery\n",
        "\n",
        "# Initialiser le client BigQuery\n",
        "client = bigquery.Client(location=\"EU\")\n",
        "\n",
        "\n",
        "# Définition du dataset et de la table\n",
        "project_id = \"generated-arena-448412-j7\"\n",
        "dataset_id = \"data_set_bi\"\n",
        "table_id = \"table_anova\"\n",
        "table_ref = f\"{project_id}.{dataset_id}.{table_id}\"\n",
        "\n",
        "#table_ref=\"generated-arena-448412-j7.data_set_bi.table_anova\"\n",
        "\n",
        "\n",
        "\n",
        "\n",
        "# 3️⃣ DELETE : Supprimer une ligne\n",
        "delete_query = f\"\"\"\n",
        "DELETE FROM `{table_ref}`\n",
        "WHERE Bloc = 'B2'\n",
        "\"\"\"\n",
        "client.query(delete_query).result()\n",
        "print(\"✅ Suppression réussie !\")\n"
      ],
      "metadata": {
        "colab": {
          "base_uri": "https://localhost:8080/"
        },
        "id": "-fIQziH_SMiX",
        "executionInfo": {
          "status": "ok",
          "timestamp": 1739137573458,
          "user_tz": 0,
          "elapsed": 10423,
          "user": {
            "displayName": "",
            "userId": ""
          }
        },
        "outputId": "1c5bc33f-d867-4bb4-b93f-b8c7a4c56c3b"
      },
      "execution_count": null,
      "outputs": [
        {
          "output_type": "stream",
          "name": "stdout",
          "text": [
            "✅ Suppression réussie !\n"
          ]
        }
      ]
    },
    {
      "cell_type": "code",
      "source": [],
      "metadata": {
        "id": "9nSj0MiOQpLC",
        "colab": {
          "base_uri": "https://localhost:8080/",
          "height": 143
        },
        "executionInfo": {
          "status": "error",
          "timestamp": 1739131288505,
          "user_tz": 0,
          "elapsed": 10,
          "user": {
            "displayName": "",
            "userId": ""
          }
        },
        "outputId": "d1c0d11c-432b-4736-df9f-822985ebd06a"
      },
      "execution_count": null,
      "outputs": [
        {
          "output_type": "error",
          "ename": "SyntaxError",
          "evalue": "invalid syntax (<ipython-input-3-bbeff8de90b2>, line 8)",
          "traceback": [
            "\u001b[0;36m  File \u001b[0;32m\"<ipython-input-3-bbeff8de90b2>\"\u001b[0;36m, line \u001b[0;32m8\u001b[0m\n\u001b[0;31m    CREATE TABLE table_ref(\u001b[0m\n\u001b[0m           ^\u001b[0m\n\u001b[0;31mSyntaxError\u001b[0m\u001b[0;31m:\u001b[0m invalid syntax\n"
          ]
        }
      ]
    },
    {
      "cell_type": "code",
      "source": [
        "from google.cloud import bigquery\n",
        "\n",
        "# Initialiser le client BigQuery\n",
        "client = bigquery.Client(location=\"US\")\n",
        "\n",
        "\n",
        "# Définition du dataset et de la table\n",
        "project_id = \"generated-arena-448412-j7\"\n",
        "dataset_id = \"data_set_bi_us\"\n",
        "table_id = \"StructuresSante\"\n",
        "table_ref = f\"{project_id}.{dataset_id}.{table_id}\"\n",
        "\n",
        "#table_ref=\"generated-arena-448412-j7.data_set_bi.table_anova\"\n",
        "\n",
        "# 3️⃣ DELETE : Supprimer une ligne\n",
        "create_table = f\"\"\"\n",
        "CREATE TABLE `{table_ref}` (\n",
        "    StructuresSanteID STRING ,\n",
        "    TypeStructuresSante STRING NOT NULL,\n",
        "    Region STRING NOT NULL,\n",
        "    EffectifPersonnel INT64 NOT NULL\n",
        ");\n",
        "\n",
        "\"\"\"\n",
        "client.query(create_table).result()\n",
        "print(\"✅ creation réussie !\")\n"
      ],
      "metadata": {
        "id": "MFpHubvgSy9W",
        "colab": {
          "base_uri": "https://localhost:8080/"
        },
        "executionInfo": {
          "status": "ok",
          "timestamp": 1739147330978,
          "user_tz": 0,
          "elapsed": 1530,
          "user": {
            "displayName": "",
            "userId": ""
          }
        },
        "outputId": "f195a34f-3f8c-4fb3-bbca-967844d8fa62"
      },
      "execution_count": null,
      "outputs": [
        {
          "output_type": "stream",
          "name": "stdout",
          "text": [
            "✅ creation réussie !\n"
          ]
        }
      ]
    },
    {
      "cell_type": "code",
      "source": [
        "from google.cloud import bigquery\n",
        "\n",
        "# Initialiser le client BigQuery\n",
        "client = bigquery.Client(location=\"US\")\n",
        "\n",
        "\n",
        "# Définition du dataset et de la table\n",
        "project_id = \"generated-arena-448412-j7\"\n",
        "dataset_id = \"data_set_bi_us\"\n",
        "table_id = \"dim_clients\"\n",
        "table_ref = f\"{project_id}.{dataset_id}.{table_id}\"\n",
        "\n",
        "#table_ref=\"generated-arena-448412-j7.data_set_bi.table_anova\"\n",
        "\n",
        "# 3️⃣ DELETE : Supprimer une ligne\n",
        "create_table = f\"\"\"\n",
        "CREATE TABLE `{table_ref}` (\n",
        "    id_client STRING NOT NULL,  -- Identifiant unique du client (VARCHAR en SQL standard)\n",
        "    nom STRING NOT NULL,        -- Nom du client\n",
        "    prenom STRING NOT NULL,     -- Prénom du client\n",
        "    adresse STRING,             -- Adresse complète du client\n",
        "    genre STRING,               -- Genre (ex: 'Homme', 'Femme', 'Autre')\n",
        "    age INT64                   -- Âge du client\n",
        ");\n",
        "\"\"\"\n",
        "client.query(create_table).result()\n",
        "print(\"✅ creation réussie !\")\n"
      ],
      "metadata": {
        "colab": {
          "base_uri": "https://localhost:8080/"
        },
        "id": "37ShtlsoXY7-",
        "executionInfo": {
          "status": "ok",
          "timestamp": 1739149524551,
          "user_tz": 0,
          "elapsed": 817,
          "user": {
            "displayName": "",
            "userId": ""
          }
        },
        "outputId": "3da7ac8f-81ed-457c-f740-4b809cc72633"
      },
      "execution_count": null,
      "outputs": [
        {
          "output_type": "stream",
          "name": "stdout",
          "text": [
            "✅ creation réussie !\n"
          ]
        }
      ]
    },
    {
      "cell_type": "code",
      "source": [
        "from google.cloud import bigquery\n",
        "\n",
        "# Initialiser le client BigQuery\n",
        "client = bigquery.Client(location=\"US\")\n",
        "\n",
        "\n",
        "# Définition du dataset et de la table\n",
        "project_id = \"generated-arena-448412-j7\"\n",
        "dataset_id = \"data_set_bi_us\"\n",
        "table_id = \"StructuresSante_work\"\n",
        "table_ref = f\"{project_id}.{dataset_id}.{table_id}\"\n",
        "\n",
        "#table_ref=\"generated-arena-448412-j7.data_set_bi.table_anova\"\n",
        "\n",
        "# 3️⃣ DELETE : Supprimer une ligne\n",
        "create_table = f\"\"\"\n",
        "CREATE TABLE `{table_ref}` (\n",
        "    StructuresSanteID STRING ,\n",
        "    TypeStructuresSante STRING NOT NULL,\n",
        "    Region STRING NOT NULL,\n",
        "    EffectifPersonnel INT64 NOT NULL\n",
        ");\n",
        "\n",
        "\"\"\"\n",
        "client.query(create_table).result()\n",
        "print(\"✅ creation réussie !\")\n"
      ],
      "metadata": {
        "id": "Vafg9qtvb0xi",
        "executionInfo": {
          "status": "ok",
          "timestamp": 1739150306443,
          "user_tz": 0,
          "elapsed": 944,
          "user": {
            "displayName": "",
            "userId": ""
          }
        },
        "outputId": "c0ee7735-75d6-48cb-f47e-db1c7ced5fd2",
        "colab": {
          "base_uri": "https://localhost:8080/"
        }
      },
      "execution_count": null,
      "outputs": [
        {
          "output_type": "stream",
          "name": "stdout",
          "text": [
            "✅ creation réussie !\n"
          ]
        }
      ]
    },
    {
      "cell_type": "code",
      "source": [
        "from google.cloud import bigquery\n",
        "\n",
        "# Initialiser le client BigQuery\n",
        "client = bigquery.Client(location=\"EU\")\n",
        "\n",
        "\n",
        "# Définition du dataset et de la table\n",
        "project_id = \"generated-arena-448412-j7\"\n",
        "dataset_id = \"data_set_bi\"\n",
        "table_id = \"table_anova\"\n",
        "table_ref = f\"{project_id}.{dataset_id}.{table_id}\"\n",
        "\n",
        "#table_ref=\"generated-arena-448412-j7.data_set_bi.table_anova\"\n",
        "\n",
        "\n",
        "\n",
        "\n",
        "# 3️⃣ DELETE : Supprimer une ligne\n",
        "delete_query = f\"\"\"\n",
        "INSERT INTO `{table_ref}` (Bloc, Varietes, Code_Variete, Traitement, Num_plante, Num_feuille, Long, Larg, Epine, Nbre_feuille, Haut_Plante, Diam_plante)\n",
        "VALUES ('B1', 'Salmianae', 'ASS', 'Min', 'A7', 'Ay', 17, 5, 3, 9, 300, 24);\n",
        "\n",
        "\"\"\"\n",
        "client.query(delete_query).result()\n",
        "print(\"✅ Suppression réussie !\")\n"
      ],
      "metadata": {
        "colab": {
          "base_uri": "https://localhost:8080/"
        },
        "id": "6iqOMEwNJrrj",
        "executionInfo": {
          "status": "ok",
          "timestamp": 1739449669177,
          "user_tz": 0,
          "elapsed": 2847,
          "user": {
            "displayName": "",
            "userId": ""
          }
        },
        "outputId": "d947f2ab-c970-4ee3-f82b-144683d08bb8"
      },
      "execution_count": null,
      "outputs": [
        {
          "output_type": "stream",
          "name": "stdout",
          "text": [
            "✅ Suppression réussie !\n"
          ]
        }
      ]
    },
    {
      "cell_type": "code",
      "source": [
        "from google.cloud import bigquery\n",
        "\n",
        "# Initialiser le client BigQuery\n",
        "client = bigquery.Client(location=\"EU\")\n",
        "\n",
        "\n",
        "# Définition du dataset et de la table\n",
        "project_id = \"generated-arena-448412-j7\"\n",
        "dataset_id = \"data_set_bi\"\n",
        "table_id = \"table_anova\"\n",
        "table_ref = f\"{project_id}.{dataset_id}.{table_id}\"\n",
        "\n",
        "#table_ref=\"generated-arena-448412-j7.data_set_bi.table_anova\"\n",
        "\n",
        "\n",
        "\n",
        "\n",
        "# 3️⃣ DELETE : Supprimer une ligne\n",
        "delete_query = f\"\"\"\n",
        "INSERT INTO `{table_ref}` (Bloc, Varietes, Code_Variete, Traitement, Num_plante, Num_feuille, Long, Larg, Epine, Nbre_feuille, Haut_Plante, Diam_plante)\n",
        "VALUES ('B1', 'Salmianae', 'ASS', 'Min', 'A7', 'Ay', 17, 5, 3, 9, 300, 24);\n",
        "\n",
        "\"\"\"\n",
        "client.query(delete_query).result()\n",
        "print(\"✅ Suppression réussie !\")\n"
      ],
      "metadata": {
        "id": "zfGm_4fHWxiY"
      },
      "execution_count": null,
      "outputs": []
    },
    {
      "cell_type": "markdown",
      "source": [
        "Définir la variable d'environnement : Définissez la variable d'environnement GOOGLE_APPLICATION_CREDENTIALS pour pointer vers votre fichier JSON de clé d'API."
      ],
      "metadata": {
        "id": "842T63rsJPsz"
      }
    },
    {
      "cell_type": "code",
      "source": [
        "import time\n",
        "import os\n",
        "\n",
        "os.environ[\"GOOGLE_APPLICATION_CREDENTIALS\"] = \"generated-arena-448412-j7-dcf6e1e98167.json\""
      ],
      "metadata": {
        "id": "K658TwVDJStX"
      },
      "execution_count": null,
      "outputs": []
    },
    {
      "cell_type": "code",
      "source": [
        "#on cree la table de destination qui va contenir les donnees scrappées\n",
        "from google.cloud import bigquery\n",
        "\n",
        "# Initialiser le client BigQuery\n",
        "client = bigquery.Client(location=\"EU\")\n",
        "\n",
        "\n",
        "# Définition du dataset et de la table\n",
        "project_id = \"generated-arena-448412-j7\"\n",
        "dataset_id = \"data_set_bi\"\n",
        "table_id = \"table_yahoo_data\"\n",
        "table_ref = f\"{project_id}.{dataset_id}.{table_id}\"\n",
        "\n",
        "#table_ref=\"generated-arena-448412-j7.data_set_bi.table_anova\"\n",
        "\n",
        "# 3️⃣ DELETE : Supprimer une ligne\n",
        "create_table = f\"\"\"\n",
        "CREATE TABLE `{table_ref}` (\n",
        "    Symbol STRING,\n",
        "    Name STRING,\n",
        "    Price FLOAT64,\n",
        "    Change FLOAT64,\n",
        "    Change_Percent FLOAT64,  -- Remplacement de \"Change %\" pour éviter le \"%\"\n",
        "    Volume FLOAT64,\n",
        "    Fifty_Day_Avg FLOAT64,  -- Remplacement de \"50 Day Average\"\n",
        "    Two_Hundred_Day_Avg FLOAT64,  -- Remplacement de \"200 Day Average\"\n",
        "    Three_Month_Return FLOAT64,  -- Conservé en STRING\n",
        "    YTD_Return FLOAT64,  -- Conservé en STRING\n",
        "    Fifty_Two_Wk_Change FLOAT64  -- Remplacement de \"52 Wk Change %\"\n",
        ");\n",
        "\n",
        "\"\"\"\n",
        "client.query(create_table).result()\n",
        "print(\"✅ creation réussie !\")\n"
      ],
      "metadata": {
        "id": "Ml81_D49qPF1"
      },
      "execution_count": null,
      "outputs": []
    },
    {
      "cell_type": "markdown",
      "source": [
        "#Partie scrapping"
      ],
      "metadata": {
        "id": "tx3uX7eKn45G"
      }
    },
    {
      "cell_type": "code",
      "source": [
        "import requests\n",
        "import pandas as pd\n",
        "# Fonction pour récupérer les tableaux avec gestion d'erreur\n",
        "def get_yahoo_table(url, headers):\n",
        "    try:\n",
        "        response = requests.get(url, headers=headers)\n",
        "        response.raise_for_status()  # Vérifie les erreurs HTTP (ex: 429, 404)\n",
        "\n",
        "        # Lire les tableaux HTML avec pandas\n",
        "        tables = pd.read_html(response.text)\n",
        "\n",
        "        if tables:\n",
        "            return tables[0]  # Retourner le premier tableau trouvé\n",
        "        else:\n",
        "            print(\"❌ Aucun tableau trouvé.\")\n",
        "            return None\n",
        "\n",
        "    except requests.exceptions.HTTPError as errh:\n",
        "        print(f\"🔴 Erreur HTTP: {errh}\")\n",
        "    except requests.exceptions.ConnectionError as errc:\n",
        "        print(f\"🔴 Erreur de connexion: {errc}\")\n",
        "    except requests.exceptions.Timeout as errt:\n",
        "        print(f\"🔴 Erreur de timeout: {errt}\")\n",
        "    except requests.exceptions.RequestException as err:\n",
        "        print(f\"🔴 Erreur inconnue: {err}\")\n",
        "\n",
        "    return None"
      ],
      "metadata": {
        "id": "sey4c7G3nqwx"
      },
      "execution_count": null,
      "outputs": []
    },
    {
      "cell_type": "code",
      "source": [
        "import requests\n",
        "from bs4 import BeautifulSoup\n",
        "import math\n",
        "import time\n",
        "\n",
        "while True:\n",
        "  # URL de la page\n",
        "  url = \"https://finance.yahoo.com/markets/etfs/most-active/?start=25&count=25\"\n",
        "\n",
        "  # En-têtes pour simuler une requête provenant d'un navigateur\n",
        "  headers = {\n",
        "      'User-Agent': 'Mozilla/5.0 (Windows NT 10.0; Win64; x64) AppleWebKit/537.36 (KHTML, like Gecko) Chrome/58.0.3029.110 Safari/537.3'\n",
        "  }\n",
        "\n",
        "  # Faire une requête HTTP avec les en-têtes\n",
        "  response = requests.get(url, headers=headers)\n",
        "  soup = BeautifulSoup(response.content, 'html.parser')\n",
        "\n",
        "  #pour recuperer le nombre maximale de ligne\n",
        "  ligne_max=soup.find(\"div\",class_=\"total yf-1tdhqb1\").text.split(\" \")[2]\n",
        "  ligne_max=math.floor(float(ligne_max)/25)\n",
        "  time.sleep(10)\n",
        "\n",
        "ligne_max\n",
        "\n"
      ],
      "metadata": {
        "colab": {
          "base_uri": "https://localhost:8080/"
        },
        "id": "h21uUoWgnsH_",
        "executionInfo": {
          "status": "ok",
          "timestamp": 1739982115877,
          "user_tz": 0,
          "elapsed": 729,
          "user": {
            "displayName": "",
            "userId": ""
          }
        },
        "outputId": "d4a2fa1e-bc3d-4eb1-98c8-4a60acdadc55"
      },
      "execution_count": null,
      "outputs": [
        {
          "output_type": "execute_result",
          "data": {
            "text/plain": [
              "52"
            ]
          },
          "metadata": {},
          "execution_count": 104
        }
      ]
    },
    {
      "cell_type": "code",
      "source": [
        "import requests\n",
        "from bs4 import BeautifulSoup\n",
        "from google.cloud import bigquery\n",
        "import pandas as pd\n",
        "\n",
        "while True:\n",
        "  url1 = \"https://finance.yahoo.com/markets/etfs/most-active/?start=\"\n",
        "  url2 = \"&count=25\"\n",
        "  #on cree une liste des url\n",
        "  list_num_url=[i * 25 for i in range(1, ligne_max+1)]\n",
        "  list_url=[url1+str(i)+url2 for i in list_num_url]\n",
        "  # En-têtes pour simuler un navigateur et éviter le blocage\n",
        "  headers = {\n",
        "      \"User-Agent\": \"Mozilla/5.0 (Windows NT 10.0; Win64; x64) AppleWebKit/537.36 (KHTML, like Gecko) Chrome/58.0.3029.110 Safari/537.3\"\n",
        "  }\n",
        "  # Concaténer les DataFrames avec une boucle\n",
        "  df_concat = pd.DataFrame()  # Initialisation d'un DataFrame vide\n",
        "  for url in list_url:\n",
        "    df = get_yahoo_table(url, headers)\n",
        "    df=pd.DataFrame(df)\n",
        "    df_concat = pd.concat([df_concat, df], axis=0, ignore_index=True)\n",
        "  time.sleep(10)\n",
        "\n",
        "df_concat\n",
        "\n"
      ],
      "metadata": {
        "colab": {
          "base_uri": "https://localhost:8080/",
          "height": 1000
        },
        "collapsed": true,
        "id": "hMgz-Rt8mjUi",
        "executionInfo": {
          "status": "ok",
          "timestamp": 1739982144046,
          "user_tz": 0,
          "elapsed": 24121,
          "user": {
            "displayName": "",
            "userId": ""
          }
        },
        "outputId": "bad112a3-b291-4d04-cf44-d8b44706506d"
      },
      "execution_count": null,
      "outputs": [
        {
          "output_type": "stream",
          "name": "stderr",
          "text": [
            "<ipython-input-103-ccfc34e83746>:10: FutureWarning: Passing literal html to 'read_html' is deprecated and will be removed in a future version. To read from a literal string, wrap it in a 'StringIO' object.\n",
            "  tables = pd.read_html(response.text)\n",
            "<ipython-input-103-ccfc34e83746>:10: FutureWarning: Passing literal html to 'read_html' is deprecated and will be removed in a future version. To read from a literal string, wrap it in a 'StringIO' object.\n",
            "  tables = pd.read_html(response.text)\n",
            "<ipython-input-103-ccfc34e83746>:10: FutureWarning: Passing literal html to 'read_html' is deprecated and will be removed in a future version. To read from a literal string, wrap it in a 'StringIO' object.\n",
            "  tables = pd.read_html(response.text)\n",
            "<ipython-input-103-ccfc34e83746>:10: FutureWarning: Passing literal html to 'read_html' is deprecated and will be removed in a future version. To read from a literal string, wrap it in a 'StringIO' object.\n",
            "  tables = pd.read_html(response.text)\n",
            "<ipython-input-103-ccfc34e83746>:10: FutureWarning: Passing literal html to 'read_html' is deprecated and will be removed in a future version. To read from a literal string, wrap it in a 'StringIO' object.\n",
            "  tables = pd.read_html(response.text)\n",
            "<ipython-input-103-ccfc34e83746>:10: FutureWarning: Passing literal html to 'read_html' is deprecated and will be removed in a future version. To read from a literal string, wrap it in a 'StringIO' object.\n",
            "  tables = pd.read_html(response.text)\n",
            "<ipython-input-103-ccfc34e83746>:10: FutureWarning: Passing literal html to 'read_html' is deprecated and will be removed in a future version. To read from a literal string, wrap it in a 'StringIO' object.\n",
            "  tables = pd.read_html(response.text)\n",
            "<ipython-input-103-ccfc34e83746>:10: FutureWarning: Passing literal html to 'read_html' is deprecated and will be removed in a future version. To read from a literal string, wrap it in a 'StringIO' object.\n",
            "  tables = pd.read_html(response.text)\n",
            "<ipython-input-103-ccfc34e83746>:10: FutureWarning: Passing literal html to 'read_html' is deprecated and will be removed in a future version. To read from a literal string, wrap it in a 'StringIO' object.\n",
            "  tables = pd.read_html(response.text)\n",
            "<ipython-input-103-ccfc34e83746>:10: FutureWarning: Passing literal html to 'read_html' is deprecated and will be removed in a future version. To read from a literal string, wrap it in a 'StringIO' object.\n",
            "  tables = pd.read_html(response.text)\n",
            "<ipython-input-103-ccfc34e83746>:10: FutureWarning: Passing literal html to 'read_html' is deprecated and will be removed in a future version. To read from a literal string, wrap it in a 'StringIO' object.\n",
            "  tables = pd.read_html(response.text)\n",
            "<ipython-input-103-ccfc34e83746>:10: FutureWarning: Passing literal html to 'read_html' is deprecated and will be removed in a future version. To read from a literal string, wrap it in a 'StringIO' object.\n",
            "  tables = pd.read_html(response.text)\n",
            "<ipython-input-103-ccfc34e83746>:10: FutureWarning: Passing literal html to 'read_html' is deprecated and will be removed in a future version. To read from a literal string, wrap it in a 'StringIO' object.\n",
            "  tables = pd.read_html(response.text)\n",
            "<ipython-input-103-ccfc34e83746>:10: FutureWarning: Passing literal html to 'read_html' is deprecated and will be removed in a future version. To read from a literal string, wrap it in a 'StringIO' object.\n",
            "  tables = pd.read_html(response.text)\n",
            "<ipython-input-103-ccfc34e83746>:10: FutureWarning: Passing literal html to 'read_html' is deprecated and will be removed in a future version. To read from a literal string, wrap it in a 'StringIO' object.\n",
            "  tables = pd.read_html(response.text)\n",
            "<ipython-input-103-ccfc34e83746>:10: FutureWarning: Passing literal html to 'read_html' is deprecated and will be removed in a future version. To read from a literal string, wrap it in a 'StringIO' object.\n",
            "  tables = pd.read_html(response.text)\n",
            "<ipython-input-103-ccfc34e83746>:10: FutureWarning: Passing literal html to 'read_html' is deprecated and will be removed in a future version. To read from a literal string, wrap it in a 'StringIO' object.\n",
            "  tables = pd.read_html(response.text)\n",
            "<ipython-input-103-ccfc34e83746>:10: FutureWarning: Passing literal html to 'read_html' is deprecated and will be removed in a future version. To read from a literal string, wrap it in a 'StringIO' object.\n",
            "  tables = pd.read_html(response.text)\n",
            "<ipython-input-103-ccfc34e83746>:10: FutureWarning: Passing literal html to 'read_html' is deprecated and will be removed in a future version. To read from a literal string, wrap it in a 'StringIO' object.\n",
            "  tables = pd.read_html(response.text)\n",
            "<ipython-input-103-ccfc34e83746>:10: FutureWarning: Passing literal html to 'read_html' is deprecated and will be removed in a future version. To read from a literal string, wrap it in a 'StringIO' object.\n",
            "  tables = pd.read_html(response.text)\n",
            "<ipython-input-103-ccfc34e83746>:10: FutureWarning: Passing literal html to 'read_html' is deprecated and will be removed in a future version. To read from a literal string, wrap it in a 'StringIO' object.\n",
            "  tables = pd.read_html(response.text)\n",
            "<ipython-input-103-ccfc34e83746>:10: FutureWarning: Passing literal html to 'read_html' is deprecated and will be removed in a future version. To read from a literal string, wrap it in a 'StringIO' object.\n",
            "  tables = pd.read_html(response.text)\n",
            "<ipython-input-103-ccfc34e83746>:10: FutureWarning: Passing literal html to 'read_html' is deprecated and will be removed in a future version. To read from a literal string, wrap it in a 'StringIO' object.\n",
            "  tables = pd.read_html(response.text)\n",
            "<ipython-input-103-ccfc34e83746>:10: FutureWarning: Passing literal html to 'read_html' is deprecated and will be removed in a future version. To read from a literal string, wrap it in a 'StringIO' object.\n",
            "  tables = pd.read_html(response.text)\n",
            "<ipython-input-103-ccfc34e83746>:10: FutureWarning: Passing literal html to 'read_html' is deprecated and will be removed in a future version. To read from a literal string, wrap it in a 'StringIO' object.\n",
            "  tables = pd.read_html(response.text)\n",
            "<ipython-input-103-ccfc34e83746>:10: FutureWarning: Passing literal html to 'read_html' is deprecated and will be removed in a future version. To read from a literal string, wrap it in a 'StringIO' object.\n",
            "  tables = pd.read_html(response.text)\n",
            "<ipython-input-103-ccfc34e83746>:10: FutureWarning: Passing literal html to 'read_html' is deprecated and will be removed in a future version. To read from a literal string, wrap it in a 'StringIO' object.\n",
            "  tables = pd.read_html(response.text)\n",
            "<ipython-input-103-ccfc34e83746>:10: FutureWarning: Passing literal html to 'read_html' is deprecated and will be removed in a future version. To read from a literal string, wrap it in a 'StringIO' object.\n",
            "  tables = pd.read_html(response.text)\n",
            "<ipython-input-103-ccfc34e83746>:10: FutureWarning: Passing literal html to 'read_html' is deprecated and will be removed in a future version. To read from a literal string, wrap it in a 'StringIO' object.\n",
            "  tables = pd.read_html(response.text)\n",
            "<ipython-input-103-ccfc34e83746>:10: FutureWarning: Passing literal html to 'read_html' is deprecated and will be removed in a future version. To read from a literal string, wrap it in a 'StringIO' object.\n",
            "  tables = pd.read_html(response.text)\n",
            "<ipython-input-103-ccfc34e83746>:10: FutureWarning: Passing literal html to 'read_html' is deprecated and will be removed in a future version. To read from a literal string, wrap it in a 'StringIO' object.\n",
            "  tables = pd.read_html(response.text)\n",
            "<ipython-input-103-ccfc34e83746>:10: FutureWarning: Passing literal html to 'read_html' is deprecated and will be removed in a future version. To read from a literal string, wrap it in a 'StringIO' object.\n",
            "  tables = pd.read_html(response.text)\n",
            "<ipython-input-103-ccfc34e83746>:10: FutureWarning: Passing literal html to 'read_html' is deprecated and will be removed in a future version. To read from a literal string, wrap it in a 'StringIO' object.\n",
            "  tables = pd.read_html(response.text)\n",
            "<ipython-input-103-ccfc34e83746>:10: FutureWarning: Passing literal html to 'read_html' is deprecated and will be removed in a future version. To read from a literal string, wrap it in a 'StringIO' object.\n",
            "  tables = pd.read_html(response.text)\n",
            "<ipython-input-103-ccfc34e83746>:10: FutureWarning: Passing literal html to 'read_html' is deprecated and will be removed in a future version. To read from a literal string, wrap it in a 'StringIO' object.\n",
            "  tables = pd.read_html(response.text)\n",
            "<ipython-input-103-ccfc34e83746>:10: FutureWarning: Passing literal html to 'read_html' is deprecated and will be removed in a future version. To read from a literal string, wrap it in a 'StringIO' object.\n",
            "  tables = pd.read_html(response.text)\n",
            "<ipython-input-103-ccfc34e83746>:10: FutureWarning: Passing literal html to 'read_html' is deprecated and will be removed in a future version. To read from a literal string, wrap it in a 'StringIO' object.\n",
            "  tables = pd.read_html(response.text)\n",
            "<ipython-input-103-ccfc34e83746>:10: FutureWarning: Passing literal html to 'read_html' is deprecated and will be removed in a future version. To read from a literal string, wrap it in a 'StringIO' object.\n",
            "  tables = pd.read_html(response.text)\n",
            "<ipython-input-103-ccfc34e83746>:10: FutureWarning: Passing literal html to 'read_html' is deprecated and will be removed in a future version. To read from a literal string, wrap it in a 'StringIO' object.\n",
            "  tables = pd.read_html(response.text)\n",
            "<ipython-input-103-ccfc34e83746>:10: FutureWarning: Passing literal html to 'read_html' is deprecated and will be removed in a future version. To read from a literal string, wrap it in a 'StringIO' object.\n",
            "  tables = pd.read_html(response.text)\n",
            "<ipython-input-103-ccfc34e83746>:10: FutureWarning: Passing literal html to 'read_html' is deprecated and will be removed in a future version. To read from a literal string, wrap it in a 'StringIO' object.\n",
            "  tables = pd.read_html(response.text)\n",
            "<ipython-input-103-ccfc34e83746>:10: FutureWarning: Passing literal html to 'read_html' is deprecated and will be removed in a future version. To read from a literal string, wrap it in a 'StringIO' object.\n",
            "  tables = pd.read_html(response.text)\n",
            "<ipython-input-103-ccfc34e83746>:10: FutureWarning: Passing literal html to 'read_html' is deprecated and will be removed in a future version. To read from a literal string, wrap it in a 'StringIO' object.\n",
            "  tables = pd.read_html(response.text)\n",
            "<ipython-input-103-ccfc34e83746>:10: FutureWarning: Passing literal html to 'read_html' is deprecated and will be removed in a future version. To read from a literal string, wrap it in a 'StringIO' object.\n",
            "  tables = pd.read_html(response.text)\n",
            "<ipython-input-103-ccfc34e83746>:10: FutureWarning: Passing literal html to 'read_html' is deprecated and will be removed in a future version. To read from a literal string, wrap it in a 'StringIO' object.\n",
            "  tables = pd.read_html(response.text)\n",
            "<ipython-input-103-ccfc34e83746>:10: FutureWarning: Passing literal html to 'read_html' is deprecated and will be removed in a future version. To read from a literal string, wrap it in a 'StringIO' object.\n",
            "  tables = pd.read_html(response.text)\n",
            "<ipython-input-103-ccfc34e83746>:10: FutureWarning: Passing literal html to 'read_html' is deprecated and will be removed in a future version. To read from a literal string, wrap it in a 'StringIO' object.\n",
            "  tables = pd.read_html(response.text)\n",
            "<ipython-input-103-ccfc34e83746>:10: FutureWarning: Passing literal html to 'read_html' is deprecated and will be removed in a future version. To read from a literal string, wrap it in a 'StringIO' object.\n",
            "  tables = pd.read_html(response.text)\n",
            "<ipython-input-103-ccfc34e83746>:10: FutureWarning: Passing literal html to 'read_html' is deprecated and will be removed in a future version. To read from a literal string, wrap it in a 'StringIO' object.\n",
            "  tables = pd.read_html(response.text)\n",
            "<ipython-input-103-ccfc34e83746>:10: FutureWarning: Passing literal html to 'read_html' is deprecated and will be removed in a future version. To read from a literal string, wrap it in a 'StringIO' object.\n",
            "  tables = pd.read_html(response.text)\n",
            "<ipython-input-103-ccfc34e83746>:10: FutureWarning: Passing literal html to 'read_html' is deprecated and will be removed in a future version. To read from a literal string, wrap it in a 'StringIO' object.\n",
            "  tables = pd.read_html(response.text)\n",
            "<ipython-input-103-ccfc34e83746>:10: FutureWarning: Passing literal html to 'read_html' is deprecated and will be removed in a future version. To read from a literal string, wrap it in a 'StringIO' object.\n",
            "  tables = pd.read_html(response.text)\n"
          ]
        },
        {
          "output_type": "execute_result",
          "data": {
            "text/plain": [
              "     Symbol                                               Name  Unnamed: 2  \\\n",
              "0      IEMG             iShares Core MSCI Emerging Markets ETF         NaN   \n",
              "1       QQQ                                  Invesco QQQ Trust         NaN   \n",
              "2       SLV                               iShares Silver Trust         NaN   \n",
              "3      VCSH  Vanguard Short-Term Corporate Bond Index Fund ...         NaN   \n",
              "4       TLT                 iShares 20+ Year Treasury Bond ETF         NaN   \n",
              "...     ...                                                ...         ...   \n",
              "1286   SNOV  FT Vest U.S. Small Cap Moderate Buffer ETF - N...         NaN   \n",
              "1287    GVI    iShares Intermediate Government/Credit Bond ETF         NaN   \n",
              "1288   JFLI                       JPMorgan Flexible Income ETF         NaN   \n",
              "1289   KNOW                             Fundamentals First ETF         NaN   \n",
              "1290   FNGG           Direxion Daily NYSE FANG+ Bull 2X Shares         NaN   \n",
              "\n",
              "                      Price  Change Change %  Volume 50 Day Average  \\\n",
              "0      55.22 -0.08 (-0.14%)   -0.08   -0.14%  6.667M          53.33   \n",
              "1     538.70 -0.67 (-0.12%)   -0.67   -0.12%  6.499M         523.03   \n",
              "2      29.70 -0.21 (-0.71%)   -0.21   -0.71%  6.158M           28.0   \n",
              "3        78.31 0.00 (0.00%)    0.00    0.00%  6.118M          78.19   \n",
              "4      88.24 +0.14 (+0.16%)    0.14   +0.16%  6.074M          88.63   \n",
              "...                     ...     ...      ...     ...            ...   \n",
              "1286   23.44 -0.12 (-0.51%)   -0.12   -0.51%   15113          23.42   \n",
              "1287  104.53 +0.02 (+0.02%)    0.02   +0.02%   15222         104.42   \n",
              "1288   49.63 -0.07 (-0.15%)   -0.07   -0.15%   15022          49.62   \n",
              "1289     11.02 0.00 (0.00%)    0.00    0.00%     102          10.95   \n",
              "1290  197.80 -2.21 (-1.10%)   -2.21   -1.10%   15002         189.07   \n",
              "\n",
              "     200 Day Average 3 Month Return YTD Return 52 Wk Change %  52 Wk Range  \n",
              "0              54.23         -2.11%     +1.29%          9.29%          NaN  \n",
              "1             488.59          8.12%     +2.23%         26.73%          NaN  \n",
              "2              27.65         -6.03%     +9.30%         42.70%          NaN  \n",
              "3              78.14          1.09%     +0.58%          1.62%          NaN  \n",
              "4              92.75         -3.96%     +0.46%         -4.43%          NaN  \n",
              "...              ...            ...        ...            ...          ...  \n",
              "1286           22.72          1.65%     +1.47%         11.98%          NaN  \n",
              "1287          104.87          0.52%     +0.53%          1.01%          NaN  \n",
              "1288           49.62              -         --          0.35%          NaN  \n",
              "1289           10.71          3.22%     +2.74%          8.79%          NaN  \n",
              "1290          152.89         31.66%     +5.21%         83.87%          NaN  \n",
              "\n",
              "[1291 rows x 13 columns]"
            ],
            "text/html": [
              "\n",
              "  <div id=\"df-7b9a1a29-80c2-4f57-95ee-6d8615012705\" class=\"colab-df-container\">\n",
              "    <div>\n",
              "<style scoped>\n",
              "    .dataframe tbody tr th:only-of-type {\n",
              "        vertical-align: middle;\n",
              "    }\n",
              "\n",
              "    .dataframe tbody tr th {\n",
              "        vertical-align: top;\n",
              "    }\n",
              "\n",
              "    .dataframe thead th {\n",
              "        text-align: right;\n",
              "    }\n",
              "</style>\n",
              "<table border=\"1\" class=\"dataframe\">\n",
              "  <thead>\n",
              "    <tr style=\"text-align: right;\">\n",
              "      <th></th>\n",
              "      <th>Symbol</th>\n",
              "      <th>Name</th>\n",
              "      <th>Unnamed: 2</th>\n",
              "      <th>Price</th>\n",
              "      <th>Change</th>\n",
              "      <th>Change %</th>\n",
              "      <th>Volume</th>\n",
              "      <th>50 Day Average</th>\n",
              "      <th>200 Day Average</th>\n",
              "      <th>3 Month Return</th>\n",
              "      <th>YTD Return</th>\n",
              "      <th>52 Wk Change %</th>\n",
              "      <th>52 Wk Range</th>\n",
              "    </tr>\n",
              "  </thead>\n",
              "  <tbody>\n",
              "    <tr>\n",
              "      <th>0</th>\n",
              "      <td>IEMG</td>\n",
              "      <td>iShares Core MSCI Emerging Markets ETF</td>\n",
              "      <td>NaN</td>\n",
              "      <td>55.22 -0.08 (-0.14%)</td>\n",
              "      <td>-0.08</td>\n",
              "      <td>-0.14%</td>\n",
              "      <td>6.667M</td>\n",
              "      <td>53.33</td>\n",
              "      <td>54.23</td>\n",
              "      <td>-2.11%</td>\n",
              "      <td>+1.29%</td>\n",
              "      <td>9.29%</td>\n",
              "      <td>NaN</td>\n",
              "    </tr>\n",
              "    <tr>\n",
              "      <th>1</th>\n",
              "      <td>QQQ</td>\n",
              "      <td>Invesco QQQ Trust</td>\n",
              "      <td>NaN</td>\n",
              "      <td>538.70 -0.67 (-0.12%)</td>\n",
              "      <td>-0.67</td>\n",
              "      <td>-0.12%</td>\n",
              "      <td>6.499M</td>\n",
              "      <td>523.03</td>\n",
              "      <td>488.59</td>\n",
              "      <td>8.12%</td>\n",
              "      <td>+2.23%</td>\n",
              "      <td>26.73%</td>\n",
              "      <td>NaN</td>\n",
              "    </tr>\n",
              "    <tr>\n",
              "      <th>2</th>\n",
              "      <td>SLV</td>\n",
              "      <td>iShares Silver Trust</td>\n",
              "      <td>NaN</td>\n",
              "      <td>29.70 -0.21 (-0.71%)</td>\n",
              "      <td>-0.21</td>\n",
              "      <td>-0.71%</td>\n",
              "      <td>6.158M</td>\n",
              "      <td>28.0</td>\n",
              "      <td>27.65</td>\n",
              "      <td>-6.03%</td>\n",
              "      <td>+9.30%</td>\n",
              "      <td>42.70%</td>\n",
              "      <td>NaN</td>\n",
              "    </tr>\n",
              "    <tr>\n",
              "      <th>3</th>\n",
              "      <td>VCSH</td>\n",
              "      <td>Vanguard Short-Term Corporate Bond Index Fund ...</td>\n",
              "      <td>NaN</td>\n",
              "      <td>78.31 0.00 (0.00%)</td>\n",
              "      <td>0.00</td>\n",
              "      <td>0.00%</td>\n",
              "      <td>6.118M</td>\n",
              "      <td>78.19</td>\n",
              "      <td>78.14</td>\n",
              "      <td>1.09%</td>\n",
              "      <td>+0.58%</td>\n",
              "      <td>1.62%</td>\n",
              "      <td>NaN</td>\n",
              "    </tr>\n",
              "    <tr>\n",
              "      <th>4</th>\n",
              "      <td>TLT</td>\n",
              "      <td>iShares 20+ Year Treasury Bond ETF</td>\n",
              "      <td>NaN</td>\n",
              "      <td>88.24 +0.14 (+0.16%)</td>\n",
              "      <td>0.14</td>\n",
              "      <td>+0.16%</td>\n",
              "      <td>6.074M</td>\n",
              "      <td>88.63</td>\n",
              "      <td>92.75</td>\n",
              "      <td>-3.96%</td>\n",
              "      <td>+0.46%</td>\n",
              "      <td>-4.43%</td>\n",
              "      <td>NaN</td>\n",
              "    </tr>\n",
              "    <tr>\n",
              "      <th>...</th>\n",
              "      <td>...</td>\n",
              "      <td>...</td>\n",
              "      <td>...</td>\n",
              "      <td>...</td>\n",
              "      <td>...</td>\n",
              "      <td>...</td>\n",
              "      <td>...</td>\n",
              "      <td>...</td>\n",
              "      <td>...</td>\n",
              "      <td>...</td>\n",
              "      <td>...</td>\n",
              "      <td>...</td>\n",
              "      <td>...</td>\n",
              "    </tr>\n",
              "    <tr>\n",
              "      <th>1286</th>\n",
              "      <td>SNOV</td>\n",
              "      <td>FT Vest U.S. Small Cap Moderate Buffer ETF - N...</td>\n",
              "      <td>NaN</td>\n",
              "      <td>23.44 -0.12 (-0.51%)</td>\n",
              "      <td>-0.12</td>\n",
              "      <td>-0.51%</td>\n",
              "      <td>15113</td>\n",
              "      <td>23.42</td>\n",
              "      <td>22.72</td>\n",
              "      <td>1.65%</td>\n",
              "      <td>+1.47%</td>\n",
              "      <td>11.98%</td>\n",
              "      <td>NaN</td>\n",
              "    </tr>\n",
              "    <tr>\n",
              "      <th>1287</th>\n",
              "      <td>GVI</td>\n",
              "      <td>iShares Intermediate Government/Credit Bond ETF</td>\n",
              "      <td>NaN</td>\n",
              "      <td>104.53 +0.02 (+0.02%)</td>\n",
              "      <td>0.02</td>\n",
              "      <td>+0.02%</td>\n",
              "      <td>15222</td>\n",
              "      <td>104.42</td>\n",
              "      <td>104.87</td>\n",
              "      <td>0.52%</td>\n",
              "      <td>+0.53%</td>\n",
              "      <td>1.01%</td>\n",
              "      <td>NaN</td>\n",
              "    </tr>\n",
              "    <tr>\n",
              "      <th>1288</th>\n",
              "      <td>JFLI</td>\n",
              "      <td>JPMorgan Flexible Income ETF</td>\n",
              "      <td>NaN</td>\n",
              "      <td>49.63 -0.07 (-0.15%)</td>\n",
              "      <td>-0.07</td>\n",
              "      <td>-0.15%</td>\n",
              "      <td>15022</td>\n",
              "      <td>49.62</td>\n",
              "      <td>49.62</td>\n",
              "      <td>-</td>\n",
              "      <td>--</td>\n",
              "      <td>0.35%</td>\n",
              "      <td>NaN</td>\n",
              "    </tr>\n",
              "    <tr>\n",
              "      <th>1289</th>\n",
              "      <td>KNOW</td>\n",
              "      <td>Fundamentals First ETF</td>\n",
              "      <td>NaN</td>\n",
              "      <td>11.02 0.00 (0.00%)</td>\n",
              "      <td>0.00</td>\n",
              "      <td>0.00%</td>\n",
              "      <td>102</td>\n",
              "      <td>10.95</td>\n",
              "      <td>10.71</td>\n",
              "      <td>3.22%</td>\n",
              "      <td>+2.74%</td>\n",
              "      <td>8.79%</td>\n",
              "      <td>NaN</td>\n",
              "    </tr>\n",
              "    <tr>\n",
              "      <th>1290</th>\n",
              "      <td>FNGG</td>\n",
              "      <td>Direxion Daily NYSE FANG+ Bull 2X Shares</td>\n",
              "      <td>NaN</td>\n",
              "      <td>197.80 -2.21 (-1.10%)</td>\n",
              "      <td>-2.21</td>\n",
              "      <td>-1.10%</td>\n",
              "      <td>15002</td>\n",
              "      <td>189.07</td>\n",
              "      <td>152.89</td>\n",
              "      <td>31.66%</td>\n",
              "      <td>+5.21%</td>\n",
              "      <td>83.87%</td>\n",
              "      <td>NaN</td>\n",
              "    </tr>\n",
              "  </tbody>\n",
              "</table>\n",
              "<p>1291 rows × 13 columns</p>\n",
              "</div>\n",
              "    <div class=\"colab-df-buttons\">\n",
              "\n",
              "  <div class=\"colab-df-container\">\n",
              "    <button class=\"colab-df-convert\" onclick=\"convertToInteractive('df-7b9a1a29-80c2-4f57-95ee-6d8615012705')\"\n",
              "            title=\"Convert this dataframe to an interactive table.\"\n",
              "            style=\"display:none;\">\n",
              "\n",
              "  <svg xmlns=\"http://www.w3.org/2000/svg\" height=\"24px\" viewBox=\"0 -960 960 960\">\n",
              "    <path d=\"M120-120v-720h720v720H120Zm60-500h600v-160H180v160Zm220 220h160v-160H400v160Zm0 220h160v-160H400v160ZM180-400h160v-160H180v160Zm440 0h160v-160H620v160ZM180-180h160v-160H180v160Zm440 0h160v-160H620v160Z\"/>\n",
              "  </svg>\n",
              "    </button>\n",
              "\n",
              "  <style>\n",
              "    .colab-df-container {\n",
              "      display:flex;\n",
              "      gap: 12px;\n",
              "    }\n",
              "\n",
              "    .colab-df-convert {\n",
              "      background-color: #E8F0FE;\n",
              "      border: none;\n",
              "      border-radius: 50%;\n",
              "      cursor: pointer;\n",
              "      display: none;\n",
              "      fill: #1967D2;\n",
              "      height: 32px;\n",
              "      padding: 0 0 0 0;\n",
              "      width: 32px;\n",
              "    }\n",
              "\n",
              "    .colab-df-convert:hover {\n",
              "      background-color: #E2EBFA;\n",
              "      box-shadow: 0px 1px 2px rgba(60, 64, 67, 0.3), 0px 1px 3px 1px rgba(60, 64, 67, 0.15);\n",
              "      fill: #174EA6;\n",
              "    }\n",
              "\n",
              "    .colab-df-buttons div {\n",
              "      margin-bottom: 4px;\n",
              "    }\n",
              "\n",
              "    [theme=dark] .colab-df-convert {\n",
              "      background-color: #3B4455;\n",
              "      fill: #D2E3FC;\n",
              "    }\n",
              "\n",
              "    [theme=dark] .colab-df-convert:hover {\n",
              "      background-color: #434B5C;\n",
              "      box-shadow: 0px 1px 3px 1px rgba(0, 0, 0, 0.15);\n",
              "      filter: drop-shadow(0px 1px 2px rgba(0, 0, 0, 0.3));\n",
              "      fill: #FFFFFF;\n",
              "    }\n",
              "  </style>\n",
              "\n",
              "    <script>\n",
              "      const buttonEl =\n",
              "        document.querySelector('#df-7b9a1a29-80c2-4f57-95ee-6d8615012705 button.colab-df-convert');\n",
              "      buttonEl.style.display =\n",
              "        google.colab.kernel.accessAllowed ? 'block' : 'none';\n",
              "\n",
              "      async function convertToInteractive(key) {\n",
              "        const element = document.querySelector('#df-7b9a1a29-80c2-4f57-95ee-6d8615012705');\n",
              "        const dataTable =\n",
              "          await google.colab.kernel.invokeFunction('convertToInteractive',\n",
              "                                                    [key], {});\n",
              "        if (!dataTable) return;\n",
              "\n",
              "        const docLinkHtml = 'Like what you see? Visit the ' +\n",
              "          '<a target=\"_blank\" href=https://colab.research.google.com/notebooks/data_table.ipynb>data table notebook</a>'\n",
              "          + ' to learn more about interactive tables.';\n",
              "        element.innerHTML = '';\n",
              "        dataTable['output_type'] = 'display_data';\n",
              "        await google.colab.output.renderOutput(dataTable, element);\n",
              "        const docLink = document.createElement('div');\n",
              "        docLink.innerHTML = docLinkHtml;\n",
              "        element.appendChild(docLink);\n",
              "      }\n",
              "    </script>\n",
              "  </div>\n",
              "\n",
              "\n",
              "<div id=\"df-d4625a50-0c07-4632-8f0e-39883d3c2425\">\n",
              "  <button class=\"colab-df-quickchart\" onclick=\"quickchart('df-d4625a50-0c07-4632-8f0e-39883d3c2425')\"\n",
              "            title=\"Suggest charts\"\n",
              "            style=\"display:none;\">\n",
              "\n",
              "<svg xmlns=\"http://www.w3.org/2000/svg\" height=\"24px\"viewBox=\"0 0 24 24\"\n",
              "     width=\"24px\">\n",
              "    <g>\n",
              "        <path d=\"M19 3H5c-1.1 0-2 .9-2 2v14c0 1.1.9 2 2 2h14c1.1 0 2-.9 2-2V5c0-1.1-.9-2-2-2zM9 17H7v-7h2v7zm4 0h-2V7h2v10zm4 0h-2v-4h2v4z\"/>\n",
              "    </g>\n",
              "</svg>\n",
              "  </button>\n",
              "\n",
              "<style>\n",
              "  .colab-df-quickchart {\n",
              "      --bg-color: #E8F0FE;\n",
              "      --fill-color: #1967D2;\n",
              "      --hover-bg-color: #E2EBFA;\n",
              "      --hover-fill-color: #174EA6;\n",
              "      --disabled-fill-color: #AAA;\n",
              "      --disabled-bg-color: #DDD;\n",
              "  }\n",
              "\n",
              "  [theme=dark] .colab-df-quickchart {\n",
              "      --bg-color: #3B4455;\n",
              "      --fill-color: #D2E3FC;\n",
              "      --hover-bg-color: #434B5C;\n",
              "      --hover-fill-color: #FFFFFF;\n",
              "      --disabled-bg-color: #3B4455;\n",
              "      --disabled-fill-color: #666;\n",
              "  }\n",
              "\n",
              "  .colab-df-quickchart {\n",
              "    background-color: var(--bg-color);\n",
              "    border: none;\n",
              "    border-radius: 50%;\n",
              "    cursor: pointer;\n",
              "    display: none;\n",
              "    fill: var(--fill-color);\n",
              "    height: 32px;\n",
              "    padding: 0;\n",
              "    width: 32px;\n",
              "  }\n",
              "\n",
              "  .colab-df-quickchart:hover {\n",
              "    background-color: var(--hover-bg-color);\n",
              "    box-shadow: 0 1px 2px rgba(60, 64, 67, 0.3), 0 1px 3px 1px rgba(60, 64, 67, 0.15);\n",
              "    fill: var(--button-hover-fill-color);\n",
              "  }\n",
              "\n",
              "  .colab-df-quickchart-complete:disabled,\n",
              "  .colab-df-quickchart-complete:disabled:hover {\n",
              "    background-color: var(--disabled-bg-color);\n",
              "    fill: var(--disabled-fill-color);\n",
              "    box-shadow: none;\n",
              "  }\n",
              "\n",
              "  .colab-df-spinner {\n",
              "    border: 2px solid var(--fill-color);\n",
              "    border-color: transparent;\n",
              "    border-bottom-color: var(--fill-color);\n",
              "    animation:\n",
              "      spin 1s steps(1) infinite;\n",
              "  }\n",
              "\n",
              "  @keyframes spin {\n",
              "    0% {\n",
              "      border-color: transparent;\n",
              "      border-bottom-color: var(--fill-color);\n",
              "      border-left-color: var(--fill-color);\n",
              "    }\n",
              "    20% {\n",
              "      border-color: transparent;\n",
              "      border-left-color: var(--fill-color);\n",
              "      border-top-color: var(--fill-color);\n",
              "    }\n",
              "    30% {\n",
              "      border-color: transparent;\n",
              "      border-left-color: var(--fill-color);\n",
              "      border-top-color: var(--fill-color);\n",
              "      border-right-color: var(--fill-color);\n",
              "    }\n",
              "    40% {\n",
              "      border-color: transparent;\n",
              "      border-right-color: var(--fill-color);\n",
              "      border-top-color: var(--fill-color);\n",
              "    }\n",
              "    60% {\n",
              "      border-color: transparent;\n",
              "      border-right-color: var(--fill-color);\n",
              "    }\n",
              "    80% {\n",
              "      border-color: transparent;\n",
              "      border-right-color: var(--fill-color);\n",
              "      border-bottom-color: var(--fill-color);\n",
              "    }\n",
              "    90% {\n",
              "      border-color: transparent;\n",
              "      border-bottom-color: var(--fill-color);\n",
              "    }\n",
              "  }\n",
              "</style>\n",
              "\n",
              "  <script>\n",
              "    async function quickchart(key) {\n",
              "      const quickchartButtonEl =\n",
              "        document.querySelector('#' + key + ' button');\n",
              "      quickchartButtonEl.disabled = true;  // To prevent multiple clicks.\n",
              "      quickchartButtonEl.classList.add('colab-df-spinner');\n",
              "      try {\n",
              "        const charts = await google.colab.kernel.invokeFunction(\n",
              "            'suggestCharts', [key], {});\n",
              "      } catch (error) {\n",
              "        console.error('Error during call to suggestCharts:', error);\n",
              "      }\n",
              "      quickchartButtonEl.classList.remove('colab-df-spinner');\n",
              "      quickchartButtonEl.classList.add('colab-df-quickchart-complete');\n",
              "    }\n",
              "    (() => {\n",
              "      let quickchartButtonEl =\n",
              "        document.querySelector('#df-d4625a50-0c07-4632-8f0e-39883d3c2425 button');\n",
              "      quickchartButtonEl.style.display =\n",
              "        google.colab.kernel.accessAllowed ? 'block' : 'none';\n",
              "    })();\n",
              "  </script>\n",
              "</div>\n",
              "\n",
              "  <div id=\"id_f9245f50-3bdb-484f-a12a-bf040d5299d8\">\n",
              "    <style>\n",
              "      .colab-df-generate {\n",
              "        background-color: #E8F0FE;\n",
              "        border: none;\n",
              "        border-radius: 50%;\n",
              "        cursor: pointer;\n",
              "        display: none;\n",
              "        fill: #1967D2;\n",
              "        height: 32px;\n",
              "        padding: 0 0 0 0;\n",
              "        width: 32px;\n",
              "      }\n",
              "\n",
              "      .colab-df-generate:hover {\n",
              "        background-color: #E2EBFA;\n",
              "        box-shadow: 0px 1px 2px rgba(60, 64, 67, 0.3), 0px 1px 3px 1px rgba(60, 64, 67, 0.15);\n",
              "        fill: #174EA6;\n",
              "      }\n",
              "\n",
              "      [theme=dark] .colab-df-generate {\n",
              "        background-color: #3B4455;\n",
              "        fill: #D2E3FC;\n",
              "      }\n",
              "\n",
              "      [theme=dark] .colab-df-generate:hover {\n",
              "        background-color: #434B5C;\n",
              "        box-shadow: 0px 1px 3px 1px rgba(0, 0, 0, 0.15);\n",
              "        filter: drop-shadow(0px 1px 2px rgba(0, 0, 0, 0.3));\n",
              "        fill: #FFFFFF;\n",
              "      }\n",
              "    </style>\n",
              "    <button class=\"colab-df-generate\" onclick=\"generateWithVariable('df_concat')\"\n",
              "            title=\"Generate code using this dataframe.\"\n",
              "            style=\"display:none;\">\n",
              "\n",
              "  <svg xmlns=\"http://www.w3.org/2000/svg\" height=\"24px\"viewBox=\"0 0 24 24\"\n",
              "       width=\"24px\">\n",
              "    <path d=\"M7,19H8.4L18.45,9,17,7.55,7,17.6ZM5,21V16.75L18.45,3.32a2,2,0,0,1,2.83,0l1.4,1.43a1.91,1.91,0,0,1,.58,1.4,1.91,1.91,0,0,1-.58,1.4L9.25,21ZM18.45,9,17,7.55Zm-12,3A5.31,5.31,0,0,0,4.9,8.1,5.31,5.31,0,0,0,1,6.5,5.31,5.31,0,0,0,4.9,4.9,5.31,5.31,0,0,0,6.5,1,5.31,5.31,0,0,0,8.1,4.9,5.31,5.31,0,0,0,12,6.5,5.46,5.46,0,0,0,6.5,12Z\"/>\n",
              "  </svg>\n",
              "    </button>\n",
              "    <script>\n",
              "      (() => {\n",
              "      const buttonEl =\n",
              "        document.querySelector('#id_f9245f50-3bdb-484f-a12a-bf040d5299d8 button.colab-df-generate');\n",
              "      buttonEl.style.display =\n",
              "        google.colab.kernel.accessAllowed ? 'block' : 'none';\n",
              "\n",
              "      buttonEl.onclick = () => {\n",
              "        google.colab.notebook.generateWithVariable('df_concat');\n",
              "      }\n",
              "      })();\n",
              "    </script>\n",
              "  </div>\n",
              "\n",
              "    </div>\n",
              "  </div>\n"
            ]
          },
          "metadata": {},
          "execution_count": 105
        }
      ]
    },
    {
      "cell_type": "markdown",
      "source": [
        "#Nettoyage de la base"
      ],
      "metadata": {
        "id": "IYq1IJHXoC5q"
      }
    },
    {
      "cell_type": "code",
      "source": [
        "df_concat.dtypes\n",
        "#df_concat[\"Price\"]=list(df_concat[\"Price\"]).strip()[2]"
      ],
      "metadata": {
        "colab": {
          "base_uri": "https://localhost:8080/",
          "height": 491
        },
        "id": "OU50OjcuunQ4",
        "executionInfo": {
          "status": "ok",
          "timestamp": 1739978005722,
          "user_tz": 0,
          "elapsed": 431,
          "user": {
            "displayName": "",
            "userId": ""
          }
        },
        "outputId": "7fb6ad76-f1bb-419b-96d0-b9d9f986d7e1"
      },
      "execution_count": null,
      "outputs": [
        {
          "output_type": "execute_result",
          "data": {
            "text/plain": [
              "Symbol              object\n",
              "Name                object\n",
              "Unnamed: 2         float64\n",
              "Price               object\n",
              "Change             float64\n",
              "Change %            object\n",
              "Volume              object\n",
              "50 Day Average     float64\n",
              "200 Day Average    float64\n",
              "3 Month Return      object\n",
              "YTD Return          object\n",
              "52 Wk Change %      object\n",
              "52 Wk Range        float64\n",
              "dtype: object"
            ],
            "text/html": [
              "<div>\n",
              "<style scoped>\n",
              "    .dataframe tbody tr th:only-of-type {\n",
              "        vertical-align: middle;\n",
              "    }\n",
              "\n",
              "    .dataframe tbody tr th {\n",
              "        vertical-align: top;\n",
              "    }\n",
              "\n",
              "    .dataframe thead th {\n",
              "        text-align: right;\n",
              "    }\n",
              "</style>\n",
              "<table border=\"1\" class=\"dataframe\">\n",
              "  <thead>\n",
              "    <tr style=\"text-align: right;\">\n",
              "      <th></th>\n",
              "      <th>0</th>\n",
              "    </tr>\n",
              "  </thead>\n",
              "  <tbody>\n",
              "    <tr>\n",
              "      <th>Symbol</th>\n",
              "      <td>object</td>\n",
              "    </tr>\n",
              "    <tr>\n",
              "      <th>Name</th>\n",
              "      <td>object</td>\n",
              "    </tr>\n",
              "    <tr>\n",
              "      <th>Unnamed: 2</th>\n",
              "      <td>float64</td>\n",
              "    </tr>\n",
              "    <tr>\n",
              "      <th>Price</th>\n",
              "      <td>object</td>\n",
              "    </tr>\n",
              "    <tr>\n",
              "      <th>Change</th>\n",
              "      <td>float64</td>\n",
              "    </tr>\n",
              "    <tr>\n",
              "      <th>Change %</th>\n",
              "      <td>object</td>\n",
              "    </tr>\n",
              "    <tr>\n",
              "      <th>Volume</th>\n",
              "      <td>object</td>\n",
              "    </tr>\n",
              "    <tr>\n",
              "      <th>50 Day Average</th>\n",
              "      <td>float64</td>\n",
              "    </tr>\n",
              "    <tr>\n",
              "      <th>200 Day Average</th>\n",
              "      <td>float64</td>\n",
              "    </tr>\n",
              "    <tr>\n",
              "      <th>3 Month Return</th>\n",
              "      <td>object</td>\n",
              "    </tr>\n",
              "    <tr>\n",
              "      <th>YTD Return</th>\n",
              "      <td>object</td>\n",
              "    </tr>\n",
              "    <tr>\n",
              "      <th>52 Wk Change %</th>\n",
              "      <td>object</td>\n",
              "    </tr>\n",
              "    <tr>\n",
              "      <th>52 Wk Range</th>\n",
              "      <td>float64</td>\n",
              "    </tr>\n",
              "  </tbody>\n",
              "</table>\n",
              "</div><br><label><b>dtype:</b> object</label>"
            ]
          },
          "metadata": {},
          "execution_count": 52
        }
      ]
    },
    {
      "cell_type": "code",
      "source": [
        "import pandas as pd\n",
        "import time\n",
        "\n",
        "\n",
        "# Fonction pour convertir une chaîne de pourcentage en numérique\n",
        "def convertir_pourcentage_en_numeric(valeur):\n",
        "    if isinstance(valeur, str) and valeur.endswith('%'):  # Vérifier si c'est une chaîne avec '%'\n",
        "        try:\n",
        "            return float(valeur.strip('%')) / 100  # Supprimer '%' et convertir en float\n",
        "        except ValueError:\n",
        "            return None  # Si la conversion échoue, retourner None\n",
        "    return valeur  # Si ce n'est pas une chaîne avec '%', on garde la valeur originale\n",
        "\n",
        "\n",
        "\n",
        "while True:\n",
        "  # Liste des colonnes à modifier\n",
        "  var_modif = [\"52 Wk Change %\", \"YTD Return\", \"3 Month Return\", \"Change %\"]\n",
        "\n",
        "  # Appliquer la conversion en s'assurant que la colonne existe\n",
        "  for var in var_modif:\n",
        "      if var in df_concat.columns:\n",
        "          df_concat[var] = df_concat[var].apply(convertir_pourcentage_en_numeric)\n",
        "  time.sleep(10)\n",
        "\n",
        "\n",
        "# Afficher le DataFrame mis à jour\n",
        "df_concat.head()\n"
      ],
      "metadata": {
        "colab": {
          "base_uri": "https://localhost:8080/",
          "height": 501
        },
        "id": "3bSrz-5Ew7Wm",
        "executionInfo": {
          "status": "ok",
          "timestamp": 1739982144047,
          "user_tz": 0,
          "elapsed": 7,
          "user": {
            "displayName": "",
            "userId": ""
          }
        },
        "outputId": "3da6a933-2130-4df6-c48f-dfb153ad796c"
      },
      "execution_count": null,
      "outputs": [
        {
          "output_type": "execute_result",
          "data": {
            "text/plain": [
              "  Symbol                                               Name  Unnamed: 2  \\\n",
              "0   IEMG             iShares Core MSCI Emerging Markets ETF         NaN   \n",
              "1    QQQ                                  Invesco QQQ Trust         NaN   \n",
              "2    SLV                               iShares Silver Trust         NaN   \n",
              "3   VCSH  Vanguard Short-Term Corporate Bond Index Fund ...         NaN   \n",
              "4    TLT                 iShares 20+ Year Treasury Bond ETF         NaN   \n",
              "\n",
              "                   Price  Change  Change %  Volume 50 Day Average  \\\n",
              "0   55.22 -0.08 (-0.14%)   -0.08   -0.0014  6.667M          53.33   \n",
              "1  538.70 -0.67 (-0.12%)   -0.67   -0.0012  6.499M         523.03   \n",
              "2   29.70 -0.21 (-0.71%)   -0.21   -0.0071  6.158M           28.0   \n",
              "3     78.31 0.00 (0.00%)    0.00    0.0000  6.118M          78.19   \n",
              "4   88.24 +0.14 (+0.16%)    0.14    0.0016  6.074M          88.63   \n",
              "\n",
              "  200 Day Average 3 Month Return YTD Return 52 Wk Change %  52 Wk Range  \n",
              "0           54.23        -0.0211     0.0129         0.0929          NaN  \n",
              "1          488.59         0.0812     0.0223         0.2673          NaN  \n",
              "2           27.65        -0.0603      0.093          0.427          NaN  \n",
              "3           78.14         0.0109     0.0058         0.0162          NaN  \n",
              "4           92.75        -0.0396     0.0046        -0.0443          NaN  "
            ],
            "text/html": [
              "\n",
              "  <div id=\"df-4e214150-5a49-41ef-a0f1-9c6ad3e73d90\" class=\"colab-df-container\">\n",
              "    <div>\n",
              "<style scoped>\n",
              "    .dataframe tbody tr th:only-of-type {\n",
              "        vertical-align: middle;\n",
              "    }\n",
              "\n",
              "    .dataframe tbody tr th {\n",
              "        vertical-align: top;\n",
              "    }\n",
              "\n",
              "    .dataframe thead th {\n",
              "        text-align: right;\n",
              "    }\n",
              "</style>\n",
              "<table border=\"1\" class=\"dataframe\">\n",
              "  <thead>\n",
              "    <tr style=\"text-align: right;\">\n",
              "      <th></th>\n",
              "      <th>Symbol</th>\n",
              "      <th>Name</th>\n",
              "      <th>Unnamed: 2</th>\n",
              "      <th>Price</th>\n",
              "      <th>Change</th>\n",
              "      <th>Change %</th>\n",
              "      <th>Volume</th>\n",
              "      <th>50 Day Average</th>\n",
              "      <th>200 Day Average</th>\n",
              "      <th>3 Month Return</th>\n",
              "      <th>YTD Return</th>\n",
              "      <th>52 Wk Change %</th>\n",
              "      <th>52 Wk Range</th>\n",
              "    </tr>\n",
              "  </thead>\n",
              "  <tbody>\n",
              "    <tr>\n",
              "      <th>0</th>\n",
              "      <td>IEMG</td>\n",
              "      <td>iShares Core MSCI Emerging Markets ETF</td>\n",
              "      <td>NaN</td>\n",
              "      <td>55.22 -0.08 (-0.14%)</td>\n",
              "      <td>-0.08</td>\n",
              "      <td>-0.0014</td>\n",
              "      <td>6.667M</td>\n",
              "      <td>53.33</td>\n",
              "      <td>54.23</td>\n",
              "      <td>-0.0211</td>\n",
              "      <td>0.0129</td>\n",
              "      <td>0.0929</td>\n",
              "      <td>NaN</td>\n",
              "    </tr>\n",
              "    <tr>\n",
              "      <th>1</th>\n",
              "      <td>QQQ</td>\n",
              "      <td>Invesco QQQ Trust</td>\n",
              "      <td>NaN</td>\n",
              "      <td>538.70 -0.67 (-0.12%)</td>\n",
              "      <td>-0.67</td>\n",
              "      <td>-0.0012</td>\n",
              "      <td>6.499M</td>\n",
              "      <td>523.03</td>\n",
              "      <td>488.59</td>\n",
              "      <td>0.0812</td>\n",
              "      <td>0.0223</td>\n",
              "      <td>0.2673</td>\n",
              "      <td>NaN</td>\n",
              "    </tr>\n",
              "    <tr>\n",
              "      <th>2</th>\n",
              "      <td>SLV</td>\n",
              "      <td>iShares Silver Trust</td>\n",
              "      <td>NaN</td>\n",
              "      <td>29.70 -0.21 (-0.71%)</td>\n",
              "      <td>-0.21</td>\n",
              "      <td>-0.0071</td>\n",
              "      <td>6.158M</td>\n",
              "      <td>28.0</td>\n",
              "      <td>27.65</td>\n",
              "      <td>-0.0603</td>\n",
              "      <td>0.093</td>\n",
              "      <td>0.427</td>\n",
              "      <td>NaN</td>\n",
              "    </tr>\n",
              "    <tr>\n",
              "      <th>3</th>\n",
              "      <td>VCSH</td>\n",
              "      <td>Vanguard Short-Term Corporate Bond Index Fund ...</td>\n",
              "      <td>NaN</td>\n",
              "      <td>78.31 0.00 (0.00%)</td>\n",
              "      <td>0.00</td>\n",
              "      <td>0.0000</td>\n",
              "      <td>6.118M</td>\n",
              "      <td>78.19</td>\n",
              "      <td>78.14</td>\n",
              "      <td>0.0109</td>\n",
              "      <td>0.0058</td>\n",
              "      <td>0.0162</td>\n",
              "      <td>NaN</td>\n",
              "    </tr>\n",
              "    <tr>\n",
              "      <th>4</th>\n",
              "      <td>TLT</td>\n",
              "      <td>iShares 20+ Year Treasury Bond ETF</td>\n",
              "      <td>NaN</td>\n",
              "      <td>88.24 +0.14 (+0.16%)</td>\n",
              "      <td>0.14</td>\n",
              "      <td>0.0016</td>\n",
              "      <td>6.074M</td>\n",
              "      <td>88.63</td>\n",
              "      <td>92.75</td>\n",
              "      <td>-0.0396</td>\n",
              "      <td>0.0046</td>\n",
              "      <td>-0.0443</td>\n",
              "      <td>NaN</td>\n",
              "    </tr>\n",
              "  </tbody>\n",
              "</table>\n",
              "</div>\n",
              "    <div class=\"colab-df-buttons\">\n",
              "\n",
              "  <div class=\"colab-df-container\">\n",
              "    <button class=\"colab-df-convert\" onclick=\"convertToInteractive('df-4e214150-5a49-41ef-a0f1-9c6ad3e73d90')\"\n",
              "            title=\"Convert this dataframe to an interactive table.\"\n",
              "            style=\"display:none;\">\n",
              "\n",
              "  <svg xmlns=\"http://www.w3.org/2000/svg\" height=\"24px\" viewBox=\"0 -960 960 960\">\n",
              "    <path d=\"M120-120v-720h720v720H120Zm60-500h600v-160H180v160Zm220 220h160v-160H400v160Zm0 220h160v-160H400v160ZM180-400h160v-160H180v160Zm440 0h160v-160H620v160ZM180-180h160v-160H180v160Zm440 0h160v-160H620v160Z\"/>\n",
              "  </svg>\n",
              "    </button>\n",
              "\n",
              "  <style>\n",
              "    .colab-df-container {\n",
              "      display:flex;\n",
              "      gap: 12px;\n",
              "    }\n",
              "\n",
              "    .colab-df-convert {\n",
              "      background-color: #E8F0FE;\n",
              "      border: none;\n",
              "      border-radius: 50%;\n",
              "      cursor: pointer;\n",
              "      display: none;\n",
              "      fill: #1967D2;\n",
              "      height: 32px;\n",
              "      padding: 0 0 0 0;\n",
              "      width: 32px;\n",
              "    }\n",
              "\n",
              "    .colab-df-convert:hover {\n",
              "      background-color: #E2EBFA;\n",
              "      box-shadow: 0px 1px 2px rgba(60, 64, 67, 0.3), 0px 1px 3px 1px rgba(60, 64, 67, 0.15);\n",
              "      fill: #174EA6;\n",
              "    }\n",
              "\n",
              "    .colab-df-buttons div {\n",
              "      margin-bottom: 4px;\n",
              "    }\n",
              "\n",
              "    [theme=dark] .colab-df-convert {\n",
              "      background-color: #3B4455;\n",
              "      fill: #D2E3FC;\n",
              "    }\n",
              "\n",
              "    [theme=dark] .colab-df-convert:hover {\n",
              "      background-color: #434B5C;\n",
              "      box-shadow: 0px 1px 3px 1px rgba(0, 0, 0, 0.15);\n",
              "      filter: drop-shadow(0px 1px 2px rgba(0, 0, 0, 0.3));\n",
              "      fill: #FFFFFF;\n",
              "    }\n",
              "  </style>\n",
              "\n",
              "    <script>\n",
              "      const buttonEl =\n",
              "        document.querySelector('#df-4e214150-5a49-41ef-a0f1-9c6ad3e73d90 button.colab-df-convert');\n",
              "      buttonEl.style.display =\n",
              "        google.colab.kernel.accessAllowed ? 'block' : 'none';\n",
              "\n",
              "      async function convertToInteractive(key) {\n",
              "        const element = document.querySelector('#df-4e214150-5a49-41ef-a0f1-9c6ad3e73d90');\n",
              "        const dataTable =\n",
              "          await google.colab.kernel.invokeFunction('convertToInteractive',\n",
              "                                                    [key], {});\n",
              "        if (!dataTable) return;\n",
              "\n",
              "        const docLinkHtml = 'Like what you see? Visit the ' +\n",
              "          '<a target=\"_blank\" href=https://colab.research.google.com/notebooks/data_table.ipynb>data table notebook</a>'\n",
              "          + ' to learn more about interactive tables.';\n",
              "        element.innerHTML = '';\n",
              "        dataTable['output_type'] = 'display_data';\n",
              "        await google.colab.output.renderOutput(dataTable, element);\n",
              "        const docLink = document.createElement('div');\n",
              "        docLink.innerHTML = docLinkHtml;\n",
              "        element.appendChild(docLink);\n",
              "      }\n",
              "    </script>\n",
              "  </div>\n",
              "\n",
              "\n",
              "<div id=\"df-5cf671c6-1748-4c72-94cb-b6d7fa4a169d\">\n",
              "  <button class=\"colab-df-quickchart\" onclick=\"quickchart('df-5cf671c6-1748-4c72-94cb-b6d7fa4a169d')\"\n",
              "            title=\"Suggest charts\"\n",
              "            style=\"display:none;\">\n",
              "\n",
              "<svg xmlns=\"http://www.w3.org/2000/svg\" height=\"24px\"viewBox=\"0 0 24 24\"\n",
              "     width=\"24px\">\n",
              "    <g>\n",
              "        <path d=\"M19 3H5c-1.1 0-2 .9-2 2v14c0 1.1.9 2 2 2h14c1.1 0 2-.9 2-2V5c0-1.1-.9-2-2-2zM9 17H7v-7h2v7zm4 0h-2V7h2v10zm4 0h-2v-4h2v4z\"/>\n",
              "    </g>\n",
              "</svg>\n",
              "  </button>\n",
              "\n",
              "<style>\n",
              "  .colab-df-quickchart {\n",
              "      --bg-color: #E8F0FE;\n",
              "      --fill-color: #1967D2;\n",
              "      --hover-bg-color: #E2EBFA;\n",
              "      --hover-fill-color: #174EA6;\n",
              "      --disabled-fill-color: #AAA;\n",
              "      --disabled-bg-color: #DDD;\n",
              "  }\n",
              "\n",
              "  [theme=dark] .colab-df-quickchart {\n",
              "      --bg-color: #3B4455;\n",
              "      --fill-color: #D2E3FC;\n",
              "      --hover-bg-color: #434B5C;\n",
              "      --hover-fill-color: #FFFFFF;\n",
              "      --disabled-bg-color: #3B4455;\n",
              "      --disabled-fill-color: #666;\n",
              "  }\n",
              "\n",
              "  .colab-df-quickchart {\n",
              "    background-color: var(--bg-color);\n",
              "    border: none;\n",
              "    border-radius: 50%;\n",
              "    cursor: pointer;\n",
              "    display: none;\n",
              "    fill: var(--fill-color);\n",
              "    height: 32px;\n",
              "    padding: 0;\n",
              "    width: 32px;\n",
              "  }\n",
              "\n",
              "  .colab-df-quickchart:hover {\n",
              "    background-color: var(--hover-bg-color);\n",
              "    box-shadow: 0 1px 2px rgba(60, 64, 67, 0.3), 0 1px 3px 1px rgba(60, 64, 67, 0.15);\n",
              "    fill: var(--button-hover-fill-color);\n",
              "  }\n",
              "\n",
              "  .colab-df-quickchart-complete:disabled,\n",
              "  .colab-df-quickchart-complete:disabled:hover {\n",
              "    background-color: var(--disabled-bg-color);\n",
              "    fill: var(--disabled-fill-color);\n",
              "    box-shadow: none;\n",
              "  }\n",
              "\n",
              "  .colab-df-spinner {\n",
              "    border: 2px solid var(--fill-color);\n",
              "    border-color: transparent;\n",
              "    border-bottom-color: var(--fill-color);\n",
              "    animation:\n",
              "      spin 1s steps(1) infinite;\n",
              "  }\n",
              "\n",
              "  @keyframes spin {\n",
              "    0% {\n",
              "      border-color: transparent;\n",
              "      border-bottom-color: var(--fill-color);\n",
              "      border-left-color: var(--fill-color);\n",
              "    }\n",
              "    20% {\n",
              "      border-color: transparent;\n",
              "      border-left-color: var(--fill-color);\n",
              "      border-top-color: var(--fill-color);\n",
              "    }\n",
              "    30% {\n",
              "      border-color: transparent;\n",
              "      border-left-color: var(--fill-color);\n",
              "      border-top-color: var(--fill-color);\n",
              "      border-right-color: var(--fill-color);\n",
              "    }\n",
              "    40% {\n",
              "      border-color: transparent;\n",
              "      border-right-color: var(--fill-color);\n",
              "      border-top-color: var(--fill-color);\n",
              "    }\n",
              "    60% {\n",
              "      border-color: transparent;\n",
              "      border-right-color: var(--fill-color);\n",
              "    }\n",
              "    80% {\n",
              "      border-color: transparent;\n",
              "      border-right-color: var(--fill-color);\n",
              "      border-bottom-color: var(--fill-color);\n",
              "    }\n",
              "    90% {\n",
              "      border-color: transparent;\n",
              "      border-bottom-color: var(--fill-color);\n",
              "    }\n",
              "  }\n",
              "</style>\n",
              "\n",
              "  <script>\n",
              "    async function quickchart(key) {\n",
              "      const quickchartButtonEl =\n",
              "        document.querySelector('#' + key + ' button');\n",
              "      quickchartButtonEl.disabled = true;  // To prevent multiple clicks.\n",
              "      quickchartButtonEl.classList.add('colab-df-spinner');\n",
              "      try {\n",
              "        const charts = await google.colab.kernel.invokeFunction(\n",
              "            'suggestCharts', [key], {});\n",
              "      } catch (error) {\n",
              "        console.error('Error during call to suggestCharts:', error);\n",
              "      }\n",
              "      quickchartButtonEl.classList.remove('colab-df-spinner');\n",
              "      quickchartButtonEl.classList.add('colab-df-quickchart-complete');\n",
              "    }\n",
              "    (() => {\n",
              "      let quickchartButtonEl =\n",
              "        document.querySelector('#df-5cf671c6-1748-4c72-94cb-b6d7fa4a169d button');\n",
              "      quickchartButtonEl.style.display =\n",
              "        google.colab.kernel.accessAllowed ? 'block' : 'none';\n",
              "    })();\n",
              "  </script>\n",
              "</div>\n",
              "\n",
              "    </div>\n",
              "  </div>\n"
            ]
          },
          "metadata": {},
          "execution_count": 106
        }
      ]
    },
    {
      "cell_type": "code",
      "source": [
        "import pandas as pd\n",
        "import re\n",
        "\n",
        "\n",
        "# Fonction pour extraire la première valeur numérique\n",
        "def extraire_premiere_valeur(valeur):\n",
        "    # Utiliser une regex pour trouver la première valeur numérique\n",
        "    match = re.search(r'\\d+\\.\\d+', valeur)\n",
        "    if match:\n",
        "        return float(match.group())  # Convertir en float\n",
        "    return None  # Si aucune valeur n'est trouvée\n",
        "\n",
        "import time\n",
        "# Appliquer la fonction à la colonne\n",
        "df_concat['Price'] = df_concat['Price'].apply(extraire_premiere_valeur)\n",
        "\n",
        "\n",
        "# Afficher le DataFrame mis à jour\n",
        "#print(df_concat)\n",
        "df_concat.dtypes"
      ],
      "metadata": {
        "colab": {
          "base_uri": "https://localhost:8080/",
          "height": 491
        },
        "id": "fFwEYHmlOw9C",
        "executionInfo": {
          "status": "ok",
          "timestamp": 1739982149492,
          "user_tz": 0,
          "elapsed": 343,
          "user": {
            "displayName": "",
            "userId": ""
          }
        },
        "outputId": "96bd5be2-9308-4471-98e0-32a0206a98f3"
      },
      "execution_count": null,
      "outputs": [
        {
          "output_type": "execute_result",
          "data": {
            "text/plain": [
              "Symbol              object\n",
              "Name                object\n",
              "Unnamed: 2         float64\n",
              "Price              float64\n",
              "Change             float64\n",
              "Change %           float64\n",
              "Volume              object\n",
              "50 Day Average      object\n",
              "200 Day Average     object\n",
              "3 Month Return      object\n",
              "YTD Return          object\n",
              "52 Wk Change %      object\n",
              "52 Wk Range        float64\n",
              "dtype: object"
            ],
            "text/html": [
              "<div>\n",
              "<style scoped>\n",
              "    .dataframe tbody tr th:only-of-type {\n",
              "        vertical-align: middle;\n",
              "    }\n",
              "\n",
              "    .dataframe tbody tr th {\n",
              "        vertical-align: top;\n",
              "    }\n",
              "\n",
              "    .dataframe thead th {\n",
              "        text-align: right;\n",
              "    }\n",
              "</style>\n",
              "<table border=\"1\" class=\"dataframe\">\n",
              "  <thead>\n",
              "    <tr style=\"text-align: right;\">\n",
              "      <th></th>\n",
              "      <th>0</th>\n",
              "    </tr>\n",
              "  </thead>\n",
              "  <tbody>\n",
              "    <tr>\n",
              "      <th>Symbol</th>\n",
              "      <td>object</td>\n",
              "    </tr>\n",
              "    <tr>\n",
              "      <th>Name</th>\n",
              "      <td>object</td>\n",
              "    </tr>\n",
              "    <tr>\n",
              "      <th>Unnamed: 2</th>\n",
              "      <td>float64</td>\n",
              "    </tr>\n",
              "    <tr>\n",
              "      <th>Price</th>\n",
              "      <td>float64</td>\n",
              "    </tr>\n",
              "    <tr>\n",
              "      <th>Change</th>\n",
              "      <td>float64</td>\n",
              "    </tr>\n",
              "    <tr>\n",
              "      <th>Change %</th>\n",
              "      <td>float64</td>\n",
              "    </tr>\n",
              "    <tr>\n",
              "      <th>Volume</th>\n",
              "      <td>object</td>\n",
              "    </tr>\n",
              "    <tr>\n",
              "      <th>50 Day Average</th>\n",
              "      <td>object</td>\n",
              "    </tr>\n",
              "    <tr>\n",
              "      <th>200 Day Average</th>\n",
              "      <td>object</td>\n",
              "    </tr>\n",
              "    <tr>\n",
              "      <th>3 Month Return</th>\n",
              "      <td>object</td>\n",
              "    </tr>\n",
              "    <tr>\n",
              "      <th>YTD Return</th>\n",
              "      <td>object</td>\n",
              "    </tr>\n",
              "    <tr>\n",
              "      <th>52 Wk Change %</th>\n",
              "      <td>object</td>\n",
              "    </tr>\n",
              "    <tr>\n",
              "      <th>52 Wk Range</th>\n",
              "      <td>float64</td>\n",
              "    </tr>\n",
              "  </tbody>\n",
              "</table>\n",
              "</div><br><label><b>dtype:</b> object</label>"
            ]
          },
          "metadata": {},
          "execution_count": 107
        }
      ]
    },
    {
      "cell_type": "code",
      "source": [
        "# Fonction pour convertir le volume en nombre (ex: \"17.539M\" → 17539000)\n",
        "def clean_volume(value):\n",
        "    # Si la valeur est déjà un nombre, la retourner directement\n",
        "    if isinstance(value, (int, float)):\n",
        "        return value\n",
        "\n",
        "    # Si la valeur est une chaîne, la traiter\n",
        "    if isinstance(value, str):\n",
        "        if 'M' in value:\n",
        "            return float(value.replace('M', '')) * 1000000  # Convertir en nombre\n",
        "        elif 'K' in value:\n",
        "            return float(value.replace('K', '')) * 1000  # Convertir en nombre\n",
        "        else:\n",
        "            return float(value)  # Si aucune unité n'est présente\n",
        "\n",
        "    # Si la valeur n'est ni un nombre ni une chaîne, retourner NaN\n",
        "    return float('nan')\n",
        "import time\n",
        "\n",
        "\n",
        "# Appliquer la fonction à la colonne \"Volume\"\n",
        "df_concat[\"Volume\"] = df_concat[\"Volume\"].apply(clean_volume)\n",
        "\n",
        "df_concat=df_concat.drop(columns=[\"Unnamed: 2\",\"52 Wk Range\"])\n",
        "\n",
        "df_concat.head()\n",
        "df_concat.dtypes"
      ],
      "metadata": {
        "id": "j5t0Nd3WRWgg",
        "colab": {
          "base_uri": "https://localhost:8080/",
          "height": 429
        },
        "executionInfo": {
          "status": "ok",
          "timestamp": 1739982154596,
          "user_tz": 0,
          "elapsed": 359,
          "user": {
            "displayName": "",
            "userId": ""
          }
        },
        "outputId": "78d6fbea-ee54-4e7d-c396-3d65819c4efe"
      },
      "execution_count": null,
      "outputs": [
        {
          "output_type": "execute_result",
          "data": {
            "text/plain": [
              "Symbol              object\n",
              "Name                object\n",
              "Price              float64\n",
              "Change             float64\n",
              "Change %           float64\n",
              "Volume             float64\n",
              "50 Day Average      object\n",
              "200 Day Average     object\n",
              "3 Month Return      object\n",
              "YTD Return          object\n",
              "52 Wk Change %      object\n",
              "dtype: object"
            ],
            "text/html": [
              "<div>\n",
              "<style scoped>\n",
              "    .dataframe tbody tr th:only-of-type {\n",
              "        vertical-align: middle;\n",
              "    }\n",
              "\n",
              "    .dataframe tbody tr th {\n",
              "        vertical-align: top;\n",
              "    }\n",
              "\n",
              "    .dataframe thead th {\n",
              "        text-align: right;\n",
              "    }\n",
              "</style>\n",
              "<table border=\"1\" class=\"dataframe\">\n",
              "  <thead>\n",
              "    <tr style=\"text-align: right;\">\n",
              "      <th></th>\n",
              "      <th>0</th>\n",
              "    </tr>\n",
              "  </thead>\n",
              "  <tbody>\n",
              "    <tr>\n",
              "      <th>Symbol</th>\n",
              "      <td>object</td>\n",
              "    </tr>\n",
              "    <tr>\n",
              "      <th>Name</th>\n",
              "      <td>object</td>\n",
              "    </tr>\n",
              "    <tr>\n",
              "      <th>Price</th>\n",
              "      <td>float64</td>\n",
              "    </tr>\n",
              "    <tr>\n",
              "      <th>Change</th>\n",
              "      <td>float64</td>\n",
              "    </tr>\n",
              "    <tr>\n",
              "      <th>Change %</th>\n",
              "      <td>float64</td>\n",
              "    </tr>\n",
              "    <tr>\n",
              "      <th>Volume</th>\n",
              "      <td>float64</td>\n",
              "    </tr>\n",
              "    <tr>\n",
              "      <th>50 Day Average</th>\n",
              "      <td>object</td>\n",
              "    </tr>\n",
              "    <tr>\n",
              "      <th>200 Day Average</th>\n",
              "      <td>object</td>\n",
              "    </tr>\n",
              "    <tr>\n",
              "      <th>3 Month Return</th>\n",
              "      <td>object</td>\n",
              "    </tr>\n",
              "    <tr>\n",
              "      <th>YTD Return</th>\n",
              "      <td>object</td>\n",
              "    </tr>\n",
              "    <tr>\n",
              "      <th>52 Wk Change %</th>\n",
              "      <td>object</td>\n",
              "    </tr>\n",
              "  </tbody>\n",
              "</table>\n",
              "</div><br><label><b>dtype:</b> object</label>"
            ]
          },
          "metadata": {},
          "execution_count": 108
        }
      ]
    },
    {
      "cell_type": "code",
      "source": [
        "import pandas as pd\n",
        "import time\n",
        "\n",
        "while True:\n",
        "  # Dictionnaire des nouveaux noms de colonnes\n",
        "  nouveaux_noms_colonnes = {\n",
        "      \"Symbol\": \"Symbol\",\n",
        "      \"Name\": \"Name\",\n",
        "      \"Price\": \"Price\",\n",
        "      \"Change\": \"Change\",\n",
        "      \"Change %\": \"Change_Percent\",  # Remplacement de \"Change %\" pour éviter le \"%\"\n",
        "      \"Volume\": \"Volume\",\n",
        "      \"50 Day Average\": \"Fifty_Day_Avg\",  # Remplacement de \"50 Day Average\"\n",
        "      \"200 Day Average\": \"Two_Hundred_Day_Avg\",  # Remplacement de \"200 Day Average\"\n",
        "      \"3 Month Return\": \"Three_Month_Return\",  # Renommé pour éviter l’espace\n",
        "      \"YTD Return\": \"YTD_Return\",  # Renommé pour éviter l’espace\n",
        "      \"52 Wk Change %\": \"Fifty_Two_Wk_Change\"  # Remplacement de \"52 Wk Change %\"\n",
        "  }\n",
        "\n",
        "  # Renommer les colonnes du DataFrame\n",
        "  df_concat = df_concat.rename(columns=nouveaux_noms_colonnes)\n",
        "  time.sleep(10)\n",
        "\n",
        "\n",
        "# Afficher les nouvelles colonnes\n",
        "df_concat.head()\n",
        "df_concat.dtypes"
      ],
      "metadata": {
        "colab": {
          "base_uri": "https://localhost:8080/",
          "height": 429
        },
        "id": "U_xx84FtXmJS",
        "executionInfo": {
          "status": "ok",
          "timestamp": 1739982162121,
          "user_tz": 0,
          "elapsed": 354,
          "user": {
            "displayName": "",
            "userId": ""
          }
        },
        "outputId": "f807a083-6459-409e-ca70-a8d1ba654724"
      },
      "execution_count": null,
      "outputs": [
        {
          "output_type": "execute_result",
          "data": {
            "text/plain": [
              "Symbol                  object\n",
              "Name                    object\n",
              "Price                  float64\n",
              "Change                 float64\n",
              "Change_Percent         float64\n",
              "Volume                 float64\n",
              "Fifty_Day_Avg           object\n",
              "Two_Hundred_Day_Avg     object\n",
              "Three_Month_Return      object\n",
              "YTD_Return              object\n",
              "Fifty_Two_Wk_Change     object\n",
              "dtype: object"
            ],
            "text/html": [
              "<div>\n",
              "<style scoped>\n",
              "    .dataframe tbody tr th:only-of-type {\n",
              "        vertical-align: middle;\n",
              "    }\n",
              "\n",
              "    .dataframe tbody tr th {\n",
              "        vertical-align: top;\n",
              "    }\n",
              "\n",
              "    .dataframe thead th {\n",
              "        text-align: right;\n",
              "    }\n",
              "</style>\n",
              "<table border=\"1\" class=\"dataframe\">\n",
              "  <thead>\n",
              "    <tr style=\"text-align: right;\">\n",
              "      <th></th>\n",
              "      <th>0</th>\n",
              "    </tr>\n",
              "  </thead>\n",
              "  <tbody>\n",
              "    <tr>\n",
              "      <th>Symbol</th>\n",
              "      <td>object</td>\n",
              "    </tr>\n",
              "    <tr>\n",
              "      <th>Name</th>\n",
              "      <td>object</td>\n",
              "    </tr>\n",
              "    <tr>\n",
              "      <th>Price</th>\n",
              "      <td>float64</td>\n",
              "    </tr>\n",
              "    <tr>\n",
              "      <th>Change</th>\n",
              "      <td>float64</td>\n",
              "    </tr>\n",
              "    <tr>\n",
              "      <th>Change_Percent</th>\n",
              "      <td>float64</td>\n",
              "    </tr>\n",
              "    <tr>\n",
              "      <th>Volume</th>\n",
              "      <td>float64</td>\n",
              "    </tr>\n",
              "    <tr>\n",
              "      <th>Fifty_Day_Avg</th>\n",
              "      <td>object</td>\n",
              "    </tr>\n",
              "    <tr>\n",
              "      <th>Two_Hundred_Day_Avg</th>\n",
              "      <td>object</td>\n",
              "    </tr>\n",
              "    <tr>\n",
              "      <th>Three_Month_Return</th>\n",
              "      <td>object</td>\n",
              "    </tr>\n",
              "    <tr>\n",
              "      <th>YTD_Return</th>\n",
              "      <td>object</td>\n",
              "    </tr>\n",
              "    <tr>\n",
              "      <th>Fifty_Two_Wk_Change</th>\n",
              "      <td>object</td>\n",
              "    </tr>\n",
              "  </tbody>\n",
              "</table>\n",
              "</div><br><label><b>dtype:</b> object</label>"
            ]
          },
          "metadata": {},
          "execution_count": 109
        }
      ]
    },
    {
      "cell_type": "code",
      "source": [
        "\n",
        "# Fonction pour nettoyer et convertir en float\n",
        "def convertir_pourcentage_en_float(valeur):\n",
        "    if isinstance(valeur, str) and valeur.endswith('%'):  # Vérifie si c'est une chaîne avec '%'\n",
        "        try:\n",
        "            return float(valeur.strip('%')) / 100  # Supprime '%' et divise par 100\n",
        "        except ValueError:\n",
        "            return None  # Retourne None si la conversion échoue\n",
        "    return float(valeur) if isinstance(valeur, (int, float)) else None  # Convertit les nombres, sinon None\n",
        "\n",
        "import time\n",
        "\n",
        "\n",
        "# Appliquer la conversion aux colonnes contenant des pourcentages\n",
        "df_concat[\"Three_Month_Return\"] = df_concat[\"Three_Month_Return\"].apply(convertir_pourcentage_en_float)\n",
        "df_concat[\"YTD_Return\"] = df_concat[\"YTD_Return\"].apply(convertir_pourcentage_en_float)\n",
        "\n",
        "\n",
        "# Afficher les nouveaux types\n",
        "print(df_concat.dtypes)\n"
      ],
      "metadata": {
        "colab": {
          "base_uri": "https://localhost:8080/"
        },
        "id": "lP9dSv6PZQIf",
        "executionInfo": {
          "status": "ok",
          "timestamp": 1739982209163,
          "user_tz": 0,
          "elapsed": 408,
          "user": {
            "displayName": "",
            "userId": ""
          }
        },
        "outputId": "6174e2e4-dba8-4bc6-9ecd-e356fa5f0140"
      },
      "execution_count": null,
      "outputs": [
        {
          "output_type": "stream",
          "name": "stdout",
          "text": [
            "Symbol                  object\n",
            "Name                    object\n",
            "Price                  float64\n",
            "Change                 float64\n",
            "Change_Percent         float64\n",
            "Volume                 float64\n",
            "Fifty_Day_Avg           object\n",
            "Two_Hundred_Day_Avg     object\n",
            "Three_Month_Return     float64\n",
            "YTD_Return             float64\n",
            "Fifty_Two_Wk_Change     object\n",
            "dtype: object\n"
          ]
        }
      ]
    },
    {
      "cell_type": "code",
      "source": [
        "import numpy as np\n",
        "from datetime import datetime\n",
        "import time\n",
        "\n",
        "while True:\n",
        "  # Remplacer NaN par None pour éviter les erreurs JSON\n",
        "  df_concat = df_concat.replace({np.nan: None})\n",
        "\n",
        "\n",
        "  # Vérifier que NaN a bien été remplacé\n",
        "  #print(df_concat.isnull().sum())  # Vérifie les valeurs nulles\n",
        "\n",
        "  # Ajouter les colonnes 'Date' et 'Heure' actuelles\n",
        "  now = datetime.now()\n",
        "  df_concat['Date'] = now.strftime(\"%Y-%m-%d\")\n",
        "  df_concat['Heure'] = now.strftime(\"%H:%M:%S\")\n",
        "\n",
        "  # Combiner les colonnes 'Date' et 'Heure' en une seule chaîne\n",
        "  df_concat['DateHeure'] = df_concat['Date'] + ' ' + df_concat['Heure']\n",
        "\n",
        "  # Convertir la colonne combinée en datetime\n",
        "  df_concat['DateHeure'] = pd.to_datetime(df_concat['DateHeure'], format='%Y-%m-%d %H:%M:%S')\n",
        "  time.sleep(10)\n",
        "\n",
        "df_concat.head()"
      ],
      "metadata": {
        "id": "-8tQIIanaxr_",
        "executionInfo": {
          "status": "ok",
          "timestamp": 1739982229545,
          "user_tz": 0,
          "elapsed": 411,
          "user": {
            "displayName": "",
            "userId": ""
          }
        },
        "colab": {
          "base_uri": "https://localhost:8080/",
          "height": 556
        },
        "outputId": "3896ab6f-3906-44f7-f2f3-183bc5504d6a"
      },
      "execution_count": null,
      "outputs": [
        {
          "output_type": "execute_result",
          "data": {
            "text/plain": [
              "  Symbol                                               Name   Price  Change  \\\n",
              "0   IEMG             iShares Core MSCI Emerging Markets ETF   55.22   -0.08   \n",
              "1    QQQ                                  Invesco QQQ Trust  538.70   -0.67   \n",
              "2    SLV                               iShares Silver Trust   29.70   -0.21   \n",
              "3   VCSH  Vanguard Short-Term Corporate Bond Index Fund ...   78.31    0.00   \n",
              "4    TLT                 iShares 20+ Year Treasury Bond ETF   88.24    0.14   \n",
              "\n",
              "   Change_Percent     Volume Fifty_Day_Avg Two_Hundred_Day_Avg  \\\n",
              "0         -0.0014  6667000.0         53.33               54.23   \n",
              "1         -0.0012  6499000.0        523.03              488.59   \n",
              "2         -0.0071  6158000.0          28.0               27.65   \n",
              "3          0.0000  6118000.0         78.19               78.14   \n",
              "4          0.0016  6074000.0         88.63               92.75   \n",
              "\n",
              "  Three_Month_Return YTD_Return Fifty_Two_Wk_Change        Date     Heure  \\\n",
              "0            -0.0211     0.0129              0.0929  2025-02-19  16:23:50   \n",
              "1             0.0812     0.0223              0.2673  2025-02-19  16:23:50   \n",
              "2            -0.0603      0.093               0.427  2025-02-19  16:23:50   \n",
              "3             0.0109     0.0058              0.0162  2025-02-19  16:23:50   \n",
              "4            -0.0396     0.0046             -0.0443  2025-02-19  16:23:50   \n",
              "\n",
              "            DateHeure  \n",
              "0 2025-02-19 16:23:50  \n",
              "1 2025-02-19 16:23:50  \n",
              "2 2025-02-19 16:23:50  \n",
              "3 2025-02-19 16:23:50  \n",
              "4 2025-02-19 16:23:50  "
            ],
            "text/html": [
              "\n",
              "  <div id=\"df-5ffee054-7c6f-4b56-9970-9a1883500b2e\" class=\"colab-df-container\">\n",
              "    <div>\n",
              "<style scoped>\n",
              "    .dataframe tbody tr th:only-of-type {\n",
              "        vertical-align: middle;\n",
              "    }\n",
              "\n",
              "    .dataframe tbody tr th {\n",
              "        vertical-align: top;\n",
              "    }\n",
              "\n",
              "    .dataframe thead th {\n",
              "        text-align: right;\n",
              "    }\n",
              "</style>\n",
              "<table border=\"1\" class=\"dataframe\">\n",
              "  <thead>\n",
              "    <tr style=\"text-align: right;\">\n",
              "      <th></th>\n",
              "      <th>Symbol</th>\n",
              "      <th>Name</th>\n",
              "      <th>Price</th>\n",
              "      <th>Change</th>\n",
              "      <th>Change_Percent</th>\n",
              "      <th>Volume</th>\n",
              "      <th>Fifty_Day_Avg</th>\n",
              "      <th>Two_Hundred_Day_Avg</th>\n",
              "      <th>Three_Month_Return</th>\n",
              "      <th>YTD_Return</th>\n",
              "      <th>Fifty_Two_Wk_Change</th>\n",
              "      <th>Date</th>\n",
              "      <th>Heure</th>\n",
              "      <th>DateHeure</th>\n",
              "    </tr>\n",
              "  </thead>\n",
              "  <tbody>\n",
              "    <tr>\n",
              "      <th>0</th>\n",
              "      <td>IEMG</td>\n",
              "      <td>iShares Core MSCI Emerging Markets ETF</td>\n",
              "      <td>55.22</td>\n",
              "      <td>-0.08</td>\n",
              "      <td>-0.0014</td>\n",
              "      <td>6667000.0</td>\n",
              "      <td>53.33</td>\n",
              "      <td>54.23</td>\n",
              "      <td>-0.0211</td>\n",
              "      <td>0.0129</td>\n",
              "      <td>0.0929</td>\n",
              "      <td>2025-02-19</td>\n",
              "      <td>16:23:50</td>\n",
              "      <td>2025-02-19 16:23:50</td>\n",
              "    </tr>\n",
              "    <tr>\n",
              "      <th>1</th>\n",
              "      <td>QQQ</td>\n",
              "      <td>Invesco QQQ Trust</td>\n",
              "      <td>538.70</td>\n",
              "      <td>-0.67</td>\n",
              "      <td>-0.0012</td>\n",
              "      <td>6499000.0</td>\n",
              "      <td>523.03</td>\n",
              "      <td>488.59</td>\n",
              "      <td>0.0812</td>\n",
              "      <td>0.0223</td>\n",
              "      <td>0.2673</td>\n",
              "      <td>2025-02-19</td>\n",
              "      <td>16:23:50</td>\n",
              "      <td>2025-02-19 16:23:50</td>\n",
              "    </tr>\n",
              "    <tr>\n",
              "      <th>2</th>\n",
              "      <td>SLV</td>\n",
              "      <td>iShares Silver Trust</td>\n",
              "      <td>29.70</td>\n",
              "      <td>-0.21</td>\n",
              "      <td>-0.0071</td>\n",
              "      <td>6158000.0</td>\n",
              "      <td>28.0</td>\n",
              "      <td>27.65</td>\n",
              "      <td>-0.0603</td>\n",
              "      <td>0.093</td>\n",
              "      <td>0.427</td>\n",
              "      <td>2025-02-19</td>\n",
              "      <td>16:23:50</td>\n",
              "      <td>2025-02-19 16:23:50</td>\n",
              "    </tr>\n",
              "    <tr>\n",
              "      <th>3</th>\n",
              "      <td>VCSH</td>\n",
              "      <td>Vanguard Short-Term Corporate Bond Index Fund ...</td>\n",
              "      <td>78.31</td>\n",
              "      <td>0.00</td>\n",
              "      <td>0.0000</td>\n",
              "      <td>6118000.0</td>\n",
              "      <td>78.19</td>\n",
              "      <td>78.14</td>\n",
              "      <td>0.0109</td>\n",
              "      <td>0.0058</td>\n",
              "      <td>0.0162</td>\n",
              "      <td>2025-02-19</td>\n",
              "      <td>16:23:50</td>\n",
              "      <td>2025-02-19 16:23:50</td>\n",
              "    </tr>\n",
              "    <tr>\n",
              "      <th>4</th>\n",
              "      <td>TLT</td>\n",
              "      <td>iShares 20+ Year Treasury Bond ETF</td>\n",
              "      <td>88.24</td>\n",
              "      <td>0.14</td>\n",
              "      <td>0.0016</td>\n",
              "      <td>6074000.0</td>\n",
              "      <td>88.63</td>\n",
              "      <td>92.75</td>\n",
              "      <td>-0.0396</td>\n",
              "      <td>0.0046</td>\n",
              "      <td>-0.0443</td>\n",
              "      <td>2025-02-19</td>\n",
              "      <td>16:23:50</td>\n",
              "      <td>2025-02-19 16:23:50</td>\n",
              "    </tr>\n",
              "  </tbody>\n",
              "</table>\n",
              "</div>\n",
              "    <div class=\"colab-df-buttons\">\n",
              "\n",
              "  <div class=\"colab-df-container\">\n",
              "    <button class=\"colab-df-convert\" onclick=\"convertToInteractive('df-5ffee054-7c6f-4b56-9970-9a1883500b2e')\"\n",
              "            title=\"Convert this dataframe to an interactive table.\"\n",
              "            style=\"display:none;\">\n",
              "\n",
              "  <svg xmlns=\"http://www.w3.org/2000/svg\" height=\"24px\" viewBox=\"0 -960 960 960\">\n",
              "    <path d=\"M120-120v-720h720v720H120Zm60-500h600v-160H180v160Zm220 220h160v-160H400v160Zm0 220h160v-160H400v160ZM180-400h160v-160H180v160Zm440 0h160v-160H620v160ZM180-180h160v-160H180v160Zm440 0h160v-160H620v160Z\"/>\n",
              "  </svg>\n",
              "    </button>\n",
              "\n",
              "  <style>\n",
              "    .colab-df-container {\n",
              "      display:flex;\n",
              "      gap: 12px;\n",
              "    }\n",
              "\n",
              "    .colab-df-convert {\n",
              "      background-color: #E8F0FE;\n",
              "      border: none;\n",
              "      border-radius: 50%;\n",
              "      cursor: pointer;\n",
              "      display: none;\n",
              "      fill: #1967D2;\n",
              "      height: 32px;\n",
              "      padding: 0 0 0 0;\n",
              "      width: 32px;\n",
              "    }\n",
              "\n",
              "    .colab-df-convert:hover {\n",
              "      background-color: #E2EBFA;\n",
              "      box-shadow: 0px 1px 2px rgba(60, 64, 67, 0.3), 0px 1px 3px 1px rgba(60, 64, 67, 0.15);\n",
              "      fill: #174EA6;\n",
              "    }\n",
              "\n",
              "    .colab-df-buttons div {\n",
              "      margin-bottom: 4px;\n",
              "    }\n",
              "\n",
              "    [theme=dark] .colab-df-convert {\n",
              "      background-color: #3B4455;\n",
              "      fill: #D2E3FC;\n",
              "    }\n",
              "\n",
              "    [theme=dark] .colab-df-convert:hover {\n",
              "      background-color: #434B5C;\n",
              "      box-shadow: 0px 1px 3px 1px rgba(0, 0, 0, 0.15);\n",
              "      filter: drop-shadow(0px 1px 2px rgba(0, 0, 0, 0.3));\n",
              "      fill: #FFFFFF;\n",
              "    }\n",
              "  </style>\n",
              "\n",
              "    <script>\n",
              "      const buttonEl =\n",
              "        document.querySelector('#df-5ffee054-7c6f-4b56-9970-9a1883500b2e button.colab-df-convert');\n",
              "      buttonEl.style.display =\n",
              "        google.colab.kernel.accessAllowed ? 'block' : 'none';\n",
              "\n",
              "      async function convertToInteractive(key) {\n",
              "        const element = document.querySelector('#df-5ffee054-7c6f-4b56-9970-9a1883500b2e');\n",
              "        const dataTable =\n",
              "          await google.colab.kernel.invokeFunction('convertToInteractive',\n",
              "                                                    [key], {});\n",
              "        if (!dataTable) return;\n",
              "\n",
              "        const docLinkHtml = 'Like what you see? Visit the ' +\n",
              "          '<a target=\"_blank\" href=https://colab.research.google.com/notebooks/data_table.ipynb>data table notebook</a>'\n",
              "          + ' to learn more about interactive tables.';\n",
              "        element.innerHTML = '';\n",
              "        dataTable['output_type'] = 'display_data';\n",
              "        await google.colab.output.renderOutput(dataTable, element);\n",
              "        const docLink = document.createElement('div');\n",
              "        docLink.innerHTML = docLinkHtml;\n",
              "        element.appendChild(docLink);\n",
              "      }\n",
              "    </script>\n",
              "  </div>\n",
              "\n",
              "\n",
              "<div id=\"df-58b96419-fb80-4aaa-82ba-9d1a2c26f536\">\n",
              "  <button class=\"colab-df-quickchart\" onclick=\"quickchart('df-58b96419-fb80-4aaa-82ba-9d1a2c26f536')\"\n",
              "            title=\"Suggest charts\"\n",
              "            style=\"display:none;\">\n",
              "\n",
              "<svg xmlns=\"http://www.w3.org/2000/svg\" height=\"24px\"viewBox=\"0 0 24 24\"\n",
              "     width=\"24px\">\n",
              "    <g>\n",
              "        <path d=\"M19 3H5c-1.1 0-2 .9-2 2v14c0 1.1.9 2 2 2h14c1.1 0 2-.9 2-2V5c0-1.1-.9-2-2-2zM9 17H7v-7h2v7zm4 0h-2V7h2v10zm4 0h-2v-4h2v4z\"/>\n",
              "    </g>\n",
              "</svg>\n",
              "  </button>\n",
              "\n",
              "<style>\n",
              "  .colab-df-quickchart {\n",
              "      --bg-color: #E8F0FE;\n",
              "      --fill-color: #1967D2;\n",
              "      --hover-bg-color: #E2EBFA;\n",
              "      --hover-fill-color: #174EA6;\n",
              "      --disabled-fill-color: #AAA;\n",
              "      --disabled-bg-color: #DDD;\n",
              "  }\n",
              "\n",
              "  [theme=dark] .colab-df-quickchart {\n",
              "      --bg-color: #3B4455;\n",
              "      --fill-color: #D2E3FC;\n",
              "      --hover-bg-color: #434B5C;\n",
              "      --hover-fill-color: #FFFFFF;\n",
              "      --disabled-bg-color: #3B4455;\n",
              "      --disabled-fill-color: #666;\n",
              "  }\n",
              "\n",
              "  .colab-df-quickchart {\n",
              "    background-color: var(--bg-color);\n",
              "    border: none;\n",
              "    border-radius: 50%;\n",
              "    cursor: pointer;\n",
              "    display: none;\n",
              "    fill: var(--fill-color);\n",
              "    height: 32px;\n",
              "    padding: 0;\n",
              "    width: 32px;\n",
              "  }\n",
              "\n",
              "  .colab-df-quickchart:hover {\n",
              "    background-color: var(--hover-bg-color);\n",
              "    box-shadow: 0 1px 2px rgba(60, 64, 67, 0.3), 0 1px 3px 1px rgba(60, 64, 67, 0.15);\n",
              "    fill: var(--button-hover-fill-color);\n",
              "  }\n",
              "\n",
              "  .colab-df-quickchart-complete:disabled,\n",
              "  .colab-df-quickchart-complete:disabled:hover {\n",
              "    background-color: var(--disabled-bg-color);\n",
              "    fill: var(--disabled-fill-color);\n",
              "    box-shadow: none;\n",
              "  }\n",
              "\n",
              "  .colab-df-spinner {\n",
              "    border: 2px solid var(--fill-color);\n",
              "    border-color: transparent;\n",
              "    border-bottom-color: var(--fill-color);\n",
              "    animation:\n",
              "      spin 1s steps(1) infinite;\n",
              "  }\n",
              "\n",
              "  @keyframes spin {\n",
              "    0% {\n",
              "      border-color: transparent;\n",
              "      border-bottom-color: var(--fill-color);\n",
              "      border-left-color: var(--fill-color);\n",
              "    }\n",
              "    20% {\n",
              "      border-color: transparent;\n",
              "      border-left-color: var(--fill-color);\n",
              "      border-top-color: var(--fill-color);\n",
              "    }\n",
              "    30% {\n",
              "      border-color: transparent;\n",
              "      border-left-color: var(--fill-color);\n",
              "      border-top-color: var(--fill-color);\n",
              "      border-right-color: var(--fill-color);\n",
              "    }\n",
              "    40% {\n",
              "      border-color: transparent;\n",
              "      border-right-color: var(--fill-color);\n",
              "      border-top-color: var(--fill-color);\n",
              "    }\n",
              "    60% {\n",
              "      border-color: transparent;\n",
              "      border-right-color: var(--fill-color);\n",
              "    }\n",
              "    80% {\n",
              "      border-color: transparent;\n",
              "      border-right-color: var(--fill-color);\n",
              "      border-bottom-color: var(--fill-color);\n",
              "    }\n",
              "    90% {\n",
              "      border-color: transparent;\n",
              "      border-bottom-color: var(--fill-color);\n",
              "    }\n",
              "  }\n",
              "</style>\n",
              "\n",
              "  <script>\n",
              "    async function quickchart(key) {\n",
              "      const quickchartButtonEl =\n",
              "        document.querySelector('#' + key + ' button');\n",
              "      quickchartButtonEl.disabled = true;  // To prevent multiple clicks.\n",
              "      quickchartButtonEl.classList.add('colab-df-spinner');\n",
              "      try {\n",
              "        const charts = await google.colab.kernel.invokeFunction(\n",
              "            'suggestCharts', [key], {});\n",
              "      } catch (error) {\n",
              "        console.error('Error during call to suggestCharts:', error);\n",
              "      }\n",
              "      quickchartButtonEl.classList.remove('colab-df-spinner');\n",
              "      quickchartButtonEl.classList.add('colab-df-quickchart-complete');\n",
              "    }\n",
              "    (() => {\n",
              "      let quickchartButtonEl =\n",
              "        document.querySelector('#df-58b96419-fb80-4aaa-82ba-9d1a2c26f536 button');\n",
              "      quickchartButtonEl.style.display =\n",
              "        google.colab.kernel.accessAllowed ? 'block' : 'none';\n",
              "    })();\n",
              "  </script>\n",
              "</div>\n",
              "\n",
              "    </div>\n",
              "  </div>\n"
            ]
          },
          "metadata": {},
          "execution_count": 111
        }
      ]
    },
    {
      "cell_type": "code",
      "source": [
        "import time\n",
        "#corriger les erreurs de types sur les variables suivantes\n",
        "while True:\n",
        "  df_concat['Fifty_Day_Avg'] = pd.to_numeric(df_concat['Fifty_Day_Avg'], errors='coerce')\n",
        "  df_concat['Two_Hundred_Day_Avg'] = pd.to_numeric(df_concat['Two_Hundred_Day_Avg'], errors='coerce')\n",
        "  df_concat['Three_Month_Return'] = pd.to_numeric(df_concat['Three_Month_Return'], errors='coerce')\n",
        "  df_concat['YTD_Return'] = pd.to_numeric(df_concat['YTD_Return'], errors='coerce')\n",
        "  df_concat['Fifty_Two_Wk_Change'] = pd.to_numeric(df_concat['Fifty_Two_Wk_Change'], errors='coerce')\n",
        "  #df_concat['Two_Hundred_Day_Avg'] = pd.to_numeric(df_concat['Two_Hundred_Day_Avg'], errors='coerce')\n",
        "  time.sleep(10)\n",
        "df_concat.dtypes"
      ],
      "metadata": {
        "colab": {
          "base_uri": "https://localhost:8080/",
          "height": 523
        },
        "id": "zYlQ0LAE8JeW",
        "executionInfo": {
          "status": "ok",
          "timestamp": 1739982264443,
          "user_tz": 0,
          "elapsed": 383,
          "user": {
            "displayName": "",
            "userId": ""
          }
        },
        "outputId": "05e0c69f-442e-4c07-9da4-92e6f6bcfd52"
      },
      "execution_count": null,
      "outputs": [
        {
          "output_type": "execute_result",
          "data": {
            "text/plain": [
              "Symbol                         object\n",
              "Name                           object\n",
              "Price                         float64\n",
              "Change                        float64\n",
              "Change_Percent                float64\n",
              "Volume                        float64\n",
              "Fifty_Day_Avg                 float64\n",
              "Two_Hundred_Day_Avg           float64\n",
              "Three_Month_Return            float64\n",
              "YTD_Return                    float64\n",
              "Fifty_Two_Wk_Change           float64\n",
              "Date                           object\n",
              "Heure                          object\n",
              "DateHeure              datetime64[ns]\n",
              "dtype: object"
            ],
            "text/html": [
              "<div>\n",
              "<style scoped>\n",
              "    .dataframe tbody tr th:only-of-type {\n",
              "        vertical-align: middle;\n",
              "    }\n",
              "\n",
              "    .dataframe tbody tr th {\n",
              "        vertical-align: top;\n",
              "    }\n",
              "\n",
              "    .dataframe thead th {\n",
              "        text-align: right;\n",
              "    }\n",
              "</style>\n",
              "<table border=\"1\" class=\"dataframe\">\n",
              "  <thead>\n",
              "    <tr style=\"text-align: right;\">\n",
              "      <th></th>\n",
              "      <th>0</th>\n",
              "    </tr>\n",
              "  </thead>\n",
              "  <tbody>\n",
              "    <tr>\n",
              "      <th>Symbol</th>\n",
              "      <td>object</td>\n",
              "    </tr>\n",
              "    <tr>\n",
              "      <th>Name</th>\n",
              "      <td>object</td>\n",
              "    </tr>\n",
              "    <tr>\n",
              "      <th>Price</th>\n",
              "      <td>float64</td>\n",
              "    </tr>\n",
              "    <tr>\n",
              "      <th>Change</th>\n",
              "      <td>float64</td>\n",
              "    </tr>\n",
              "    <tr>\n",
              "      <th>Change_Percent</th>\n",
              "      <td>float64</td>\n",
              "    </tr>\n",
              "    <tr>\n",
              "      <th>Volume</th>\n",
              "      <td>float64</td>\n",
              "    </tr>\n",
              "    <tr>\n",
              "      <th>Fifty_Day_Avg</th>\n",
              "      <td>float64</td>\n",
              "    </tr>\n",
              "    <tr>\n",
              "      <th>Two_Hundred_Day_Avg</th>\n",
              "      <td>float64</td>\n",
              "    </tr>\n",
              "    <tr>\n",
              "      <th>Three_Month_Return</th>\n",
              "      <td>float64</td>\n",
              "    </tr>\n",
              "    <tr>\n",
              "      <th>YTD_Return</th>\n",
              "      <td>float64</td>\n",
              "    </tr>\n",
              "    <tr>\n",
              "      <th>Fifty_Two_Wk_Change</th>\n",
              "      <td>float64</td>\n",
              "    </tr>\n",
              "    <tr>\n",
              "      <th>Date</th>\n",
              "      <td>object</td>\n",
              "    </tr>\n",
              "    <tr>\n",
              "      <th>Heure</th>\n",
              "      <td>object</td>\n",
              "    </tr>\n",
              "    <tr>\n",
              "      <th>DateHeure</th>\n",
              "      <td>datetime64[ns]</td>\n",
              "    </tr>\n",
              "  </tbody>\n",
              "</table>\n",
              "</div><br><label><b>dtype:</b> object</label>"
            ]
          },
          "metadata": {},
          "execution_count": 112
        }
      ]
    },
    {
      "cell_type": "code",
      "source": [
        "import pandas as pd\n",
        "import time\n",
        "\n",
        "while True:\n",
        "  # Informations sur la table BigQuery\n",
        "  project_id = 'generated-arena-448412-j7'\n",
        "  dataset_id = 'data_set_bi'\n",
        "  table_id = 'table_yahoo_data'\n",
        "  table_ref = f\"{project_id}.{dataset_id}.{table_id}\"\n",
        "\n",
        "  # Charger les données dans BigQuery\n",
        "  df_concat.to_gbq(\n",
        "      destination_table=table_ref,\n",
        "      project_id=project_id,\n",
        "      if_exists='replace'  # Options : 'fail', 'replace', 'append'\n",
        "  )\n",
        "\n",
        "  print(\"Données chargées avec succès dans BigQuery.\")\n",
        "  time.sleep(10)"
      ],
      "metadata": {
        "id": "sbOC2f00vHnf",
        "colab": {
          "base_uri": "https://localhost:8080/"
        },
        "executionInfo": {
          "status": "ok",
          "timestamp": 1739982278497,
          "user_tz": 0,
          "elapsed": 4619,
          "user": {
            "displayName": "",
            "userId": ""
          }
        },
        "outputId": "0d31b817-4d65-4295-a139-b23bff59d7cc"
      },
      "execution_count": null,
      "outputs": [
        {
          "output_type": "stream",
          "name": "stderr",
          "text": [
            "<ipython-input-113-f7f0440c0dfe>:10: FutureWarning: to_gbq is deprecated and will be removed in a future version. Please use pandas_gbq.to_gbq instead: https://pandas-gbq.readthedocs.io/en/latest/api.html#pandas_gbq.to_gbq\n",
            "  df_concat.to_gbq(\n",
            "100%|██████████| 1/1 [00:00<00:00, 10381.94it/s]"
          ]
        },
        {
          "output_type": "stream",
          "name": "stdout",
          "text": [
            "Données chargées avec succès dans BigQuery.\n"
          ]
        },
        {
          "output_type": "stream",
          "name": "stderr",
          "text": [
            "\n"
          ]
        }
      ]
    },
    {
      "cell_type": "code",
      "source": [
        "import pandas as pd\n",
        "from datetime import datetime\n",
        "\n",
        "\n",
        "# Création du DataFrame avec des données fictives\n",
        "df_ajout = pd.DataFrame({\n",
        "    \"Symbol\": [\"AAPL\", \"GOOGL\", \"MSFT\", \"AMZN\", \"TSLA\"],\n",
        "    \"Name\": [\"Apple Inc.\", \"Alphabet Inc.\", \"Microsoft Corp.\", \"Amazon.com Inc.\", \"Tesla Inc.\"],\n",
        "    \"Price\": [175.64, 2825.23, 299.35, 3456.78, 789.56],\n",
        "    \"Change\": [-1.25, 3.45, -2.76, 5.67, -8.90],\n",
        "    \"Change_Percent\": [-0.71, 1.23, -0.92, 1.65, -1.12],\n",
        "    \"Volume\": [75432100, 1123456, 9876543, 6784321, 4567890],\n",
        "    \"Fifty_Day_Avg\": [170.50, 2800.75, 295.30, 3400.40, 780.25],\n",
        "    \"Two_Hundred_Day_Avg\": [160.75, 2700.50, 285.90, 3300.60, 750.30],\n",
        "    \"Three_Month_Return\": [0.12, 0.15, -0.05, 0.20, -0.08],\n",
        "    \"YTD_Return\": [0.25, 0.30, 0.10, 0.35, 0.05],\n",
        "    \"Fifty_Two_Wk_Change\": [0.30, 0.28, 0.18, 0.40, 0.22]\n",
        "})\n",
        "\n",
        "# Ajouter les colonnes 'Date' et 'Heure' actuelles\n",
        "now = datetime.now()\n",
        "df_ajout['Date'] = now.strftime(\"%Y-%m-%d\")\n",
        "df_ajout['Heure'] = now.strftime(\"%H:%M:%S\")\n",
        "\n",
        "# Combiner les colonnes 'Date' et 'Heure' en une seule chaîne\n",
        "df_ajout['DateHeure'] = df_ajout['Date'] + ' ' + df_ajout['Heure']\n",
        "\n",
        "# Convertir la colonne combinée en datetime\n",
        "df_ajout['DateHeure'] = pd.to_datetime(df_ajout['DateHeure'], format='%Y-%m-%d %H:%M:%S')\n",
        "\n",
        "\n",
        "# Affichage du DataFrame\n",
        "print(df_ajout)\n"
      ],
      "metadata": {
        "colab": {
          "base_uri": "https://localhost:8080/"
        },
        "id": "DdGetFH_oj8B",
        "executionInfo": {
          "status": "ok",
          "timestamp": 1739990413431,
          "user_tz": 0,
          "elapsed": 832,
          "user": {
            "displayName": "",
            "userId": ""
          }
        },
        "outputId": "00800c37-2381-4bed-9aa8-5bd573abad93"
      },
      "execution_count": null,
      "outputs": [
        {
          "output_type": "stream",
          "name": "stdout",
          "text": [
            "  Symbol             Name    Price  Change  Change_Percent    Volume  \\\n",
            "0   AAPL       Apple Inc.   175.64   -1.25           -0.71  75432100   \n",
            "1  GOOGL    Alphabet Inc.  2825.23    3.45            1.23   1123456   \n",
            "2   MSFT  Microsoft Corp.   299.35   -2.76           -0.92   9876543   \n",
            "3   AMZN  Amazon.com Inc.  3456.78    5.67            1.65   6784321   \n",
            "4   TSLA       Tesla Inc.   789.56   -8.90           -1.12   4567890   \n",
            "\n",
            "   Fifty_Day_Avg  Two_Hundred_Day_Avg  Three_Month_Return  YTD_Return  \\\n",
            "0         170.50               160.75                0.12        0.25   \n",
            "1        2800.75              2700.50                0.15        0.30   \n",
            "2         295.30               285.90               -0.05        0.10   \n",
            "3        3400.40              3300.60                0.20        0.35   \n",
            "4         780.25               750.30               -0.08        0.05   \n",
            "\n",
            "   Fifty_Two_Wk_Change        Date     Heure           DateHeure  \n",
            "0                 0.30  2025-02-19  18:40:14 2025-02-19 18:40:14  \n",
            "1                 0.28  2025-02-19  18:40:14 2025-02-19 18:40:14  \n",
            "2                 0.18  2025-02-19  18:40:14 2025-02-19 18:40:14  \n",
            "3                 0.40  2025-02-19  18:40:14 2025-02-19 18:40:14  \n",
            "4                 0.22  2025-02-19  18:40:14 2025-02-19 18:40:14  \n"
          ]
        }
      ]
    },
    {
      "cell_type": "code",
      "source": [
        "import pandas as pd\n",
        "import time\n",
        "\n",
        "while True:\n",
        "  # Informations sur la table BigQuery\n",
        "  project_id = 'generated-arena-448412-j7'\n",
        "  dataset_id = 'data_set_bi'\n",
        "  table_id = 'table_yahoo_data'\n",
        "  table_ref = f\"{project_id}.{dataset_id}.{table_id}\"\n",
        "\n",
        "  # Charger les données dans BigQuery\n",
        "  df_ajout.to_gbq(\n",
        "      destination_table=table_ref,\n",
        "      project_id=project_id,\n",
        "      if_exists='append'  # Options : 'fail', 'replace', 'append'\n",
        "  )\n",
        "\n",
        "  print(\"Données chargées avec succès dans BigQuery.\")\n",
        "  time.sleep(10)"
      ],
      "metadata": {
        "id": "s5hcb74AOmKR",
        "colab": {
          "base_uri": "https://localhost:8080/"
        },
        "outputId": "4e3ab8ef-6ad0-48ad-ab11-c67ad78f9939"
      },
      "execution_count": null,
      "outputs": [
        {
          "output_type": "stream",
          "name": "stderr",
          "text": [
            "<ipython-input-118-0deb04035900>:12: FutureWarning: to_gbq is deprecated and will be removed in a future version. Please use pandas_gbq.to_gbq instead: https://pandas-gbq.readthedocs.io/en/latest/api.html#pandas_gbq.to_gbq\n",
            "  df_ajout.to_gbq(\n",
            "100%|██████████| 1/1 [00:00<00:00, 12865.96it/s]\n"
          ]
        },
        {
          "output_type": "stream",
          "name": "stdout",
          "text": [
            "Données chargées avec succès dans BigQuery.\n"
          ]
        },
        {
          "output_type": "stream",
          "name": "stderr",
          "text": [
            "<ipython-input-118-0deb04035900>:12: FutureWarning: to_gbq is deprecated and will be removed in a future version. Please use pandas_gbq.to_gbq instead: https://pandas-gbq.readthedocs.io/en/latest/api.html#pandas_gbq.to_gbq\n",
            "  df_ajout.to_gbq(\n",
            "100%|██████████| 1/1 [00:00<00:00, 11983.73it/s]\n"
          ]
        },
        {
          "output_type": "stream",
          "name": "stdout",
          "text": [
            "Données chargées avec succès dans BigQuery.\n"
          ]
        },
        {
          "output_type": "stream",
          "name": "stderr",
          "text": [
            "<ipython-input-118-0deb04035900>:12: FutureWarning: to_gbq is deprecated and will be removed in a future version. Please use pandas_gbq.to_gbq instead: https://pandas-gbq.readthedocs.io/en/latest/api.html#pandas_gbq.to_gbq\n",
            "  df_ajout.to_gbq(\n",
            "100%|██████████| 1/1 [00:00<00:00, 9218.25it/s]\n"
          ]
        },
        {
          "output_type": "stream",
          "name": "stdout",
          "text": [
            "Données chargées avec succès dans BigQuery.\n"
          ]
        },
        {
          "output_type": "stream",
          "name": "stderr",
          "text": [
            "<ipython-input-118-0deb04035900>:12: FutureWarning: to_gbq is deprecated and will be removed in a future version. Please use pandas_gbq.to_gbq instead: https://pandas-gbq.readthedocs.io/en/latest/api.html#pandas_gbq.to_gbq\n",
            "  df_ajout.to_gbq(\n",
            "100%|██████████| 1/1 [00:00<00:00, 8648.05it/s]\n"
          ]
        },
        {
          "output_type": "stream",
          "name": "stdout",
          "text": [
            "Données chargées avec succès dans BigQuery.\n"
          ]
        },
        {
          "output_type": "stream",
          "name": "stderr",
          "text": [
            "<ipython-input-118-0deb04035900>:12: FutureWarning: to_gbq is deprecated and will be removed in a future version. Please use pandas_gbq.to_gbq instead: https://pandas-gbq.readthedocs.io/en/latest/api.html#pandas_gbq.to_gbq\n",
            "  df_ajout.to_gbq(\n",
            "100%|██████████| 1/1 [00:00<00:00, 14074.85it/s]\n"
          ]
        },
        {
          "output_type": "stream",
          "name": "stdout",
          "text": [
            "Données chargées avec succès dans BigQuery.\n"
          ]
        },
        {
          "output_type": "stream",
          "name": "stderr",
          "text": [
            "<ipython-input-118-0deb04035900>:12: FutureWarning: to_gbq is deprecated and will be removed in a future version. Please use pandas_gbq.to_gbq instead: https://pandas-gbq.readthedocs.io/en/latest/api.html#pandas_gbq.to_gbq\n",
            "  df_ajout.to_gbq(\n",
            "100%|██████████| 1/1 [00:00<00:00, 8701.88it/s]\n"
          ]
        },
        {
          "output_type": "stream",
          "name": "stdout",
          "text": [
            "Données chargées avec succès dans BigQuery.\n"
          ]
        },
        {
          "output_type": "stream",
          "name": "stderr",
          "text": [
            "<ipython-input-118-0deb04035900>:12: FutureWarning: to_gbq is deprecated and will be removed in a future version. Please use pandas_gbq.to_gbq instead: https://pandas-gbq.readthedocs.io/en/latest/api.html#pandas_gbq.to_gbq\n",
            "  df_ajout.to_gbq(\n",
            "100%|██████████| 1/1 [00:00<00:00, 9238.56it/s]\n"
          ]
        },
        {
          "output_type": "stream",
          "name": "stdout",
          "text": [
            "Données chargées avec succès dans BigQuery.\n"
          ]
        },
        {
          "output_type": "stream",
          "name": "stderr",
          "text": [
            "<ipython-input-118-0deb04035900>:12: FutureWarning: to_gbq is deprecated and will be removed in a future version. Please use pandas_gbq.to_gbq instead: https://pandas-gbq.readthedocs.io/en/latest/api.html#pandas_gbq.to_gbq\n",
            "  df_ajout.to_gbq(\n",
            "100%|██████████| 1/1 [00:00<00:00, 9576.04it/s]\n"
          ]
        },
        {
          "output_type": "stream",
          "name": "stdout",
          "text": [
            "Données chargées avec succès dans BigQuery.\n"
          ]
        },
        {
          "output_type": "stream",
          "name": "stderr",
          "text": [
            "<ipython-input-118-0deb04035900>:12: FutureWarning: to_gbq is deprecated and will be removed in a future version. Please use pandas_gbq.to_gbq instead: https://pandas-gbq.readthedocs.io/en/latest/api.html#pandas_gbq.to_gbq\n",
            "  df_ajout.to_gbq(\n",
            "100%|██████████| 1/1 [00:00<00:00, 9597.95it/s]\n"
          ]
        },
        {
          "output_type": "stream",
          "name": "stdout",
          "text": [
            "Données chargées avec succès dans BigQuery.\n"
          ]
        },
        {
          "output_type": "stream",
          "name": "stderr",
          "text": [
            "<ipython-input-118-0deb04035900>:12: FutureWarning: to_gbq is deprecated and will be removed in a future version. Please use pandas_gbq.to_gbq instead: https://pandas-gbq.readthedocs.io/en/latest/api.html#pandas_gbq.to_gbq\n",
            "  df_ajout.to_gbq(\n",
            "100%|██████████| 1/1 [00:00<00:00, 14027.77it/s]\n"
          ]
        },
        {
          "output_type": "stream",
          "name": "stdout",
          "text": [
            "Données chargées avec succès dans BigQuery.\n"
          ]
        },
        {
          "output_type": "stream",
          "name": "stderr",
          "text": [
            "<ipython-input-118-0deb04035900>:12: FutureWarning: to_gbq is deprecated and will be removed in a future version. Please use pandas_gbq.to_gbq instead: https://pandas-gbq.readthedocs.io/en/latest/api.html#pandas_gbq.to_gbq\n",
            "  df_ajout.to_gbq(\n",
            "100%|██████████| 1/1 [00:00<00:00, 7928.74it/s]\n"
          ]
        },
        {
          "output_type": "stream",
          "name": "stdout",
          "text": [
            "Données chargées avec succès dans BigQuery.\n"
          ]
        },
        {
          "output_type": "stream",
          "name": "stderr",
          "text": [
            "<ipython-input-118-0deb04035900>:12: FutureWarning: to_gbq is deprecated and will be removed in a future version. Please use pandas_gbq.to_gbq instead: https://pandas-gbq.readthedocs.io/en/latest/api.html#pandas_gbq.to_gbq\n",
            "  df_ajout.to_gbq(\n",
            "100%|██████████| 1/1 [00:00<00:00, 4987.28it/s]\n"
          ]
        },
        {
          "output_type": "stream",
          "name": "stdout",
          "text": [
            "Données chargées avec succès dans BigQuery.\n"
          ]
        },
        {
          "output_type": "stream",
          "name": "stderr",
          "text": [
            "<ipython-input-118-0deb04035900>:12: FutureWarning: to_gbq is deprecated and will be removed in a future version. Please use pandas_gbq.to_gbq instead: https://pandas-gbq.readthedocs.io/en/latest/api.html#pandas_gbq.to_gbq\n",
            "  df_ajout.to_gbq(\n",
            "100%|██████████| 1/1 [00:00<00:00, 10305.42it/s]\n"
          ]
        },
        {
          "output_type": "stream",
          "name": "stdout",
          "text": [
            "Données chargées avec succès dans BigQuery.\n"
          ]
        },
        {
          "output_type": "stream",
          "name": "stderr",
          "text": [
            "<ipython-input-118-0deb04035900>:12: FutureWarning: to_gbq is deprecated and will be removed in a future version. Please use pandas_gbq.to_gbq instead: https://pandas-gbq.readthedocs.io/en/latest/api.html#pandas_gbq.to_gbq\n",
            "  df_ajout.to_gbq(\n",
            "100%|██████████| 1/1 [00:00<00:00, 7096.96it/s]\n"
          ]
        },
        {
          "output_type": "stream",
          "name": "stdout",
          "text": [
            "Données chargées avec succès dans BigQuery.\n"
          ]
        },
        {
          "output_type": "stream",
          "name": "stderr",
          "text": [
            "<ipython-input-118-0deb04035900>:12: FutureWarning: to_gbq is deprecated and will be removed in a future version. Please use pandas_gbq.to_gbq instead: https://pandas-gbq.readthedocs.io/en/latest/api.html#pandas_gbq.to_gbq\n",
            "  df_ajout.to_gbq(\n",
            "100%|██████████| 1/1 [00:00<00:00, 11586.48it/s]\n"
          ]
        },
        {
          "output_type": "stream",
          "name": "stdout",
          "text": [
            "Données chargées avec succès dans BigQuery.\n"
          ]
        },
        {
          "output_type": "stream",
          "name": "stderr",
          "text": [
            "<ipython-input-118-0deb04035900>:12: FutureWarning: to_gbq is deprecated and will be removed in a future version. Please use pandas_gbq.to_gbq instead: https://pandas-gbq.readthedocs.io/en/latest/api.html#pandas_gbq.to_gbq\n",
            "  df_ajout.to_gbq(\n",
            "100%|██████████| 1/1 [00:00<00:00, 10837.99it/s]\n"
          ]
        },
        {
          "output_type": "stream",
          "name": "stdout",
          "text": [
            "Données chargées avec succès dans BigQuery.\n"
          ]
        },
        {
          "output_type": "stream",
          "name": "stderr",
          "text": [
            "<ipython-input-118-0deb04035900>:12: FutureWarning: to_gbq is deprecated and will be removed in a future version. Please use pandas_gbq.to_gbq instead: https://pandas-gbq.readthedocs.io/en/latest/api.html#pandas_gbq.to_gbq\n",
            "  df_ajout.to_gbq(\n",
            "100%|██████████| 1/1 [00:00<00:00, 13107.20it/s]\n"
          ]
        },
        {
          "output_type": "stream",
          "name": "stdout",
          "text": [
            "Données chargées avec succès dans BigQuery.\n"
          ]
        },
        {
          "output_type": "stream",
          "name": "stderr",
          "text": [
            "<ipython-input-118-0deb04035900>:12: FutureWarning: to_gbq is deprecated and will be removed in a future version. Please use pandas_gbq.to_gbq instead: https://pandas-gbq.readthedocs.io/en/latest/api.html#pandas_gbq.to_gbq\n",
            "  df_ajout.to_gbq(\n",
            "100%|██████████| 1/1 [00:00<00:00, 8943.08it/s]\n"
          ]
        },
        {
          "output_type": "stream",
          "name": "stdout",
          "text": [
            "Données chargées avec succès dans BigQuery.\n"
          ]
        },
        {
          "output_type": "stream",
          "name": "stderr",
          "text": [
            "<ipython-input-118-0deb04035900>:12: FutureWarning: to_gbq is deprecated and will be removed in a future version. Please use pandas_gbq.to_gbq instead: https://pandas-gbq.readthedocs.io/en/latest/api.html#pandas_gbq.to_gbq\n",
            "  df_ajout.to_gbq(\n",
            "100%|██████████| 1/1 [00:00<00:00, 11096.04it/s]\n"
          ]
        },
        {
          "output_type": "stream",
          "name": "stdout",
          "text": [
            "Données chargées avec succès dans BigQuery.\n"
          ]
        },
        {
          "output_type": "stream",
          "name": "stderr",
          "text": [
            "<ipython-input-118-0deb04035900>:12: FutureWarning: to_gbq is deprecated and will be removed in a future version. Please use pandas_gbq.to_gbq instead: https://pandas-gbq.readthedocs.io/en/latest/api.html#pandas_gbq.to_gbq\n",
            "  df_ajout.to_gbq(\n",
            "100%|██████████| 1/1 [00:00<00:00, 7358.43it/s]\n"
          ]
        },
        {
          "output_type": "stream",
          "name": "stdout",
          "text": [
            "Données chargées avec succès dans BigQuery.\n"
          ]
        },
        {
          "output_type": "stream",
          "name": "stderr",
          "text": [
            "<ipython-input-118-0deb04035900>:12: FutureWarning: to_gbq is deprecated and will be removed in a future version. Please use pandas_gbq.to_gbq instead: https://pandas-gbq.readthedocs.io/en/latest/api.html#pandas_gbq.to_gbq\n",
            "  df_ajout.to_gbq(\n",
            "100%|██████████| 1/1 [00:00<00:00, 11459.85it/s]\n"
          ]
        },
        {
          "output_type": "stream",
          "name": "stdout",
          "text": [
            "Données chargées avec succès dans BigQuery.\n"
          ]
        },
        {
          "output_type": "stream",
          "name": "stderr",
          "text": [
            "<ipython-input-118-0deb04035900>:12: FutureWarning: to_gbq is deprecated and will be removed in a future version. Please use pandas_gbq.to_gbq instead: https://pandas-gbq.readthedocs.io/en/latest/api.html#pandas_gbq.to_gbq\n",
            "  df_ajout.to_gbq(\n",
            "100%|██████████| 1/1 [00:00<00:00, 5753.50it/s]\n"
          ]
        },
        {
          "output_type": "stream",
          "name": "stdout",
          "text": [
            "Données chargées avec succès dans BigQuery.\n"
          ]
        },
        {
          "output_type": "stream",
          "name": "stderr",
          "text": [
            "<ipython-input-118-0deb04035900>:12: FutureWarning: to_gbq is deprecated and will be removed in a future version. Please use pandas_gbq.to_gbq instead: https://pandas-gbq.readthedocs.io/en/latest/api.html#pandas_gbq.to_gbq\n",
            "  df_ajout.to_gbq(\n",
            "100%|██████████| 1/1 [00:00<00:00, 10782.27it/s]\n"
          ]
        },
        {
          "output_type": "stream",
          "name": "stdout",
          "text": [
            "Données chargées avec succès dans BigQuery.\n"
          ]
        },
        {
          "output_type": "stream",
          "name": "stderr",
          "text": [
            "<ipython-input-118-0deb04035900>:12: FutureWarning: to_gbq is deprecated and will be removed in a future version. Please use pandas_gbq.to_gbq instead: https://pandas-gbq.readthedocs.io/en/latest/api.html#pandas_gbq.to_gbq\n",
            "  df_ajout.to_gbq(\n",
            "100%|██████████| 1/1 [00:00<00:00, 11397.57it/s]\n"
          ]
        },
        {
          "output_type": "stream",
          "name": "stdout",
          "text": [
            "Données chargées avec succès dans BigQuery.\n"
          ]
        },
        {
          "output_type": "stream",
          "name": "stderr",
          "text": [
            "<ipython-input-118-0deb04035900>:12: FutureWarning: to_gbq is deprecated and will be removed in a future version. Please use pandas_gbq.to_gbq instead: https://pandas-gbq.readthedocs.io/en/latest/api.html#pandas_gbq.to_gbq\n",
            "  df_ajout.to_gbq(\n",
            "100%|██████████| 1/1 [00:00<00:00, 10305.42it/s]\n"
          ]
        },
        {
          "output_type": "stream",
          "name": "stdout",
          "text": [
            "Données chargées avec succès dans BigQuery.\n"
          ]
        },
        {
          "output_type": "stream",
          "name": "stderr",
          "text": [
            "<ipython-input-118-0deb04035900>:12: FutureWarning: to_gbq is deprecated and will be removed in a future version. Please use pandas_gbq.to_gbq instead: https://pandas-gbq.readthedocs.io/en/latest/api.html#pandas_gbq.to_gbq\n",
            "  df_ajout.to_gbq(\n",
            "100%|██████████| 1/1 [00:00<00:00, 10979.85it/s]\n"
          ]
        },
        {
          "output_type": "stream",
          "name": "stdout",
          "text": [
            "Données chargées avec succès dans BigQuery.\n"
          ]
        },
        {
          "output_type": "stream",
          "name": "stderr",
          "text": [
            "<ipython-input-118-0deb04035900>:12: FutureWarning: to_gbq is deprecated and will be removed in a future version. Please use pandas_gbq.to_gbq instead: https://pandas-gbq.readthedocs.io/en/latest/api.html#pandas_gbq.to_gbq\n",
            "  df_ajout.to_gbq(\n",
            "100%|██████████| 1/1 [00:00<00:00, 12192.74it/s]\n"
          ]
        },
        {
          "output_type": "stream",
          "name": "stdout",
          "text": [
            "Données chargées avec succès dans BigQuery.\n"
          ]
        },
        {
          "output_type": "stream",
          "name": "stderr",
          "text": [
            "<ipython-input-118-0deb04035900>:12: FutureWarning: to_gbq is deprecated and will be removed in a future version. Please use pandas_gbq.to_gbq instead: https://pandas-gbq.readthedocs.io/en/latest/api.html#pandas_gbq.to_gbq\n",
            "  df_ajout.to_gbq(\n",
            "100%|██████████| 1/1 [00:00<00:00, 13315.25it/s]\n"
          ]
        },
        {
          "output_type": "stream",
          "name": "stdout",
          "text": [
            "Données chargées avec succès dans BigQuery.\n"
          ]
        },
        {
          "output_type": "stream",
          "name": "stderr",
          "text": [
            "<ipython-input-118-0deb04035900>:12: FutureWarning: to_gbq is deprecated and will be removed in a future version. Please use pandas_gbq.to_gbq instead: https://pandas-gbq.readthedocs.io/en/latest/api.html#pandas_gbq.to_gbq\n",
            "  df_ajout.to_gbq(\n",
            "100%|██████████| 1/1 [00:00<00:00, 8192.00it/s]\n"
          ]
        },
        {
          "output_type": "stream",
          "name": "stdout",
          "text": [
            "Données chargées avec succès dans BigQuery.\n"
          ]
        },
        {
          "output_type": "stream",
          "name": "stderr",
          "text": [
            "<ipython-input-118-0deb04035900>:12: FutureWarning: to_gbq is deprecated and will be removed in a future version. Please use pandas_gbq.to_gbq instead: https://pandas-gbq.readthedocs.io/en/latest/api.html#pandas_gbq.to_gbq\n",
            "  df_ajout.to_gbq(\n",
            "100%|██████████| 1/1 [00:00<00:00, 10230.01it/s]\n"
          ]
        },
        {
          "output_type": "stream",
          "name": "stdout",
          "text": [
            "Données chargées avec succès dans BigQuery.\n"
          ]
        },
        {
          "output_type": "stream",
          "name": "stderr",
          "text": [
            "<ipython-input-118-0deb04035900>:12: FutureWarning: to_gbq is deprecated and will be removed in a future version. Please use pandas_gbq.to_gbq instead: https://pandas-gbq.readthedocs.io/en/latest/api.html#pandas_gbq.to_gbq\n",
            "  df_ajout.to_gbq(\n",
            "100%|██████████| 1/1 [00:00<00:00, 6017.65it/s]\n"
          ]
        },
        {
          "output_type": "stream",
          "name": "stdout",
          "text": [
            "Données chargées avec succès dans BigQuery.\n"
          ]
        },
        {
          "output_type": "stream",
          "name": "stderr",
          "text": [
            "<ipython-input-118-0deb04035900>:12: FutureWarning: to_gbq is deprecated and will be removed in a future version. Please use pandas_gbq.to_gbq instead: https://pandas-gbq.readthedocs.io/en/latest/api.html#pandas_gbq.to_gbq\n",
            "  df_ajout.to_gbq(\n",
            "100%|██████████| 1/1 [00:00<00:00, 9157.87it/s]\n"
          ]
        },
        {
          "output_type": "stream",
          "name": "stdout",
          "text": [
            "Données chargées avec succès dans BigQuery.\n"
          ]
        },
        {
          "output_type": "stream",
          "name": "stderr",
          "text": [
            "<ipython-input-118-0deb04035900>:12: FutureWarning: to_gbq is deprecated and will be removed in a future version. Please use pandas_gbq.to_gbq instead: https://pandas-gbq.readthedocs.io/en/latest/api.html#pandas_gbq.to_gbq\n",
            "  df_ajout.to_gbq(\n",
            "100%|██████████| 1/1 [00:00<00:00, 10058.28it/s]\n"
          ]
        },
        {
          "output_type": "stream",
          "name": "stdout",
          "text": [
            "Données chargées avec succès dans BigQuery.\n"
          ]
        },
        {
          "output_type": "stream",
          "name": "stderr",
          "text": [
            "<ipython-input-118-0deb04035900>:12: FutureWarning: to_gbq is deprecated and will be removed in a future version. Please use pandas_gbq.to_gbq instead: https://pandas-gbq.readthedocs.io/en/latest/api.html#pandas_gbq.to_gbq\n",
            "  df_ajout.to_gbq(\n",
            "100%|██████████| 1/1 [00:00<00:00, 10058.28it/s]\n"
          ]
        },
        {
          "output_type": "stream",
          "name": "stdout",
          "text": [
            "Données chargées avec succès dans BigQuery.\n"
          ]
        },
        {
          "output_type": "stream",
          "name": "stderr",
          "text": [
            "<ipython-input-118-0deb04035900>:12: FutureWarning: to_gbq is deprecated and will be removed in a future version. Please use pandas_gbq.to_gbq instead: https://pandas-gbq.readthedocs.io/en/latest/api.html#pandas_gbq.to_gbq\n",
            "  df_ajout.to_gbq(\n",
            "100%|██████████| 1/1 [00:00<00:00, 10230.01it/s]\n"
          ]
        },
        {
          "output_type": "stream",
          "name": "stdout",
          "text": [
            "Données chargées avec succès dans BigQuery.\n"
          ]
        },
        {
          "output_type": "stream",
          "name": "stderr",
          "text": [
            "<ipython-input-118-0deb04035900>:12: FutureWarning: to_gbq is deprecated and will be removed in a future version. Please use pandas_gbq.to_gbq instead: https://pandas-gbq.readthedocs.io/en/latest/api.html#pandas_gbq.to_gbq\n",
            "  df_ajout.to_gbq(\n",
            "100%|██████████| 1/1 [00:00<00:00, 6797.90it/s]\n"
          ]
        },
        {
          "output_type": "stream",
          "name": "stdout",
          "text": [
            "Données chargées avec succès dans BigQuery.\n"
          ]
        },
        {
          "output_type": "stream",
          "name": "stderr",
          "text": [
            "<ipython-input-118-0deb04035900>:12: FutureWarning: to_gbq is deprecated and will be removed in a future version. Please use pandas_gbq.to_gbq instead: https://pandas-gbq.readthedocs.io/en/latest/api.html#pandas_gbq.to_gbq\n",
            "  df_ajout.to_gbq(\n",
            "100%|██████████| 1/1 [00:00<00:00, 11275.01it/s]\n"
          ]
        },
        {
          "output_type": "stream",
          "name": "stdout",
          "text": [
            "Données chargées avec succès dans BigQuery.\n"
          ]
        },
        {
          "output_type": "stream",
          "name": "stderr",
          "text": [
            "<ipython-input-118-0deb04035900>:12: FutureWarning: to_gbq is deprecated and will be removed in a future version. Please use pandas_gbq.to_gbq instead: https://pandas-gbq.readthedocs.io/en/latest/api.html#pandas_gbq.to_gbq\n",
            "  df_ajout.to_gbq(\n",
            "100%|██████████| 1/1 [00:00<00:00, 16131.94it/s]\n"
          ]
        },
        {
          "output_type": "stream",
          "name": "stdout",
          "text": [
            "Données chargées avec succès dans BigQuery.\n"
          ]
        },
        {
          "output_type": "stream",
          "name": "stderr",
          "text": [
            "<ipython-input-118-0deb04035900>:12: FutureWarning: to_gbq is deprecated and will be removed in a future version. Please use pandas_gbq.to_gbq instead: https://pandas-gbq.readthedocs.io/en/latest/api.html#pandas_gbq.to_gbq\n",
            "  df_ajout.to_gbq(\n",
            "100%|██████████| 1/1 [00:00<00:00, 11748.75it/s]\n"
          ]
        },
        {
          "output_type": "stream",
          "name": "stdout",
          "text": [
            "Données chargées avec succès dans BigQuery.\n"
          ]
        },
        {
          "output_type": "stream",
          "name": "stderr",
          "text": [
            "<ipython-input-118-0deb04035900>:12: FutureWarning: to_gbq is deprecated and will be removed in a future version. Please use pandas_gbq.to_gbq instead: https://pandas-gbq.readthedocs.io/en/latest/api.html#pandas_gbq.to_gbq\n",
            "  df_ajout.to_gbq(\n",
            "100%|██████████| 1/1 [00:00<00:00, 7049.25it/s]\n"
          ]
        },
        {
          "output_type": "stream",
          "name": "stdout",
          "text": [
            "Données chargées avec succès dans BigQuery.\n"
          ]
        },
        {
          "output_type": "stream",
          "name": "stderr",
          "text": [
            "<ipython-input-118-0deb04035900>:12: FutureWarning: to_gbq is deprecated and will be removed in a future version. Please use pandas_gbq.to_gbq instead: https://pandas-gbq.readthedocs.io/en/latest/api.html#pandas_gbq.to_gbq\n",
            "  df_ajout.to_gbq(\n",
            "100%|██████████| 1/1 [00:00<00:00, 9597.95it/s]\n"
          ]
        },
        {
          "output_type": "stream",
          "name": "stdout",
          "text": [
            "Données chargées avec succès dans BigQuery.\n"
          ]
        },
        {
          "output_type": "stream",
          "name": "stderr",
          "text": [
            "<ipython-input-118-0deb04035900>:12: FutureWarning: to_gbq is deprecated and will be removed in a future version. Please use pandas_gbq.to_gbq instead: https://pandas-gbq.readthedocs.io/en/latest/api.html#pandas_gbq.to_gbq\n",
            "  df_ajout.to_gbq(\n",
            "100%|██████████| 1/1 [00:00<00:00, 12336.19it/s]\n"
          ]
        },
        {
          "output_type": "stream",
          "name": "stdout",
          "text": [
            "Données chargées avec succès dans BigQuery.\n"
          ]
        },
        {
          "output_type": "stream",
          "name": "stderr",
          "text": [
            "<ipython-input-118-0deb04035900>:12: FutureWarning: to_gbq is deprecated and will be removed in a future version. Please use pandas_gbq.to_gbq instead: https://pandas-gbq.readthedocs.io/en/latest/api.html#pandas_gbq.to_gbq\n",
            "  df_ajout.to_gbq(\n",
            "100%|██████████| 1/1 [00:00<00:00, 12228.29it/s]\n"
          ]
        },
        {
          "output_type": "stream",
          "name": "stdout",
          "text": [
            "Données chargées avec succès dans BigQuery.\n"
          ]
        },
        {
          "output_type": "stream",
          "name": "stderr",
          "text": [
            "<ipython-input-118-0deb04035900>:12: FutureWarning: to_gbq is deprecated and will be removed in a future version. Please use pandas_gbq.to_gbq instead: https://pandas-gbq.readthedocs.io/en/latest/api.html#pandas_gbq.to_gbq\n",
            "  df_ajout.to_gbq(\n",
            "100%|██████████| 1/1 [00:00<00:00, 10280.16it/s]\n"
          ]
        },
        {
          "output_type": "stream",
          "name": "stdout",
          "text": [
            "Données chargées avec succès dans BigQuery.\n"
          ]
        },
        {
          "output_type": "stream",
          "name": "stderr",
          "text": [
            "<ipython-input-118-0deb04035900>:12: FutureWarning: to_gbq is deprecated and will be removed in a future version. Please use pandas_gbq.to_gbq instead: https://pandas-gbq.readthedocs.io/en/latest/api.html#pandas_gbq.to_gbq\n",
            "  df_ajout.to_gbq(\n",
            "100%|██████████| 1/1 [00:00<00:00, 12945.38it/s]\n"
          ]
        },
        {
          "output_type": "stream",
          "name": "stdout",
          "text": [
            "Données chargées avec succès dans BigQuery.\n"
          ]
        },
        {
          "output_type": "stream",
          "name": "stderr",
          "text": [
            "<ipython-input-118-0deb04035900>:12: FutureWarning: to_gbq is deprecated and will be removed in a future version. Please use pandas_gbq.to_gbq instead: https://pandas-gbq.readthedocs.io/en/latest/api.html#pandas_gbq.to_gbq\n",
            "  df_ajout.to_gbq(\n",
            "100%|██████████| 1/1 [00:00<00:00, 10591.68it/s]\n"
          ]
        },
        {
          "output_type": "stream",
          "name": "stdout",
          "text": [
            "Données chargées avec succès dans BigQuery.\n"
          ]
        },
        {
          "output_type": "stream",
          "name": "stderr",
          "text": [
            "<ipython-input-118-0deb04035900>:12: FutureWarning: to_gbq is deprecated and will be removed in a future version. Please use pandas_gbq.to_gbq instead: https://pandas-gbq.readthedocs.io/en/latest/api.html#pandas_gbq.to_gbq\n",
            "  df_ajout.to_gbq(\n",
            "100%|██████████| 1/1 [00:00<00:00, 8338.58it/s]\n"
          ]
        },
        {
          "output_type": "stream",
          "name": "stdout",
          "text": [
            "Données chargées avec succès dans BigQuery.\n"
          ]
        },
        {
          "output_type": "stream",
          "name": "stderr",
          "text": [
            "<ipython-input-118-0deb04035900>:12: FutureWarning: to_gbq is deprecated and will be removed in a future version. Please use pandas_gbq.to_gbq instead: https://pandas-gbq.readthedocs.io/en/latest/api.html#pandas_gbq.to_gbq\n",
            "  df_ajout.to_gbq(\n",
            "100%|██████████| 1/1 [00:00<00:00, 11214.72it/s]\n"
          ]
        },
        {
          "output_type": "stream",
          "name": "stdout",
          "text": [
            "Données chargées avec succès dans BigQuery.\n"
          ]
        },
        {
          "output_type": "stream",
          "name": "stderr",
          "text": [
            "<ipython-input-118-0deb04035900>:12: FutureWarning: to_gbq is deprecated and will be removed in a future version. Please use pandas_gbq.to_gbq instead: https://pandas-gbq.readthedocs.io/en/latest/api.html#pandas_gbq.to_gbq\n",
            "  df_ajout.to_gbq(\n",
            "100%|██████████| 1/1 [00:00<00:00, 9218.25it/s]\n"
          ]
        },
        {
          "output_type": "stream",
          "name": "stdout",
          "text": [
            "Données chargées avec succès dans BigQuery.\n"
          ]
        },
        {
          "output_type": "stream",
          "name": "stderr",
          "text": [
            "<ipython-input-118-0deb04035900>:12: FutureWarning: to_gbq is deprecated and will be removed in a future version. Please use pandas_gbq.to_gbq instead: https://pandas-gbq.readthedocs.io/en/latest/api.html#pandas_gbq.to_gbq\n",
            "  df_ajout.to_gbq(\n",
            "100%|██████████| 1/1 [00:00<00:00, 9446.63it/s]\n"
          ]
        },
        {
          "output_type": "stream",
          "name": "stdout",
          "text": [
            "Données chargées avec succès dans BigQuery.\n"
          ]
        },
        {
          "output_type": "stream",
          "name": "stderr",
          "text": [
            "<ipython-input-118-0deb04035900>:12: FutureWarning: to_gbq is deprecated and will be removed in a future version. Please use pandas_gbq.to_gbq instead: https://pandas-gbq.readthedocs.io/en/latest/api.html#pandas_gbq.to_gbq\n",
            "  df_ajout.to_gbq(\n",
            "100%|██████████| 1/1 [00:00<00:00, 8388.61it/s]\n"
          ]
        },
        {
          "output_type": "stream",
          "name": "stdout",
          "text": [
            "Données chargées avec succès dans BigQuery.\n"
          ]
        },
        {
          "output_type": "stream",
          "name": "stderr",
          "text": [
            "<ipython-input-118-0deb04035900>:12: FutureWarning: to_gbq is deprecated and will be removed in a future version. Please use pandas_gbq.to_gbq instead: https://pandas-gbq.readthedocs.io/en/latest/api.html#pandas_gbq.to_gbq\n",
            "  df_ajout.to_gbq(\n",
            "100%|██████████| 1/1 [00:00<00:00, 10727.12it/s]\n"
          ]
        },
        {
          "output_type": "stream",
          "name": "stdout",
          "text": [
            "Données chargées avec succès dans BigQuery.\n"
          ]
        },
        {
          "output_type": "stream",
          "name": "stderr",
          "text": [
            "<ipython-input-118-0deb04035900>:12: FutureWarning: to_gbq is deprecated and will be removed in a future version. Please use pandas_gbq.to_gbq instead: https://pandas-gbq.readthedocs.io/en/latest/api.html#pandas_gbq.to_gbq\n",
            "  df_ajout.to_gbq(\n",
            "100%|██████████| 1/1 [00:00<00:00, 12446.01it/s]\n"
          ]
        },
        {
          "output_type": "stream",
          "name": "stdout",
          "text": [
            "Données chargées avec succès dans BigQuery.\n"
          ]
        },
        {
          "output_type": "stream",
          "name": "stderr",
          "text": [
            "<ipython-input-118-0deb04035900>:12: FutureWarning: to_gbq is deprecated and will be removed in a future version. Please use pandas_gbq.to_gbq instead: https://pandas-gbq.readthedocs.io/en/latest/api.html#pandas_gbq.to_gbq\n",
            "  df_ajout.to_gbq(\n",
            "100%|██████████| 1/1 [00:00<00:00, 10058.28it/s]\n"
          ]
        },
        {
          "output_type": "stream",
          "name": "stdout",
          "text": [
            "Données chargées avec succès dans BigQuery.\n"
          ]
        },
        {
          "output_type": "stream",
          "name": "stderr",
          "text": [
            "<ipython-input-118-0deb04035900>:12: FutureWarning: to_gbq is deprecated and will be removed in a future version. Please use pandas_gbq.to_gbq instead: https://pandas-gbq.readthedocs.io/en/latest/api.html#pandas_gbq.to_gbq\n",
            "  df_ajout.to_gbq(\n",
            "100%|██████████| 1/1 [00:00<00:00, 1011.16it/s]\n"
          ]
        },
        {
          "output_type": "stream",
          "name": "stdout",
          "text": [
            "Données chargées avec succès dans BigQuery.\n"
          ]
        },
        {
          "output_type": "stream",
          "name": "stderr",
          "text": [
            "<ipython-input-118-0deb04035900>:12: FutureWarning: to_gbq is deprecated and will be removed in a future version. Please use pandas_gbq.to_gbq instead: https://pandas-gbq.readthedocs.io/en/latest/api.html#pandas_gbq.to_gbq\n",
            "  df_ajout.to_gbq(\n",
            "100%|██████████| 1/1 [00:00<00:00, 8756.38it/s]\n"
          ]
        },
        {
          "output_type": "stream",
          "name": "stdout",
          "text": [
            "Données chargées avec succès dans BigQuery.\n"
          ]
        },
        {
          "output_type": "stream",
          "name": "stderr",
          "text": [
            "<ipython-input-118-0deb04035900>:12: FutureWarning: to_gbq is deprecated and will be removed in a future version. Please use pandas_gbq.to_gbq instead: https://pandas-gbq.readthedocs.io/en/latest/api.html#pandas_gbq.to_gbq\n",
            "  df_ajout.to_gbq(\n",
            "100%|██████████| 1/1 [00:00<00:00, 8097.11it/s]\n"
          ]
        },
        {
          "output_type": "stream",
          "name": "stdout",
          "text": [
            "Données chargées avec succès dans BigQuery.\n"
          ]
        },
        {
          "output_type": "stream",
          "name": "stderr",
          "text": [
            "<ipython-input-118-0deb04035900>:12: FutureWarning: to_gbq is deprecated and will be removed in a future version. Please use pandas_gbq.to_gbq instead: https://pandas-gbq.readthedocs.io/en/latest/api.html#pandas_gbq.to_gbq\n",
            "  df_ajout.to_gbq(\n",
            "100%|██████████| 1/1 [00:00<00:00, 7206.71it/s]\n"
          ]
        },
        {
          "output_type": "stream",
          "name": "stdout",
          "text": [
            "Données chargées avec succès dans BigQuery.\n"
          ]
        },
        {
          "output_type": "stream",
          "name": "stderr",
          "text": [
            "<ipython-input-118-0deb04035900>:12: FutureWarning: to_gbq is deprecated and will be removed in a future version. Please use pandas_gbq.to_gbq instead: https://pandas-gbq.readthedocs.io/en/latest/api.html#pandas_gbq.to_gbq\n",
            "  df_ajout.to_gbq(\n",
            "100%|██████████| 1/1 [00:00<00:00, 9822.73it/s]\n"
          ]
        },
        {
          "output_type": "stream",
          "name": "stdout",
          "text": [
            "Données chargées avec succès dans BigQuery.\n"
          ]
        },
        {
          "output_type": "stream",
          "name": "stderr",
          "text": [
            "<ipython-input-118-0deb04035900>:12: FutureWarning: to_gbq is deprecated and will be removed in a future version. Please use pandas_gbq.to_gbq instead: https://pandas-gbq.readthedocs.io/en/latest/api.html#pandas_gbq.to_gbq\n",
            "  df_ajout.to_gbq(\n",
            "100%|██████████| 1/1 [00:00<00:00, 13148.29it/s]\n"
          ]
        },
        {
          "output_type": "stream",
          "name": "stdout",
          "text": [
            "Données chargées avec succès dans BigQuery.\n"
          ]
        },
        {
          "output_type": "stream",
          "name": "stderr",
          "text": [
            "<ipython-input-118-0deb04035900>:12: FutureWarning: to_gbq is deprecated and will be removed in a future version. Please use pandas_gbq.to_gbq instead: https://pandas-gbq.readthedocs.io/en/latest/api.html#pandas_gbq.to_gbq\n",
            "  df_ajout.to_gbq(\n",
            "100%|██████████| 1/1 [00:00<00:00, 9915.61it/s]\n"
          ]
        },
        {
          "output_type": "stream",
          "name": "stdout",
          "text": [
            "Données chargées avec succès dans BigQuery.\n"
          ]
        },
        {
          "output_type": "stream",
          "name": "stderr",
          "text": [
            "<ipython-input-118-0deb04035900>:12: FutureWarning: to_gbq is deprecated and will be removed in a future version. Please use pandas_gbq.to_gbq instead: https://pandas-gbq.readthedocs.io/en/latest/api.html#pandas_gbq.to_gbq\n",
            "  df_ajout.to_gbq(\n",
            "100%|██████████| 1/1 [00:00<00:00, 10538.45it/s]\n"
          ]
        },
        {
          "output_type": "stream",
          "name": "stdout",
          "text": [
            "Données chargées avec succès dans BigQuery.\n"
          ]
        },
        {
          "output_type": "stream",
          "name": "stderr",
          "text": [
            "<ipython-input-118-0deb04035900>:12: FutureWarning: to_gbq is deprecated and will be removed in a future version. Please use pandas_gbq.to_gbq instead: https://pandas-gbq.readthedocs.io/en/latest/api.html#pandas_gbq.to_gbq\n",
            "  df_ajout.to_gbq(\n",
            "100%|██████████| 1/1 [00:00<00:00, 13066.37it/s]\n"
          ]
        },
        {
          "output_type": "stream",
          "name": "stdout",
          "text": [
            "Données chargées avec succès dans BigQuery.\n"
          ]
        },
        {
          "output_type": "stream",
          "name": "stderr",
          "text": [
            "<ipython-input-118-0deb04035900>:12: FutureWarning: to_gbq is deprecated and will be removed in a future version. Please use pandas_gbq.to_gbq instead: https://pandas-gbq.readthedocs.io/en/latest/api.html#pandas_gbq.to_gbq\n",
            "  df_ajout.to_gbq(\n",
            "100%|██████████| 1/1 [00:00<00:00, 10837.99it/s]\n"
          ]
        },
        {
          "output_type": "stream",
          "name": "stdout",
          "text": [
            "Données chargées avec succès dans BigQuery.\n"
          ]
        },
        {
          "output_type": "stream",
          "name": "stderr",
          "text": [
            "<ipython-input-118-0deb04035900>:12: FutureWarning: to_gbq is deprecated and will be removed in a future version. Please use pandas_gbq.to_gbq instead: https://pandas-gbq.readthedocs.io/en/latest/api.html#pandas_gbq.to_gbq\n",
            "  df_ajout.to_gbq(\n",
            "100%|██████████| 1/1 [00:00<00:00, 11184.81it/s]\n"
          ]
        },
        {
          "output_type": "stream",
          "name": "stdout",
          "text": [
            "Données chargées avec succès dans BigQuery.\n"
          ]
        },
        {
          "output_type": "stream",
          "name": "stderr",
          "text": [
            "<ipython-input-118-0deb04035900>:12: FutureWarning: to_gbq is deprecated and will be removed in a future version. Please use pandas_gbq.to_gbq instead: https://pandas-gbq.readthedocs.io/en/latest/api.html#pandas_gbq.to_gbq\n",
            "  df_ajout.to_gbq(\n",
            "100%|██████████| 1/1 [00:00<00:00, 10645.44it/s]\n"
          ]
        },
        {
          "output_type": "stream",
          "name": "stdout",
          "text": [
            "Données chargées avec succès dans BigQuery.\n"
          ]
        },
        {
          "output_type": "stream",
          "name": "stderr",
          "text": [
            "<ipython-input-118-0deb04035900>:12: FutureWarning: to_gbq is deprecated and will be removed in a future version. Please use pandas_gbq.to_gbq instead: https://pandas-gbq.readthedocs.io/en/latest/api.html#pandas_gbq.to_gbq\n",
            "  df_ajout.to_gbq(\n",
            "100%|██████████| 1/1 [00:00<00:00, 10512.04it/s]\n"
          ]
        },
        {
          "output_type": "stream",
          "name": "stdout",
          "text": [
            "Données chargées avec succès dans BigQuery.\n"
          ]
        },
        {
          "output_type": "stream",
          "name": "stderr",
          "text": [
            "<ipython-input-118-0deb04035900>:12: FutureWarning: to_gbq is deprecated and will be removed in a future version. Please use pandas_gbq.to_gbq instead: https://pandas-gbq.readthedocs.io/en/latest/api.html#pandas_gbq.to_gbq\n",
            "  df_ajout.to_gbq(\n",
            "100%|██████████| 1/1 [00:00<00:00, 7973.96it/s]\n"
          ]
        },
        {
          "output_type": "stream",
          "name": "stdout",
          "text": [
            "Données chargées avec succès dans BigQuery.\n"
          ]
        },
        {
          "output_type": "stream",
          "name": "stderr",
          "text": [
            "<ipython-input-118-0deb04035900>:12: FutureWarning: to_gbq is deprecated and will be removed in a future version. Please use pandas_gbq.to_gbq instead: https://pandas-gbq.readthedocs.io/en/latest/api.html#pandas_gbq.to_gbq\n",
            "  df_ajout.to_gbq(\n",
            "100%|██████████| 1/1 [00:00<00:00, 5090.17it/s]\n"
          ]
        },
        {
          "output_type": "stream",
          "name": "stdout",
          "text": [
            "Données chargées avec succès dans BigQuery.\n"
          ]
        },
        {
          "output_type": "stream",
          "name": "stderr",
          "text": [
            "<ipython-input-118-0deb04035900>:12: FutureWarning: to_gbq is deprecated and will be removed in a future version. Please use pandas_gbq.to_gbq instead: https://pandas-gbq.readthedocs.io/en/latest/api.html#pandas_gbq.to_gbq\n",
            "  df_ajout.to_gbq(\n",
            "100%|██████████| 1/1 [00:00<00:00, 10754.63it/s]\n"
          ]
        },
        {
          "output_type": "stream",
          "name": "stdout",
          "text": [
            "Données chargées avec succès dans BigQuery.\n"
          ]
        },
        {
          "output_type": "stream",
          "name": "stderr",
          "text": [
            "<ipython-input-118-0deb04035900>:12: FutureWarning: to_gbq is deprecated and will be removed in a future version. Please use pandas_gbq.to_gbq instead: https://pandas-gbq.readthedocs.io/en/latest/api.html#pandas_gbq.to_gbq\n",
            "  df_ajout.to_gbq(\n",
            "100%|██████████| 1/1 [00:00<00:00, 8830.11it/s]\n"
          ]
        },
        {
          "output_type": "stream",
          "name": "stdout",
          "text": [
            "Données chargées avec succès dans BigQuery.\n"
          ]
        },
        {
          "output_type": "stream",
          "name": "stderr",
          "text": [
            "<ipython-input-118-0deb04035900>:12: FutureWarning: to_gbq is deprecated and will be removed in a future version. Please use pandas_gbq.to_gbq instead: https://pandas-gbq.readthedocs.io/en/latest/api.html#pandas_gbq.to_gbq\n",
            "  df_ajout.to_gbq(\n",
            "100%|██████████| 1/1 [00:00<00:00, 4604.07it/s]\n"
          ]
        },
        {
          "output_type": "stream",
          "name": "stdout",
          "text": [
            "Données chargées avec succès dans BigQuery.\n"
          ]
        },
        {
          "output_type": "stream",
          "name": "stderr",
          "text": [
            "<ipython-input-118-0deb04035900>:12: FutureWarning: to_gbq is deprecated and will be removed in a future version. Please use pandas_gbq.to_gbq instead: https://pandas-gbq.readthedocs.io/en/latest/api.html#pandas_gbq.to_gbq\n",
            "  df_ajout.to_gbq(\n",
            "100%|██████████| 1/1 [00:00<00:00, 11184.81it/s]\n"
          ]
        },
        {
          "output_type": "stream",
          "name": "stdout",
          "text": [
            "Données chargées avec succès dans BigQuery.\n"
          ]
        },
        {
          "output_type": "stream",
          "name": "stderr",
          "text": [
            "<ipython-input-118-0deb04035900>:12: FutureWarning: to_gbq is deprecated and will be removed in a future version. Please use pandas_gbq.to_gbq instead: https://pandas-gbq.readthedocs.io/en/latest/api.html#pandas_gbq.to_gbq\n",
            "  df_ajout.to_gbq(\n",
            "100%|██████████| 1/1 [00:00<00:00, 10305.42it/s]\n"
          ]
        },
        {
          "output_type": "stream",
          "name": "stdout",
          "text": [
            "Données chargées avec succès dans BigQuery.\n"
          ]
        },
        {
          "output_type": "stream",
          "name": "stderr",
          "text": [
            "<ipython-input-118-0deb04035900>:12: FutureWarning: to_gbq is deprecated and will be removed in a future version. Please use pandas_gbq.to_gbq instead: https://pandas-gbq.readthedocs.io/en/latest/api.html#pandas_gbq.to_gbq\n",
            "  df_ajout.to_gbq(\n",
            "100%|██████████| 1/1 [00:00<00:00, 5592.41it/s]\n"
          ]
        },
        {
          "output_type": "stream",
          "name": "stdout",
          "text": [
            "Données chargées avec succès dans BigQuery.\n"
          ]
        },
        {
          "output_type": "stream",
          "name": "stderr",
          "text": [
            "<ipython-input-118-0deb04035900>:12: FutureWarning: to_gbq is deprecated and will be removed in a future version. Please use pandas_gbq.to_gbq instead: https://pandas-gbq.readthedocs.io/en/latest/api.html#pandas_gbq.to_gbq\n",
            "  df_ajout.to_gbq(\n",
            "100%|██████████| 1/1 [00:00<00:00, 5468.45it/s]\n"
          ]
        },
        {
          "output_type": "stream",
          "name": "stdout",
          "text": [
            "Données chargées avec succès dans BigQuery.\n"
          ]
        },
        {
          "output_type": "stream",
          "name": "stderr",
          "text": [
            "<ipython-input-118-0deb04035900>:12: FutureWarning: to_gbq is deprecated and will be removed in a future version. Please use pandas_gbq.to_gbq instead: https://pandas-gbq.readthedocs.io/en/latest/api.html#pandas_gbq.to_gbq\n",
            "  df_ajout.to_gbq(\n",
            "100%|██████████| 1/1 [00:00<00:00, 5924.16it/s]\n"
          ]
        },
        {
          "output_type": "stream",
          "name": "stdout",
          "text": [
            "Données chargées avec succès dans BigQuery.\n"
          ]
        },
        {
          "output_type": "stream",
          "name": "stderr",
          "text": [
            "<ipython-input-118-0deb04035900>:12: FutureWarning: to_gbq is deprecated and will be removed in a future version. Please use pandas_gbq.to_gbq instead: https://pandas-gbq.readthedocs.io/en/latest/api.html#pandas_gbq.to_gbq\n",
            "  df_ajout.to_gbq(\n",
            "100%|██████████| 1/1 [00:00<00:00, 5140.08it/s]\n"
          ]
        },
        {
          "output_type": "stream",
          "name": "stdout",
          "text": [
            "Données chargées avec succès dans BigQuery.\n"
          ]
        },
        {
          "output_type": "stream",
          "name": "stderr",
          "text": [
            "<ipython-input-118-0deb04035900>:12: FutureWarning: to_gbq is deprecated and will be removed in a future version. Please use pandas_gbq.to_gbq instead: https://pandas-gbq.readthedocs.io/en/latest/api.html#pandas_gbq.to_gbq\n",
            "  df_ajout.to_gbq(\n",
            "100%|██████████| 1/1 [00:00<00:00, 6432.98it/s]\n"
          ]
        },
        {
          "output_type": "stream",
          "name": "stdout",
          "text": [
            "Données chargées avec succès dans BigQuery.\n"
          ]
        },
        {
          "output_type": "stream",
          "name": "stderr",
          "text": [
            "<ipython-input-118-0deb04035900>:12: FutureWarning: to_gbq is deprecated and will be removed in a future version. Please use pandas_gbq.to_gbq instead: https://pandas-gbq.readthedocs.io/en/latest/api.html#pandas_gbq.to_gbq\n",
            "  df_ajout.to_gbq(\n",
            "100%|██████████| 1/1 [00:00<00:00, 11848.32it/s]\n"
          ]
        },
        {
          "output_type": "stream",
          "name": "stdout",
          "text": [
            "Données chargées avec succès dans BigQuery.\n"
          ]
        },
        {
          "output_type": "stream",
          "name": "stderr",
          "text": [
            "<ipython-input-118-0deb04035900>:12: FutureWarning: to_gbq is deprecated and will be removed in a future version. Please use pandas_gbq.to_gbq instead: https://pandas-gbq.readthedocs.io/en/latest/api.html#pandas_gbq.to_gbq\n",
            "  df_ajout.to_gbq(\n",
            "100%|██████████| 1/1 [00:00<00:00, 11748.75it/s]\n"
          ]
        },
        {
          "output_type": "stream",
          "name": "stdout",
          "text": [
            "Données chargées avec succès dans BigQuery.\n"
          ]
        },
        {
          "output_type": "stream",
          "name": "stderr",
          "text": [
            "<ipython-input-118-0deb04035900>:12: FutureWarning: to_gbq is deprecated and will be removed in a future version. Please use pandas_gbq.to_gbq instead: https://pandas-gbq.readthedocs.io/en/latest/api.html#pandas_gbq.to_gbq\n",
            "  df_ajout.to_gbq(\n",
            "100%|██████████| 1/1 [00:00<00:00, 8577.31it/s]\n"
          ]
        },
        {
          "output_type": "stream",
          "name": "stdout",
          "text": [
            "Données chargées avec succès dans BigQuery.\n"
          ]
        },
        {
          "output_type": "stream",
          "name": "stderr",
          "text": [
            "<ipython-input-118-0deb04035900>:12: FutureWarning: to_gbq is deprecated and will be removed in a future version. Please use pandas_gbq.to_gbq instead: https://pandas-gbq.readthedocs.io/en/latest/api.html#pandas_gbq.to_gbq\n",
            "  df_ajout.to_gbq(\n",
            "100%|██████████| 1/1 [00:00<00:00, 11155.06it/s]\n"
          ]
        },
        {
          "output_type": "stream",
          "name": "stdout",
          "text": [
            "Données chargées avec succès dans BigQuery.\n"
          ]
        },
        {
          "output_type": "stream",
          "name": "stderr",
          "text": [
            "<ipython-input-118-0deb04035900>:12: FutureWarning: to_gbq is deprecated and will be removed in a future version. Please use pandas_gbq.to_gbq instead: https://pandas-gbq.readthedocs.io/en/latest/api.html#pandas_gbq.to_gbq\n",
            "  df_ajout.to_gbq(\n",
            "100%|██████████| 1/1 [00:00<00:00, 10810.06it/s]\n"
          ]
        },
        {
          "output_type": "stream",
          "name": "stdout",
          "text": [
            "Données chargées avec succès dans BigQuery.\n"
          ]
        },
        {
          "output_type": "stream",
          "name": "stderr",
          "text": [
            "<ipython-input-118-0deb04035900>:12: FutureWarning: to_gbq is deprecated and will be removed in a future version. Please use pandas_gbq.to_gbq instead: https://pandas-gbq.readthedocs.io/en/latest/api.html#pandas_gbq.to_gbq\n",
            "  df_ajout.to_gbq(\n",
            "100%|██████████| 1/1 [00:00<00:00, 9709.04it/s]\n"
          ]
        },
        {
          "output_type": "stream",
          "name": "stdout",
          "text": [
            "Données chargées avec succès dans BigQuery.\n"
          ]
        },
        {
          "output_type": "stream",
          "name": "stderr",
          "text": [
            "<ipython-input-118-0deb04035900>:12: FutureWarning: to_gbq is deprecated and will be removed in a future version. Please use pandas_gbq.to_gbq instead: https://pandas-gbq.readthedocs.io/en/latest/api.html#pandas_gbq.to_gbq\n",
            "  df_ajout.to_gbq(\n",
            "100%|██████████| 1/1 [00:00<00:00, 7410.43it/s]\n"
          ]
        },
        {
          "output_type": "stream",
          "name": "stdout",
          "text": [
            "Données chargées avec succès dans BigQuery.\n"
          ]
        },
        {
          "output_type": "stream",
          "name": "stderr",
          "text": [
            "<ipython-input-118-0deb04035900>:12: FutureWarning: to_gbq is deprecated and will be removed in a future version. Please use pandas_gbq.to_gbq instead: https://pandas-gbq.readthedocs.io/en/latest/api.html#pandas_gbq.to_gbq\n",
            "  df_ajout.to_gbq(\n",
            "100%|██████████| 1/1 [00:00<00:00, 11586.48it/s]\n"
          ]
        },
        {
          "output_type": "stream",
          "name": "stdout",
          "text": [
            "Données chargées avec succès dans BigQuery.\n"
          ]
        },
        {
          "output_type": "stream",
          "name": "stderr",
          "text": [
            "<ipython-input-118-0deb04035900>:12: FutureWarning: to_gbq is deprecated and will be removed in a future version. Please use pandas_gbq.to_gbq instead: https://pandas-gbq.readthedocs.io/en/latest/api.html#pandas_gbq.to_gbq\n",
            "  df_ajout.to_gbq(\n",
            "100%|██████████| 1/1 [00:00<00:00, 11275.01it/s]\n"
          ]
        },
        {
          "output_type": "stream",
          "name": "stdout",
          "text": [
            "Données chargées avec succès dans BigQuery.\n"
          ]
        },
        {
          "output_type": "stream",
          "name": "stderr",
          "text": [
            "<ipython-input-118-0deb04035900>:12: FutureWarning: to_gbq is deprecated and will be removed in a future version. Please use pandas_gbq.to_gbq instead: https://pandas-gbq.readthedocs.io/en/latest/api.html#pandas_gbq.to_gbq\n",
            "  df_ajout.to_gbq(\n",
            "100%|██████████| 1/1 [00:00<00:00, 9489.38it/s]\n"
          ]
        },
        {
          "output_type": "stream",
          "name": "stdout",
          "text": [
            "Données chargées avec succès dans BigQuery.\n"
          ]
        },
        {
          "output_type": "stream",
          "name": "stderr",
          "text": [
            "<ipython-input-118-0deb04035900>:12: FutureWarning: to_gbq is deprecated and will be removed in a future version. Please use pandas_gbq.to_gbq instead: https://pandas-gbq.readthedocs.io/en/latest/api.html#pandas_gbq.to_gbq\n",
            "  df_ajout.to_gbq(\n",
            "100%|██████████| 1/1 [00:00<00:00, 9642.08it/s]\n"
          ]
        },
        {
          "output_type": "stream",
          "name": "stdout",
          "text": [
            "Données chargées avec succès dans BigQuery.\n"
          ]
        },
        {
          "output_type": "stream",
          "name": "stderr",
          "text": [
            "<ipython-input-118-0deb04035900>:12: FutureWarning: to_gbq is deprecated and will be removed in a future version. Please use pandas_gbq.to_gbq instead: https://pandas-gbq.readthedocs.io/en/latest/api.html#pandas_gbq.to_gbq\n",
            "  df_ajout.to_gbq(\n",
            "100%|██████████| 1/1 [00:00<00:00, 13443.28it/s]\n"
          ]
        },
        {
          "output_type": "stream",
          "name": "stdout",
          "text": [
            "Données chargées avec succès dans BigQuery.\n"
          ]
        },
        {
          "output_type": "stream",
          "name": "stderr",
          "text": [
            "<ipython-input-118-0deb04035900>:12: FutureWarning: to_gbq is deprecated and will be removed in a future version. Please use pandas_gbq.to_gbq instead: https://pandas-gbq.readthedocs.io/en/latest/api.html#pandas_gbq.to_gbq\n",
            "  df_ajout.to_gbq(\n",
            "100%|██████████| 1/1 [00:00<00:00, 6096.37it/s]\n"
          ]
        },
        {
          "output_type": "stream",
          "name": "stdout",
          "text": [
            "Données chargées avec succès dans BigQuery.\n"
          ]
        },
        {
          "output_type": "stream",
          "name": "stderr",
          "text": [
            "<ipython-input-118-0deb04035900>:12: FutureWarning: to_gbq is deprecated and will be removed in a future version. Please use pandas_gbq.to_gbq instead: https://pandas-gbq.readthedocs.io/en/latest/api.html#pandas_gbq.to_gbq\n",
            "  df_ajout.to_gbq(\n",
            "100%|██████████| 1/1 [00:00<00:00, 11096.04it/s]\n"
          ]
        },
        {
          "output_type": "stream",
          "name": "stdout",
          "text": [
            "Données chargées avec succès dans BigQuery.\n"
          ]
        },
        {
          "output_type": "stream",
          "name": "stderr",
          "text": [
            "<ipython-input-118-0deb04035900>:12: FutureWarning: to_gbq is deprecated and will be removed in a future version. Please use pandas_gbq.to_gbq instead: https://pandas-gbq.readthedocs.io/en/latest/api.html#pandas_gbq.to_gbq\n",
            "  df_ajout.to_gbq(\n",
            "100%|██████████| 1/1 [00:00<00:00, 8081.51it/s]\n"
          ]
        },
        {
          "output_type": "stream",
          "name": "stdout",
          "text": [
            "Données chargées avec succès dans BigQuery.\n"
          ]
        },
        {
          "output_type": "stream",
          "name": "stderr",
          "text": [
            "<ipython-input-118-0deb04035900>:12: FutureWarning: to_gbq is deprecated and will be removed in a future version. Please use pandas_gbq.to_gbq instead: https://pandas-gbq.readthedocs.io/en/latest/api.html#pandas_gbq.to_gbq\n",
            "  df_ajout.to_gbq(\n",
            "100%|██████████| 1/1 [00:00<00:00, 8322.03it/s]\n"
          ]
        },
        {
          "output_type": "stream",
          "name": "stdout",
          "text": [
            "Données chargées avec succès dans BigQuery.\n"
          ]
        },
        {
          "output_type": "stream",
          "name": "stderr",
          "text": [
            "<ipython-input-118-0deb04035900>:12: FutureWarning: to_gbq is deprecated and will be removed in a future version. Please use pandas_gbq.to_gbq instead: https://pandas-gbq.readthedocs.io/en/latest/api.html#pandas_gbq.to_gbq\n",
            "  df_ajout.to_gbq(\n",
            "100%|██████████| 1/1 [00:00<00:00, 11037.64it/s]\n"
          ]
        },
        {
          "output_type": "stream",
          "name": "stdout",
          "text": [
            "Données chargées avec succès dans BigQuery.\n"
          ]
        },
        {
          "output_type": "stream",
          "name": "stderr",
          "text": [
            "<ipython-input-118-0deb04035900>:12: FutureWarning: to_gbq is deprecated and will be removed in a future version. Please use pandas_gbq.to_gbq instead: https://pandas-gbq.readthedocs.io/en/latest/api.html#pandas_gbq.to_gbq\n",
            "  df_ajout.to_gbq(\n",
            "100%|██████████| 1/1 [00:00<00:00, 12595.51it/s]\n"
          ]
        },
        {
          "output_type": "stream",
          "name": "stdout",
          "text": [
            "Données chargées avec succès dans BigQuery.\n"
          ]
        },
        {
          "output_type": "stream",
          "name": "stderr",
          "text": [
            "<ipython-input-118-0deb04035900>:12: FutureWarning: to_gbq is deprecated and will be removed in a future version. Please use pandas_gbq.to_gbq instead: https://pandas-gbq.readthedocs.io/en/latest/api.html#pandas_gbq.to_gbq\n",
            "  df_ajout.to_gbq(\n",
            "100%|██████████| 1/1 [00:00<00:00, 11096.04it/s]\n"
          ]
        },
        {
          "output_type": "stream",
          "name": "stdout",
          "text": [
            "Données chargées avec succès dans BigQuery.\n"
          ]
        },
        {
          "output_type": "stream",
          "name": "stderr",
          "text": [
            "<ipython-input-118-0deb04035900>:12: FutureWarning: to_gbq is deprecated and will be removed in a future version. Please use pandas_gbq.to_gbq instead: https://pandas-gbq.readthedocs.io/en/latest/api.html#pandas_gbq.to_gbq\n",
            "  df_ajout.to_gbq(\n",
            "100%|██████████| 1/1 [00:00<00:00, 5533.38it/s]\n"
          ]
        },
        {
          "output_type": "stream",
          "name": "stdout",
          "text": [
            "Données chargées avec succès dans BigQuery.\n"
          ]
        },
        {
          "output_type": "stream",
          "name": "stderr",
          "text": [
            "<ipython-input-118-0deb04035900>:12: FutureWarning: to_gbq is deprecated and will be removed in a future version. Please use pandas_gbq.to_gbq instead: https://pandas-gbq.readthedocs.io/en/latest/api.html#pandas_gbq.to_gbq\n",
            "  df_ajout.to_gbq(\n",
            "100%|██████████| 1/1 [00:00<00:00, 13400.33it/s]\n"
          ]
        },
        {
          "output_type": "stream",
          "name": "stdout",
          "text": [
            "Données chargées avec succès dans BigQuery.\n"
          ]
        },
        {
          "output_type": "stream",
          "name": "stderr",
          "text": [
            "<ipython-input-118-0deb04035900>:12: FutureWarning: to_gbq is deprecated and will be removed in a future version. Please use pandas_gbq.to_gbq instead: https://pandas-gbq.readthedocs.io/en/latest/api.html#pandas_gbq.to_gbq\n",
            "  df_ajout.to_gbq(\n",
            "100%|██████████| 1/1 [00:00<00:00, 13189.64it/s]\n"
          ]
        },
        {
          "output_type": "stream",
          "name": "stdout",
          "text": [
            "Données chargées avec succès dans BigQuery.\n"
          ]
        },
        {
          "output_type": "stream",
          "name": "stderr",
          "text": [
            "<ipython-input-118-0deb04035900>:12: FutureWarning: to_gbq is deprecated and will be removed in a future version. Please use pandas_gbq.to_gbq instead: https://pandas-gbq.readthedocs.io/en/latest/api.html#pandas_gbq.to_gbq\n",
            "  df_ajout.to_gbq(\n",
            "100%|██████████| 1/1 [00:00<00:00, 12052.60it/s]\n"
          ]
        },
        {
          "output_type": "stream",
          "name": "stdout",
          "text": [
            "Données chargées avec succès dans BigQuery.\n"
          ]
        },
        {
          "output_type": "stream",
          "name": "stderr",
          "text": [
            "<ipython-input-118-0deb04035900>:12: FutureWarning: to_gbq is deprecated and will be removed in a future version. Please use pandas_gbq.to_gbq instead: https://pandas-gbq.readthedocs.io/en/latest/api.html#pandas_gbq.to_gbq\n",
            "  df_ajout.to_gbq(\n",
            "100%|██████████| 1/1 [00:00<00:00, 9554.22it/s]\n"
          ]
        },
        {
          "output_type": "stream",
          "name": "stdout",
          "text": [
            "Données chargées avec succès dans BigQuery.\n"
          ]
        },
        {
          "output_type": "stream",
          "name": "stderr",
          "text": [
            "<ipython-input-118-0deb04035900>:12: FutureWarning: to_gbq is deprecated and will be removed in a future version. Please use pandas_gbq.to_gbq instead: https://pandas-gbq.readthedocs.io/en/latest/api.html#pandas_gbq.to_gbq\n",
            "  df_ajout.to_gbq(\n",
            "100%|██████████| 1/1 [00:00<00:00, 6921.29it/s]\n"
          ]
        },
        {
          "output_type": "stream",
          "name": "stdout",
          "text": [
            "Données chargées avec succès dans BigQuery.\n"
          ]
        },
        {
          "output_type": "stream",
          "name": "stderr",
          "text": [
            "<ipython-input-118-0deb04035900>:12: FutureWarning: to_gbq is deprecated and will be removed in a future version. Please use pandas_gbq.to_gbq instead: https://pandas-gbq.readthedocs.io/en/latest/api.html#pandas_gbq.to_gbq\n",
            "  df_ajout.to_gbq(\n",
            "100%|██████████| 1/1 [00:00<00:00, 11428.62it/s]\n"
          ]
        },
        {
          "output_type": "stream",
          "name": "stdout",
          "text": [
            "Données chargées avec succès dans BigQuery.\n"
          ]
        },
        {
          "output_type": "stream",
          "name": "stderr",
          "text": [
            "<ipython-input-118-0deb04035900>:12: FutureWarning: to_gbq is deprecated and will be removed in a future version. Please use pandas_gbq.to_gbq instead: https://pandas-gbq.readthedocs.io/en/latest/api.html#pandas_gbq.to_gbq\n",
            "  df_ajout.to_gbq(\n",
            "100%|██████████| 1/1 [00:00<00:00, 10782.27it/s]\n"
          ]
        },
        {
          "output_type": "stream",
          "name": "stdout",
          "text": [
            "Données chargées avec succès dans BigQuery.\n"
          ]
        },
        {
          "output_type": "stream",
          "name": "stderr",
          "text": [
            "<ipython-input-118-0deb04035900>:12: FutureWarning: to_gbq is deprecated and will be removed in a future version. Please use pandas_gbq.to_gbq instead: https://pandas-gbq.readthedocs.io/en/latest/api.html#pandas_gbq.to_gbq\n",
            "  df_ajout.to_gbq(\n",
            "100%|██████████| 1/1 [00:00<00:00, 9446.63it/s]\n"
          ]
        },
        {
          "output_type": "stream",
          "name": "stdout",
          "text": [
            "Données chargées avec succès dans BigQuery.\n"
          ]
        },
        {
          "output_type": "stream",
          "name": "stderr",
          "text": [
            "<ipython-input-118-0deb04035900>:12: FutureWarning: to_gbq is deprecated and will be removed in a future version. Please use pandas_gbq.to_gbq instead: https://pandas-gbq.readthedocs.io/en/latest/api.html#pandas_gbq.to_gbq\n",
            "  df_ajout.to_gbq(\n",
            "100%|██████████| 1/1 [00:00<00:00, 9039.45it/s]\n"
          ]
        },
        {
          "output_type": "stream",
          "name": "stdout",
          "text": [
            "Données chargées avec succès dans BigQuery.\n"
          ]
        },
        {
          "output_type": "stream",
          "name": "stderr",
          "text": [
            "<ipython-input-118-0deb04035900>:12: FutureWarning: to_gbq is deprecated and will be removed in a future version. Please use pandas_gbq.to_gbq instead: https://pandas-gbq.readthedocs.io/en/latest/api.html#pandas_gbq.to_gbq\n",
            "  df_ajout.to_gbq(\n",
            "100%|██████████| 1/1 [00:00<00:00, 11008.67it/s]\n"
          ]
        },
        {
          "output_type": "stream",
          "name": "stdout",
          "text": [
            "Données chargées avec succès dans BigQuery.\n"
          ]
        },
        {
          "output_type": "stream",
          "name": "stderr",
          "text": [
            "<ipython-input-118-0deb04035900>:12: FutureWarning: to_gbq is deprecated and will be removed in a future version. Please use pandas_gbq.to_gbq instead: https://pandas-gbq.readthedocs.io/en/latest/api.html#pandas_gbq.to_gbq\n",
            "  df_ajout.to_gbq(\n",
            "100%|██████████| 1/1 [00:00<00:00, 11037.64it/s]\n"
          ]
        },
        {
          "output_type": "stream",
          "name": "stdout",
          "text": [
            "Données chargées avec succès dans BigQuery.\n"
          ]
        },
        {
          "output_type": "stream",
          "name": "stderr",
          "text": [
            "<ipython-input-118-0deb04035900>:12: FutureWarning: to_gbq is deprecated and will be removed in a future version. Please use pandas_gbq.to_gbq instead: https://pandas-gbq.readthedocs.io/en/latest/api.html#pandas_gbq.to_gbq\n",
            "  df_ajout.to_gbq(\n",
            "100%|██████████| 1/1 [00:00<00:00, 10010.27it/s]\n"
          ]
        },
        {
          "output_type": "stream",
          "name": "stdout",
          "text": [
            "Données chargées avec succès dans BigQuery.\n"
          ]
        },
        {
          "output_type": "stream",
          "name": "stderr",
          "text": [
            "<ipython-input-118-0deb04035900>:12: FutureWarning: to_gbq is deprecated and will be removed in a future version. Please use pandas_gbq.to_gbq instead: https://pandas-gbq.readthedocs.io/en/latest/api.html#pandas_gbq.to_gbq\n",
            "  df_ajout.to_gbq(\n",
            "100%|██████████| 1/1 [00:00<00:00, 8756.38it/s]\n"
          ]
        },
        {
          "output_type": "stream",
          "name": "stdout",
          "text": [
            "Données chargées avec succès dans BigQuery.\n"
          ]
        },
        {
          "output_type": "stream",
          "name": "stderr",
          "text": [
            "<ipython-input-118-0deb04035900>:12: FutureWarning: to_gbq is deprecated and will be removed in a future version. Please use pandas_gbq.to_gbq instead: https://pandas-gbq.readthedocs.io/en/latest/api.html#pandas_gbq.to_gbq\n",
            "  df_ajout.to_gbq(\n",
            "100%|██████████| 1/1 [00:00<00:00, 13842.59it/s]\n"
          ]
        },
        {
          "output_type": "stream",
          "name": "stdout",
          "text": [
            "Données chargées avec succès dans BigQuery.\n"
          ]
        },
        {
          "output_type": "stream",
          "name": "stderr",
          "text": [
            "<ipython-input-118-0deb04035900>:12: FutureWarning: to_gbq is deprecated and will be removed in a future version. Please use pandas_gbq.to_gbq instead: https://pandas-gbq.readthedocs.io/en/latest/api.html#pandas_gbq.to_gbq\n",
            "  df_ajout.to_gbq(\n",
            "100%|██████████| 1/1 [00:00<00:00, 9686.61it/s]\n"
          ]
        },
        {
          "output_type": "stream",
          "name": "stdout",
          "text": [
            "Données chargées avec succès dans BigQuery.\n"
          ]
        },
        {
          "output_type": "stream",
          "name": "stderr",
          "text": [
            "<ipython-input-118-0deb04035900>:12: FutureWarning: to_gbq is deprecated and will be removed in a future version. Please use pandas_gbq.to_gbq instead: https://pandas-gbq.readthedocs.io/en/latest/api.html#pandas_gbq.to_gbq\n",
            "  df_ajout.to_gbq(\n",
            "100%|██████████| 1/1 [00:00<00:00, 11715.93it/s]\n"
          ]
        },
        {
          "output_type": "stream",
          "name": "stdout",
          "text": [
            "Données chargées avec succès dans BigQuery.\n"
          ]
        },
        {
          "output_type": "stream",
          "name": "stderr",
          "text": [
            "<ipython-input-118-0deb04035900>:12: FutureWarning: to_gbq is deprecated and will be removed in a future version. Please use pandas_gbq.to_gbq instead: https://pandas-gbq.readthedocs.io/en/latest/api.html#pandas_gbq.to_gbq\n",
            "  df_ajout.to_gbq(\n",
            "100%|██████████| 1/1 [00:00<00:00, 9320.68it/s]\n"
          ]
        },
        {
          "output_type": "stream",
          "name": "stdout",
          "text": [
            "Données chargées avec succès dans BigQuery.\n"
          ]
        },
        {
          "output_type": "stream",
          "name": "stderr",
          "text": [
            "<ipython-input-118-0deb04035900>:12: FutureWarning: to_gbq is deprecated and will be removed in a future version. Please use pandas_gbq.to_gbq instead: https://pandas-gbq.readthedocs.io/en/latest/api.html#pandas_gbq.to_gbq\n",
            "  df_ajout.to_gbq(\n",
            "100%|██████████| 1/1 [00:00<00:00, 953.47it/s]\n"
          ]
        },
        {
          "output_type": "stream",
          "name": "stdout",
          "text": [
            "Données chargées avec succès dans BigQuery.\n"
          ]
        },
        {
          "output_type": "stream",
          "name": "stderr",
          "text": [
            "<ipython-input-118-0deb04035900>:12: FutureWarning: to_gbq is deprecated and will be removed in a future version. Please use pandas_gbq.to_gbq instead: https://pandas-gbq.readthedocs.io/en/latest/api.html#pandas_gbq.to_gbq\n",
            "  df_ajout.to_gbq(\n",
            "100%|██████████| 1/1 [00:00<00:00, 10034.22it/s]\n"
          ]
        },
        {
          "output_type": "stream",
          "name": "stdout",
          "text": [
            "Données chargées avec succès dans BigQuery.\n"
          ]
        },
        {
          "output_type": "stream",
          "name": "stderr",
          "text": [
            "<ipython-input-118-0deb04035900>:12: FutureWarning: to_gbq is deprecated and will be removed in a future version. Please use pandas_gbq.to_gbq instead: https://pandas-gbq.readthedocs.io/en/latest/api.html#pandas_gbq.to_gbq\n",
            "  df_ajout.to_gbq(\n",
            "100%|██████████| 1/1 [00:00<00:00, 11275.01it/s]\n"
          ]
        },
        {
          "output_type": "stream",
          "name": "stdout",
          "text": [
            "Données chargées avec succès dans BigQuery.\n"
          ]
        },
        {
          "output_type": "stream",
          "name": "stderr",
          "text": [
            "<ipython-input-118-0deb04035900>:12: FutureWarning: to_gbq is deprecated and will be removed in a future version. Please use pandas_gbq.to_gbq instead: https://pandas-gbq.readthedocs.io/en/latest/api.html#pandas_gbq.to_gbq\n",
            "  df_ajout.to_gbq(\n",
            "100%|██████████| 1/1 [00:00<00:00, 11491.24it/s]\n"
          ]
        },
        {
          "output_type": "stream",
          "name": "stdout",
          "text": [
            "Données chargées avec succès dans BigQuery.\n"
          ]
        },
        {
          "output_type": "stream",
          "name": "stderr",
          "text": [
            "<ipython-input-118-0deb04035900>:12: FutureWarning: to_gbq is deprecated and will be removed in a future version. Please use pandas_gbq.to_gbq instead: https://pandas-gbq.readthedocs.io/en/latest/api.html#pandas_gbq.to_gbq\n",
            "  df_ajout.to_gbq(\n",
            "100%|██████████| 1/1 [00:00<00:00, 7639.90it/s]\n"
          ]
        },
        {
          "output_type": "stream",
          "name": "stdout",
          "text": [
            "Données chargées avec succès dans BigQuery.\n"
          ]
        },
        {
          "output_type": "stream",
          "name": "stderr",
          "text": [
            "<ipython-input-118-0deb04035900>:12: FutureWarning: to_gbq is deprecated and will be removed in a future version. Please use pandas_gbq.to_gbq instead: https://pandas-gbq.readthedocs.io/en/latest/api.html#pandas_gbq.to_gbq\n",
            "  df_ajout.to_gbq(\n",
            "100%|██████████| 1/1 [00:00<00:00, 9020.01it/s]\n"
          ]
        },
        {
          "output_type": "stream",
          "name": "stdout",
          "text": [
            "Données chargées avec succès dans BigQuery.\n"
          ]
        },
        {
          "output_type": "stream",
          "name": "stderr",
          "text": [
            "<ipython-input-118-0deb04035900>:12: FutureWarning: to_gbq is deprecated and will be removed in a future version. Please use pandas_gbq.to_gbq instead: https://pandas-gbq.readthedocs.io/en/latest/api.html#pandas_gbq.to_gbq\n",
            "  df_ajout.to_gbq(\n",
            "100%|██████████| 1/1 [00:00<00:00, 10591.68it/s]\n"
          ]
        },
        {
          "output_type": "stream",
          "name": "stdout",
          "text": [
            "Données chargées avec succès dans BigQuery.\n"
          ]
        },
        {
          "output_type": "stream",
          "name": "stderr",
          "text": [
            "<ipython-input-118-0deb04035900>:12: FutureWarning: to_gbq is deprecated and will be removed in a future version. Please use pandas_gbq.to_gbq instead: https://pandas-gbq.readthedocs.io/en/latest/api.html#pandas_gbq.to_gbq\n",
            "  df_ajout.to_gbq(\n",
            "100%|██████████| 1/1 [00:00<00:00, 9642.08it/s]\n"
          ]
        },
        {
          "output_type": "stream",
          "name": "stdout",
          "text": [
            "Données chargées avec succès dans BigQuery.\n"
          ]
        },
        {
          "output_type": "stream",
          "name": "stderr",
          "text": [
            "<ipython-input-118-0deb04035900>:12: FutureWarning: to_gbq is deprecated and will be removed in a future version. Please use pandas_gbq.to_gbq instead: https://pandas-gbq.readthedocs.io/en/latest/api.html#pandas_gbq.to_gbq\n",
            "  df_ajout.to_gbq(\n",
            "100%|██████████| 1/1 [00:00<00:00, 11275.01it/s]\n"
          ]
        },
        {
          "output_type": "stream",
          "name": "stdout",
          "text": [
            "Données chargées avec succès dans BigQuery.\n"
          ]
        },
        {
          "output_type": "stream",
          "name": "stderr",
          "text": [
            "<ipython-input-118-0deb04035900>:12: FutureWarning: to_gbq is deprecated and will be removed in a future version. Please use pandas_gbq.to_gbq instead: https://pandas-gbq.readthedocs.io/en/latest/api.html#pandas_gbq.to_gbq\n",
            "  df_ajout.to_gbq(\n",
            "100%|██████████| 1/1 [00:00<00:00, 9597.95it/s]\n"
          ]
        },
        {
          "output_type": "stream",
          "name": "stdout",
          "text": [
            "Données chargées avec succès dans BigQuery.\n"
          ]
        },
        {
          "output_type": "stream",
          "name": "stderr",
          "text": [
            "<ipython-input-118-0deb04035900>:12: FutureWarning: to_gbq is deprecated and will be removed in a future version. Please use pandas_gbq.to_gbq instead: https://pandas-gbq.readthedocs.io/en/latest/api.html#pandas_gbq.to_gbq\n",
            "  df_ajout.to_gbq(\n",
            "100%|██████████| 1/1 [00:00<00:00, 3788.89it/s]\n"
          ]
        },
        {
          "output_type": "stream",
          "name": "stdout",
          "text": [
            "Données chargées avec succès dans BigQuery.\n"
          ]
        },
        {
          "output_type": "stream",
          "name": "stderr",
          "text": [
            "<ipython-input-118-0deb04035900>:12: FutureWarning: to_gbq is deprecated and will be removed in a future version. Please use pandas_gbq.to_gbq instead: https://pandas-gbq.readthedocs.io/en/latest/api.html#pandas_gbq.to_gbq\n",
            "  df_ajout.to_gbq(\n",
            "100%|██████████| 1/1 [00:00<00:00, 8612.53it/s]\n"
          ]
        },
        {
          "output_type": "stream",
          "name": "stdout",
          "text": [
            "Données chargées avec succès dans BigQuery.\n"
          ]
        },
        {
          "output_type": "stream",
          "name": "stderr",
          "text": [
            "<ipython-input-118-0deb04035900>:12: FutureWarning: to_gbq is deprecated and will be removed in a future version. Please use pandas_gbq.to_gbq instead: https://pandas-gbq.readthedocs.io/en/latest/api.html#pandas_gbq.to_gbq\n",
            "  df_ajout.to_gbq(\n",
            "100%|██████████| 1/1 [00:00<00:00, 11096.04it/s]\n"
          ]
        },
        {
          "output_type": "stream",
          "name": "stdout",
          "text": [
            "Données chargées avec succès dans BigQuery.\n"
          ]
        },
        {
          "output_type": "stream",
          "name": "stderr",
          "text": [
            "<ipython-input-118-0deb04035900>:12: FutureWarning: to_gbq is deprecated and will be removed in a future version. Please use pandas_gbq.to_gbq instead: https://pandas-gbq.readthedocs.io/en/latest/api.html#pandas_gbq.to_gbq\n",
            "  df_ajout.to_gbq(\n",
            "100%|██████████| 1/1 [00:00<00:00, 9489.38it/s]\n"
          ]
        },
        {
          "output_type": "stream",
          "name": "stdout",
          "text": [
            "Données chargées avec succès dans BigQuery.\n"
          ]
        },
        {
          "output_type": "stream",
          "name": "stderr",
          "text": [
            "<ipython-input-118-0deb04035900>:12: FutureWarning: to_gbq is deprecated and will be removed in a future version. Please use pandas_gbq.to_gbq instead: https://pandas-gbq.readthedocs.io/en/latest/api.html#pandas_gbq.to_gbq\n",
            "  df_ajout.to_gbq(\n",
            "100%|██████████| 1/1 [00:00<00:00, 11554.56it/s]\n"
          ]
        },
        {
          "output_type": "stream",
          "name": "stdout",
          "text": [
            "Données chargées avec succès dans BigQuery.\n"
          ]
        },
        {
          "output_type": "stream",
          "name": "stderr",
          "text": [
            "<ipython-input-118-0deb04035900>:12: FutureWarning: to_gbq is deprecated and will be removed in a future version. Please use pandas_gbq.to_gbq instead: https://pandas-gbq.readthedocs.io/en/latest/api.html#pandas_gbq.to_gbq\n",
            "  df_ajout.to_gbq(\n",
            "100%|██████████| 1/1 [00:00<00:00, 11949.58it/s]\n"
          ]
        },
        {
          "output_type": "stream",
          "name": "stdout",
          "text": [
            "Données chargées avec succès dans BigQuery.\n"
          ]
        },
        {
          "output_type": "stream",
          "name": "stderr",
          "text": [
            "<ipython-input-118-0deb04035900>:12: FutureWarning: to_gbq is deprecated and will be removed in a future version. Please use pandas_gbq.to_gbq instead: https://pandas-gbq.readthedocs.io/en/latest/api.html#pandas_gbq.to_gbq\n",
            "  df_ajout.to_gbq(\n",
            "100%|██████████| 1/1 [00:00<00:00, 14122.24it/s]\n"
          ]
        },
        {
          "output_type": "stream",
          "name": "stdout",
          "text": [
            "Données chargées avec succès dans BigQuery.\n"
          ]
        },
        {
          "output_type": "stream",
          "name": "stderr",
          "text": [
            "<ipython-input-118-0deb04035900>:12: FutureWarning: to_gbq is deprecated and will be removed in a future version. Please use pandas_gbq.to_gbq instead: https://pandas-gbq.readthedocs.io/en/latest/api.html#pandas_gbq.to_gbq\n",
            "  df_ajout.to_gbq(\n",
            "100%|██████████| 1/1 [00:00<00:00, 13273.11it/s]\n"
          ]
        },
        {
          "output_type": "stream",
          "name": "stdout",
          "text": [
            "Données chargées avec succès dans BigQuery.\n"
          ]
        },
        {
          "output_type": "stream",
          "name": "stderr",
          "text": [
            "<ipython-input-118-0deb04035900>:12: FutureWarning: to_gbq is deprecated and will be removed in a future version. Please use pandas_gbq.to_gbq instead: https://pandas-gbq.readthedocs.io/en/latest/api.html#pandas_gbq.to_gbq\n",
            "  df_ajout.to_gbq(\n",
            "100%|██████████| 1/1 [00:00<00:00, 12865.96it/s]\n"
          ]
        },
        {
          "output_type": "stream",
          "name": "stdout",
          "text": [
            "Données chargées avec succès dans BigQuery.\n"
          ]
        },
        {
          "output_type": "stream",
          "name": "stderr",
          "text": [
            "<ipython-input-118-0deb04035900>:12: FutureWarning: to_gbq is deprecated and will be removed in a future version. Please use pandas_gbq.to_gbq instead: https://pandas-gbq.readthedocs.io/en/latest/api.html#pandas_gbq.to_gbq\n",
            "  df_ajout.to_gbq(\n",
            "100%|██████████| 1/1 [00:00<00:00, 12905.55it/s]\n"
          ]
        },
        {
          "output_type": "stream",
          "name": "stdout",
          "text": [
            "Données chargées avec succès dans BigQuery.\n"
          ]
        },
        {
          "output_type": "stream",
          "name": "stderr",
          "text": [
            "<ipython-input-118-0deb04035900>:12: FutureWarning: to_gbq is deprecated and will be removed in a future version. Please use pandas_gbq.to_gbq instead: https://pandas-gbq.readthedocs.io/en/latest/api.html#pandas_gbq.to_gbq\n",
            "  df_ajout.to_gbq(\n",
            "100%|██████████| 1/1 [00:00<00:00, 8594.89it/s]\n"
          ]
        },
        {
          "output_type": "stream",
          "name": "stdout",
          "text": [
            "Données chargées avec succès dans BigQuery.\n"
          ]
        },
        {
          "output_type": "stream",
          "name": "stderr",
          "text": [
            "<ipython-input-118-0deb04035900>:12: FutureWarning: to_gbq is deprecated and will be removed in a future version. Please use pandas_gbq.to_gbq instead: https://pandas-gbq.readthedocs.io/en/latest/api.html#pandas_gbq.to_gbq\n",
            "  df_ajout.to_gbq(\n",
            "100%|██████████| 1/1 [00:00<00:00, 8473.34it/s]\n"
          ]
        },
        {
          "output_type": "stream",
          "name": "stdout",
          "text": [
            "Données chargées avec succès dans BigQuery.\n"
          ]
        },
        {
          "output_type": "stream",
          "name": "stderr",
          "text": [
            "<ipython-input-118-0deb04035900>:12: FutureWarning: to_gbq is deprecated and will be removed in a future version. Please use pandas_gbq.to_gbq instead: https://pandas-gbq.readthedocs.io/en/latest/api.html#pandas_gbq.to_gbq\n",
            "  df_ajout.to_gbq(\n",
            "100%|██████████| 1/1 [00:00<00:00, 11184.81it/s]\n"
          ]
        },
        {
          "output_type": "stream",
          "name": "stdout",
          "text": [
            "Données chargées avec succès dans BigQuery.\n"
          ]
        },
        {
          "output_type": "stream",
          "name": "stderr",
          "text": [
            "<ipython-input-118-0deb04035900>:12: FutureWarning: to_gbq is deprecated and will be removed in a future version. Please use pandas_gbq.to_gbq instead: https://pandas-gbq.readthedocs.io/en/latest/api.html#pandas_gbq.to_gbq\n",
            "  df_ajout.to_gbq(\n",
            "100%|██████████| 1/1 [00:00<00:00, 6132.02it/s]\n"
          ]
        },
        {
          "output_type": "stream",
          "name": "stdout",
          "text": [
            "Données chargées avec succès dans BigQuery.\n"
          ]
        },
        {
          "output_type": "stream",
          "name": "stderr",
          "text": [
            "<ipython-input-118-0deb04035900>:12: FutureWarning: to_gbq is deprecated and will be removed in a future version. Please use pandas_gbq.to_gbq instead: https://pandas-gbq.readthedocs.io/en/latest/api.html#pandas_gbq.to_gbq\n",
            "  df_ajout.to_gbq(\n",
            "100%|██████████| 1/1 [00:00<00:00, 10058.28it/s]\n"
          ]
        },
        {
          "output_type": "stream",
          "name": "stdout",
          "text": [
            "Données chargées avec succès dans BigQuery.\n"
          ]
        },
        {
          "output_type": "stream",
          "name": "stderr",
          "text": [
            "<ipython-input-118-0deb04035900>:12: FutureWarning: to_gbq is deprecated and will be removed in a future version. Please use pandas_gbq.to_gbq instead: https://pandas-gbq.readthedocs.io/en/latest/api.html#pandas_gbq.to_gbq\n",
            "  df_ajout.to_gbq(\n",
            "100%|██████████| 1/1 [00:00<00:00, 7557.30it/s]\n"
          ]
        },
        {
          "output_type": "stream",
          "name": "stdout",
          "text": [
            "Données chargées avec succès dans BigQuery.\n"
          ]
        },
        {
          "output_type": "stream",
          "name": "stderr",
          "text": [
            "<ipython-input-118-0deb04035900>:12: FutureWarning: to_gbq is deprecated and will be removed in a future version. Please use pandas_gbq.to_gbq instead: https://pandas-gbq.readthedocs.io/en/latest/api.html#pandas_gbq.to_gbq\n",
            "  df_ajout.to_gbq(\n",
            "100%|██████████| 1/1 [00:00<00:00, 9218.25it/s]\n"
          ]
        },
        {
          "output_type": "stream",
          "name": "stdout",
          "text": [
            "Données chargées avec succès dans BigQuery.\n"
          ]
        },
        {
          "output_type": "stream",
          "name": "stderr",
          "text": [
            "<ipython-input-118-0deb04035900>:12: FutureWarning: to_gbq is deprecated and will be removed in a future version. Please use pandas_gbq.to_gbq instead: https://pandas-gbq.readthedocs.io/en/latest/api.html#pandas_gbq.to_gbq\n",
            "  df_ajout.to_gbq(\n",
            "100%|██████████| 1/1 [00:00<00:00, 11586.48it/s]\n"
          ]
        },
        {
          "output_type": "stream",
          "name": "stdout",
          "text": [
            "Données chargées avec succès dans BigQuery.\n"
          ]
        },
        {
          "output_type": "stream",
          "name": "stderr",
          "text": [
            "<ipython-input-118-0deb04035900>:12: FutureWarning: to_gbq is deprecated and will be removed in a future version. Please use pandas_gbq.to_gbq instead: https://pandas-gbq.readthedocs.io/en/latest/api.html#pandas_gbq.to_gbq\n",
            "  df_ajout.to_gbq(\n",
            "100%|██████████| 1/1 [00:00<00:00, 7839.82it/s]\n"
          ]
        },
        {
          "output_type": "stream",
          "name": "stdout",
          "text": [
            "Données chargées avec succès dans BigQuery.\n"
          ]
        },
        {
          "output_type": "stream",
          "name": "stderr",
          "text": [
            "<ipython-input-118-0deb04035900>:12: FutureWarning: to_gbq is deprecated and will be removed in a future version. Please use pandas_gbq.to_gbq instead: https://pandas-gbq.readthedocs.io/en/latest/api.html#pandas_gbq.to_gbq\n",
            "  df_ajout.to_gbq(\n",
            "100%|██████████| 1/1 [00:00<00:00, 11244.78it/s]\n"
          ]
        },
        {
          "output_type": "stream",
          "name": "stdout",
          "text": [
            "Données chargées avec succès dans BigQuery.\n"
          ]
        },
        {
          "output_type": "stream",
          "name": "stderr",
          "text": [
            "<ipython-input-118-0deb04035900>:12: FutureWarning: to_gbq is deprecated and will be removed in a future version. Please use pandas_gbq.to_gbq instead: https://pandas-gbq.readthedocs.io/en/latest/api.html#pandas_gbq.to_gbq\n",
            "  df_ajout.to_gbq(\n",
            "100%|██████████| 1/1 [00:00<00:00, 12985.46it/s]\n"
          ]
        },
        {
          "output_type": "stream",
          "name": "stdout",
          "text": [
            "Données chargées avec succès dans BigQuery.\n"
          ]
        },
        {
          "output_type": "stream",
          "name": "stderr",
          "text": [
            "<ipython-input-118-0deb04035900>:12: FutureWarning: to_gbq is deprecated and will be removed in a future version. Please use pandas_gbq.to_gbq instead: https://pandas-gbq.readthedocs.io/en/latest/api.html#pandas_gbq.to_gbq\n",
            "  df_ajout.to_gbq(\n",
            "100%|██████████| 1/1 [00:00<00:00, 10082.46it/s]\n"
          ]
        },
        {
          "output_type": "stream",
          "name": "stdout",
          "text": [
            "Données chargées avec succès dans BigQuery.\n"
          ]
        },
        {
          "output_type": "stream",
          "name": "stderr",
          "text": [
            "<ipython-input-118-0deb04035900>:12: FutureWarning: to_gbq is deprecated and will be removed in a future version. Please use pandas_gbq.to_gbq instead: https://pandas-gbq.readthedocs.io/en/latest/api.html#pandas_gbq.to_gbq\n",
            "  df_ajout.to_gbq(\n",
            "100%|██████████| 1/1 [00:00<00:00, 12300.01it/s]\n"
          ]
        },
        {
          "output_type": "stream",
          "name": "stdout",
          "text": [
            "Données chargées avec succès dans BigQuery.\n"
          ]
        },
        {
          "output_type": "stream",
          "name": "stderr",
          "text": [
            "<ipython-input-118-0deb04035900>:12: FutureWarning: to_gbq is deprecated and will be removed in a future version. Please use pandas_gbq.to_gbq instead: https://pandas-gbq.readthedocs.io/en/latest/api.html#pandas_gbq.to_gbq\n",
            "  df_ajout.to_gbq(\n",
            "100%|██████████| 1/1 [00:00<00:00, 6278.90it/s]\n"
          ]
        },
        {
          "output_type": "stream",
          "name": "stdout",
          "text": [
            "Données chargées avec succès dans BigQuery.\n"
          ]
        },
        {
          "output_type": "stream",
          "name": "stderr",
          "text": [
            "<ipython-input-118-0deb04035900>:12: FutureWarning: to_gbq is deprecated and will be removed in a future version. Please use pandas_gbq.to_gbq instead: https://pandas-gbq.readthedocs.io/en/latest/api.html#pandas_gbq.to_gbq\n",
            "  df_ajout.to_gbq(\n",
            "100%|██████████| 1/1 [00:00<00:00, 9962.72it/s]\n"
          ]
        },
        {
          "output_type": "stream",
          "name": "stdout",
          "text": [
            "Données chargées avec succès dans BigQuery.\n"
          ]
        },
        {
          "output_type": "stream",
          "name": "stderr",
          "text": [
            "<ipython-input-118-0deb04035900>:12: FutureWarning: to_gbq is deprecated and will be removed in a future version. Please use pandas_gbq.to_gbq instead: https://pandas-gbq.readthedocs.io/en/latest/api.html#pandas_gbq.to_gbq\n",
            "  df_ajout.to_gbq(\n",
            "100%|██████████| 1/1 [00:00<00:00, 5102.56it/s]\n"
          ]
        },
        {
          "output_type": "stream",
          "name": "stdout",
          "text": [
            "Données chargées avec succès dans BigQuery.\n"
          ]
        },
        {
          "output_type": "stream",
          "name": "stderr",
          "text": [
            "<ipython-input-118-0deb04035900>:12: FutureWarning: to_gbq is deprecated and will be removed in a future version. Please use pandas_gbq.to_gbq instead: https://pandas-gbq.readthedocs.io/en/latest/api.html#pandas_gbq.to_gbq\n",
            "  df_ajout.to_gbq(\n",
            "100%|██████████| 1/1 [00:00<00:00, 5652.70it/s]\n"
          ]
        },
        {
          "output_type": "stream",
          "name": "stdout",
          "text": [
            "Données chargées avec succès dans BigQuery.\n"
          ]
        },
        {
          "output_type": "stream",
          "name": "stderr",
          "text": [
            "<ipython-input-118-0deb04035900>:12: FutureWarning: to_gbq is deprecated and will be removed in a future version. Please use pandas_gbq.to_gbq instead: https://pandas-gbq.readthedocs.io/en/latest/api.html#pandas_gbq.to_gbq\n",
            "  df_ajout.to_gbq(\n",
            "100%|██████████| 1/1 [00:00<00:00, 11586.48it/s]\n"
          ]
        },
        {
          "output_type": "stream",
          "name": "stdout",
          "text": [
            "Données chargées avec succès dans BigQuery.\n"
          ]
        },
        {
          "output_type": "stream",
          "name": "stderr",
          "text": [
            "<ipython-input-118-0deb04035900>:12: FutureWarning: to_gbq is deprecated and will be removed in a future version. Please use pandas_gbq.to_gbq instead: https://pandas-gbq.readthedocs.io/en/latest/api.html#pandas_gbq.to_gbq\n",
            "  df_ajout.to_gbq(\n",
            "100%|██████████| 1/1 [00:00<00:00, 7194.35it/s]\n"
          ]
        },
        {
          "output_type": "stream",
          "name": "stdout",
          "text": [
            "Données chargées avec succès dans BigQuery.\n"
          ]
        },
        {
          "output_type": "stream",
          "name": "stderr",
          "text": [
            "<ipython-input-118-0deb04035900>:12: FutureWarning: to_gbq is deprecated and will be removed in a future version. Please use pandas_gbq.to_gbq instead: https://pandas-gbq.readthedocs.io/en/latest/api.html#pandas_gbq.to_gbq\n",
            "  df_ajout.to_gbq(\n",
            "100%|██████████| 1/1 [00:00<00:00, 7973.96it/s]\n"
          ]
        },
        {
          "output_type": "stream",
          "name": "stdout",
          "text": [
            "Données chargées avec succès dans BigQuery.\n"
          ]
        },
        {
          "output_type": "stream",
          "name": "stderr",
          "text": [
            "<ipython-input-118-0deb04035900>:12: FutureWarning: to_gbq is deprecated and will be removed in a future version. Please use pandas_gbq.to_gbq instead: https://pandas-gbq.readthedocs.io/en/latest/api.html#pandas_gbq.to_gbq\n",
            "  df_ajout.to_gbq(\n",
            "100%|██████████| 1/1 [00:00<00:00, 12945.38it/s]\n"
          ]
        },
        {
          "output_type": "stream",
          "name": "stdout",
          "text": [
            "Données chargées avec succès dans BigQuery.\n"
          ]
        },
        {
          "output_type": "stream",
          "name": "stderr",
          "text": [
            "<ipython-input-118-0deb04035900>:12: FutureWarning: to_gbq is deprecated and will be removed in a future version. Please use pandas_gbq.to_gbq instead: https://pandas-gbq.readthedocs.io/en/latest/api.html#pandas_gbq.to_gbq\n",
            "  df_ajout.to_gbq(\n",
            "100%|██████████| 1/1 [00:00<00:00, 12905.55it/s]\n"
          ]
        },
        {
          "output_type": "stream",
          "name": "stdout",
          "text": [
            "Données chargées avec succès dans BigQuery.\n"
          ]
        },
        {
          "output_type": "stream",
          "name": "stderr",
          "text": [
            "<ipython-input-118-0deb04035900>:12: FutureWarning: to_gbq is deprecated and will be removed in a future version. Please use pandas_gbq.to_gbq instead: https://pandas-gbq.readthedocs.io/en/latest/api.html#pandas_gbq.to_gbq\n",
            "  df_ajout.to_gbq(\n",
            "100%|██████████| 1/1 [00:00<00:00, 11848.32it/s]\n"
          ]
        },
        {
          "output_type": "stream",
          "name": "stdout",
          "text": [
            "Données chargées avec succès dans BigQuery.\n"
          ]
        },
        {
          "output_type": "stream",
          "name": "stderr",
          "text": [
            "<ipython-input-118-0deb04035900>:12: FutureWarning: to_gbq is deprecated and will be removed in a future version. Please use pandas_gbq.to_gbq instead: https://pandas-gbq.readthedocs.io/en/latest/api.html#pandas_gbq.to_gbq\n",
            "  df_ajout.to_gbq(\n",
            "100%|██████████| 1/1 [00:00<00:00, 7476.48it/s]\n"
          ]
        },
        {
          "output_type": "stream",
          "name": "stdout",
          "text": [
            "Données chargées avec succès dans BigQuery.\n"
          ]
        },
        {
          "output_type": "stream",
          "name": "stderr",
          "text": [
            "<ipython-input-118-0deb04035900>:12: FutureWarning: to_gbq is deprecated and will be removed in a future version. Please use pandas_gbq.to_gbq instead: https://pandas-gbq.readthedocs.io/en/latest/api.html#pandas_gbq.to_gbq\n",
            "  df_ajout.to_gbq(\n",
            "100%|██████████| 1/1 [00:00<00:00, 7781.64it/s]\n"
          ]
        },
        {
          "output_type": "stream",
          "name": "stdout",
          "text": [
            "Données chargées avec succès dans BigQuery.\n"
          ]
        },
        {
          "output_type": "stream",
          "name": "stderr",
          "text": [
            "<ipython-input-118-0deb04035900>:12: FutureWarning: to_gbq is deprecated and will be removed in a future version. Please use pandas_gbq.to_gbq instead: https://pandas-gbq.readthedocs.io/en/latest/api.html#pandas_gbq.to_gbq\n",
            "  df_ajout.to_gbq(\n",
            "100%|██████████| 1/1 [00:00<00:00, 10810.06it/s]\n"
          ]
        },
        {
          "output_type": "stream",
          "name": "stdout",
          "text": [
            "Données chargées avec succès dans BigQuery.\n"
          ]
        },
        {
          "output_type": "stream",
          "name": "stderr",
          "text": [
            "<ipython-input-118-0deb04035900>:12: FutureWarning: to_gbq is deprecated and will be removed in a future version. Please use pandas_gbq.to_gbq instead: https://pandas-gbq.readthedocs.io/en/latest/api.html#pandas_gbq.to_gbq\n",
            "  df_ajout.to_gbq(\n",
            "100%|██████████| 1/1 [00:00<00:00, 13148.29it/s]\n"
          ]
        },
        {
          "output_type": "stream",
          "name": "stdout",
          "text": [
            "Données chargées avec succès dans BigQuery.\n"
          ]
        },
        {
          "output_type": "stream",
          "name": "stderr",
          "text": [
            "<ipython-input-118-0deb04035900>:12: FutureWarning: to_gbq is deprecated and will be removed in a future version. Please use pandas_gbq.to_gbq instead: https://pandas-gbq.readthedocs.io/en/latest/api.html#pandas_gbq.to_gbq\n",
            "  df_ajout.to_gbq(\n",
            "100%|██████████| 1/1 [00:00<00:00, 11781.75it/s]\n"
          ]
        },
        {
          "output_type": "stream",
          "name": "stdout",
          "text": [
            "Données chargées avec succès dans BigQuery.\n"
          ]
        },
        {
          "output_type": "stream",
          "name": "stderr",
          "text": [
            "<ipython-input-118-0deb04035900>:12: FutureWarning: to_gbq is deprecated and will be removed in a future version. Please use pandas_gbq.to_gbq instead: https://pandas-gbq.readthedocs.io/en/latest/api.html#pandas_gbq.to_gbq\n",
            "  df_ajout.to_gbq(\n",
            "100%|██████████| 1/1 [00:00<00:00, 7269.16it/s]\n"
          ]
        },
        {
          "output_type": "stream",
          "name": "stdout",
          "text": [
            "Données chargées avec succès dans BigQuery.\n"
          ]
        },
        {
          "output_type": "stream",
          "name": "stderr",
          "text": [
            "<ipython-input-118-0deb04035900>:12: FutureWarning: to_gbq is deprecated and will be removed in a future version. Please use pandas_gbq.to_gbq instead: https://pandas-gbq.readthedocs.io/en/latest/api.html#pandas_gbq.to_gbq\n",
            "  df_ajout.to_gbq(\n",
            "100%|██████████| 1/1 [00:00<00:00, 7307.15it/s]\n"
          ]
        },
        {
          "output_type": "stream",
          "name": "stdout",
          "text": [
            "Données chargées avec succès dans BigQuery.\n"
          ]
        },
        {
          "output_type": "stream",
          "name": "stderr",
          "text": [
            "<ipython-input-118-0deb04035900>:12: FutureWarning: to_gbq is deprecated and will be removed in a future version. Please use pandas_gbq.to_gbq instead: https://pandas-gbq.readthedocs.io/en/latest/api.html#pandas_gbq.to_gbq\n",
            "  df_ajout.to_gbq(\n",
            "100%|██████████| 1/1 [00:00<00:00, 8004.40it/s]\n"
          ]
        },
        {
          "output_type": "stream",
          "name": "stdout",
          "text": [
            "Données chargées avec succès dans BigQuery.\n"
          ]
        },
        {
          "output_type": "stream",
          "name": "stderr",
          "text": [
            "<ipython-input-118-0deb04035900>:12: FutureWarning: to_gbq is deprecated and will be removed in a future version. Please use pandas_gbq.to_gbq instead: https://pandas-gbq.readthedocs.io/en/latest/api.html#pandas_gbq.to_gbq\n",
            "  df_ajout.to_gbq(\n",
            "100%|██████████| 1/1 [00:00<00:00, 9218.25it/s]\n"
          ]
        },
        {
          "output_type": "stream",
          "name": "stdout",
          "text": [
            "Données chargées avec succès dans BigQuery.\n"
          ]
        },
        {
          "output_type": "stream",
          "name": "stderr",
          "text": [
            "<ipython-input-118-0deb04035900>:12: FutureWarning: to_gbq is deprecated and will be removed in a future version. Please use pandas_gbq.to_gbq instead: https://pandas-gbq.readthedocs.io/en/latest/api.html#pandas_gbq.to_gbq\n",
            "  df_ajout.to_gbq(\n",
            "100%|██████████| 1/1 [00:00<00:00, 11814.94it/s]\n"
          ]
        },
        {
          "output_type": "stream",
          "name": "stdout",
          "text": [
            "Données chargées avec succès dans BigQuery.\n"
          ]
        },
        {
          "output_type": "stream",
          "name": "stderr",
          "text": [
            "<ipython-input-118-0deb04035900>:12: FutureWarning: to_gbq is deprecated and will be removed in a future version. Please use pandas_gbq.to_gbq instead: https://pandas-gbq.readthedocs.io/en/latest/api.html#pandas_gbq.to_gbq\n",
            "  df_ajout.to_gbq(\n",
            "100%|██████████| 1/1 [00:00<00:00, 14122.24it/s]\n"
          ]
        },
        {
          "output_type": "stream",
          "name": "stdout",
          "text": [
            "Données chargées avec succès dans BigQuery.\n"
          ]
        },
        {
          "output_type": "stream",
          "name": "stderr",
          "text": [
            "<ipython-input-118-0deb04035900>:12: FutureWarning: to_gbq is deprecated and will be removed in a future version. Please use pandas_gbq.to_gbq instead: https://pandas-gbq.readthedocs.io/en/latest/api.html#pandas_gbq.to_gbq\n",
            "  df_ajout.to_gbq(\n",
            "100%|██████████| 1/1 [00:00<00:00, 11554.56it/s]\n"
          ]
        },
        {
          "output_type": "stream",
          "name": "stdout",
          "text": [
            "Données chargées avec succès dans BigQuery.\n"
          ]
        },
        {
          "output_type": "stream",
          "name": "stderr",
          "text": [
            "<ipython-input-118-0deb04035900>:12: FutureWarning: to_gbq is deprecated and will be removed in a future version. Please use pandas_gbq.to_gbq instead: https://pandas-gbq.readthedocs.io/en/latest/api.html#pandas_gbq.to_gbq\n",
            "  df_ajout.to_gbq(\n",
            "100%|██████████| 1/1 [00:00<00:00, 10951.19it/s]\n"
          ]
        },
        {
          "output_type": "stream",
          "name": "stdout",
          "text": [
            "Données chargées avec succès dans BigQuery.\n"
          ]
        },
        {
          "output_type": "stream",
          "name": "stderr",
          "text": [
            "<ipython-input-118-0deb04035900>:12: FutureWarning: to_gbq is deprecated and will be removed in a future version. Please use pandas_gbq.to_gbq instead: https://pandas-gbq.readthedocs.io/en/latest/api.html#pandas_gbq.to_gbq\n",
            "  df_ajout.to_gbq(\n",
            "100%|██████████| 1/1 [00:00<00:00, 9754.20it/s]\n"
          ]
        },
        {
          "output_type": "stream",
          "name": "stdout",
          "text": [
            "Données chargées avec succès dans BigQuery.\n"
          ]
        },
        {
          "output_type": "stream",
          "name": "stderr",
          "text": [
            "<ipython-input-118-0deb04035900>:12: FutureWarning: to_gbq is deprecated and will be removed in a future version. Please use pandas_gbq.to_gbq instead: https://pandas-gbq.readthedocs.io/en/latest/api.html#pandas_gbq.to_gbq\n",
            "  df_ajout.to_gbq(\n",
            "100%|██████████| 1/1 [00:00<00:00, 8160.12it/s]\n"
          ]
        },
        {
          "output_type": "stream",
          "name": "stdout",
          "text": [
            "Données chargées avec succès dans BigQuery.\n"
          ]
        },
        {
          "output_type": "stream",
          "name": "stderr",
          "text": [
            "<ipython-input-118-0deb04035900>:12: FutureWarning: to_gbq is deprecated and will be removed in a future version. Please use pandas_gbq.to_gbq instead: https://pandas-gbq.readthedocs.io/en/latest/api.html#pandas_gbq.to_gbq\n",
            "  df_ajout.to_gbq(\n",
            "100%|██████████| 1/1 [00:00<00:00, 15650.39it/s]\n"
          ]
        },
        {
          "output_type": "stream",
          "name": "stdout",
          "text": [
            "Données chargées avec succès dans BigQuery.\n"
          ]
        },
        {
          "output_type": "stream",
          "name": "stderr",
          "text": [
            "<ipython-input-118-0deb04035900>:12: FutureWarning: to_gbq is deprecated and will be removed in a future version. Please use pandas_gbq.to_gbq instead: https://pandas-gbq.readthedocs.io/en/latest/api.html#pandas_gbq.to_gbq\n",
            "  df_ajout.to_gbq(\n",
            "100%|██████████| 1/1 [00:00<00:00, 11244.78it/s]\n"
          ]
        },
        {
          "output_type": "stream",
          "name": "stdout",
          "text": [
            "Données chargées avec succès dans BigQuery.\n"
          ]
        },
        {
          "output_type": "stream",
          "name": "stderr",
          "text": [
            "<ipython-input-118-0deb04035900>:12: FutureWarning: to_gbq is deprecated and will be removed in a future version. Please use pandas_gbq.to_gbq instead: https://pandas-gbq.readthedocs.io/en/latest/api.html#pandas_gbq.to_gbq\n",
            "  df_ajout.to_gbq(\n",
            "100%|██████████| 1/1 [00:00<00:00, 11915.64it/s]\n"
          ]
        },
        {
          "output_type": "stream",
          "name": "stdout",
          "text": [
            "Données chargées avec succès dans BigQuery.\n"
          ]
        },
        {
          "output_type": "stream",
          "name": "stderr",
          "text": [
            "<ipython-input-118-0deb04035900>:12: FutureWarning: to_gbq is deprecated and will be removed in a future version. Please use pandas_gbq.to_gbq instead: https://pandas-gbq.readthedocs.io/en/latest/api.html#pandas_gbq.to_gbq\n",
            "  df_ajout.to_gbq(\n",
            "100%|██████████| 1/1 [00:00<00:00, 10727.12it/s]\n"
          ]
        },
        {
          "output_type": "stream",
          "name": "stdout",
          "text": [
            "Données chargées avec succès dans BigQuery.\n"
          ]
        },
        {
          "output_type": "stream",
          "name": "stderr",
          "text": [
            "<ipython-input-118-0deb04035900>:12: FutureWarning: to_gbq is deprecated and will be removed in a future version. Please use pandas_gbq.to_gbq instead: https://pandas-gbq.readthedocs.io/en/latest/api.html#pandas_gbq.to_gbq\n",
            "  df_ajout.to_gbq(\n",
            "100%|██████████| 1/1 [00:00<00:00, 11066.77it/s]\n"
          ]
        },
        {
          "output_type": "stream",
          "name": "stdout",
          "text": [
            "Données chargées avec succès dans BigQuery.\n"
          ]
        },
        {
          "output_type": "stream",
          "name": "stderr",
          "text": [
            "<ipython-input-118-0deb04035900>:12: FutureWarning: to_gbq is deprecated and will be removed in a future version. Please use pandas_gbq.to_gbq instead: https://pandas-gbq.readthedocs.io/en/latest/api.html#pandas_gbq.to_gbq\n",
            "  df_ajout.to_gbq(\n",
            "100%|██████████| 1/1 [00:00<00:00, 10618.49it/s]\n"
          ]
        },
        {
          "output_type": "stream",
          "name": "stdout",
          "text": [
            "Données chargées avec succès dans BigQuery.\n"
          ]
        },
        {
          "output_type": "stream",
          "name": "stderr",
          "text": [
            "<ipython-input-118-0deb04035900>:12: FutureWarning: to_gbq is deprecated and will be removed in a future version. Please use pandas_gbq.to_gbq instead: https://pandas-gbq.readthedocs.io/en/latest/api.html#pandas_gbq.to_gbq\n",
            "  df_ajout.to_gbq(\n",
            "100%|██████████| 1/1 [00:00<00:00, 11949.58it/s]\n"
          ]
        },
        {
          "output_type": "stream",
          "name": "stdout",
          "text": [
            "Données chargées avec succès dans BigQuery.\n"
          ]
        },
        {
          "output_type": "stream",
          "name": "stderr",
          "text": [
            "<ipython-input-118-0deb04035900>:12: FutureWarning: to_gbq is deprecated and will be removed in a future version. Please use pandas_gbq.to_gbq instead: https://pandas-gbq.readthedocs.io/en/latest/api.html#pandas_gbq.to_gbq\n",
            "  df_ajout.to_gbq(\n",
            "100%|██████████| 1/1 [00:00<00:00, 11008.67it/s]\n"
          ]
        },
        {
          "output_type": "stream",
          "name": "stdout",
          "text": [
            "Données chargées avec succès dans BigQuery.\n"
          ]
        },
        {
          "output_type": "stream",
          "name": "stderr",
          "text": [
            "<ipython-input-118-0deb04035900>:12: FutureWarning: to_gbq is deprecated and will be removed in a future version. Please use pandas_gbq.to_gbq instead: https://pandas-gbq.readthedocs.io/en/latest/api.html#pandas_gbq.to_gbq\n",
            "  df_ajout.to_gbq(\n",
            "100%|██████████| 1/1 [00:00<00:00, 11366.68it/s]\n"
          ]
        },
        {
          "output_type": "stream",
          "name": "stdout",
          "text": [
            "Données chargées avec succès dans BigQuery.\n"
          ]
        },
        {
          "output_type": "stream",
          "name": "stderr",
          "text": [
            "<ipython-input-118-0deb04035900>:12: FutureWarning: to_gbq is deprecated and will be removed in a future version. Please use pandas_gbq.to_gbq instead: https://pandas-gbq.readthedocs.io/en/latest/api.html#pandas_gbq.to_gbq\n",
            "  df_ajout.to_gbq(\n",
            "100%|██████████| 1/1 [00:00<00:00, 10591.68it/s]\n"
          ]
        },
        {
          "output_type": "stream",
          "name": "stdout",
          "text": [
            "Données chargées avec succès dans BigQuery.\n"
          ]
        },
        {
          "output_type": "stream",
          "name": "stderr",
          "text": [
            "<ipython-input-118-0deb04035900>:12: FutureWarning: to_gbq is deprecated and will be removed in a future version. Please use pandas_gbq.to_gbq instead: https://pandas-gbq.readthedocs.io/en/latest/api.html#pandas_gbq.to_gbq\n",
            "  df_ajout.to_gbq(\n",
            "100%|██████████| 1/1 [00:00<00:00, 10131.17it/s]\n"
          ]
        },
        {
          "output_type": "stream",
          "name": "stdout",
          "text": [
            "Données chargées avec succès dans BigQuery.\n"
          ]
        },
        {
          "output_type": "stream",
          "name": "stderr",
          "text": [
            "<ipython-input-118-0deb04035900>:12: FutureWarning: to_gbq is deprecated and will be removed in a future version. Please use pandas_gbq.to_gbq instead: https://pandas-gbq.readthedocs.io/en/latest/api.html#pandas_gbq.to_gbq\n",
            "  df_ajout.to_gbq(\n",
            "100%|██████████| 1/1 [00:00<00:00, 6288.31it/s]\n"
          ]
        },
        {
          "output_type": "stream",
          "name": "stdout",
          "text": [
            "Données chargées avec succès dans BigQuery.\n"
          ]
        },
        {
          "output_type": "stream",
          "name": "stderr",
          "text": [
            "<ipython-input-118-0deb04035900>:12: FutureWarning: to_gbq is deprecated and will be removed in a future version. Please use pandas_gbq.to_gbq instead: https://pandas-gbq.readthedocs.io/en/latest/api.html#pandas_gbq.to_gbq\n",
            "  df_ajout.to_gbq(\n",
            "100%|██████████| 1/1 [00:00<00:00, 11244.78it/s]\n"
          ]
        },
        {
          "output_type": "stream",
          "name": "stdout",
          "text": [
            "Données chargées avec succès dans BigQuery.\n"
          ]
        },
        {
          "output_type": "stream",
          "name": "stderr",
          "text": [
            "<ipython-input-118-0deb04035900>:12: FutureWarning: to_gbq is deprecated and will be removed in a future version. Please use pandas_gbq.to_gbq instead: https://pandas-gbq.readthedocs.io/en/latest/api.html#pandas_gbq.to_gbq\n",
            "  df_ajout.to_gbq(\n",
            "100%|██████████| 1/1 [00:00<00:00, 13443.28it/s]\n"
          ]
        },
        {
          "output_type": "stream",
          "name": "stdout",
          "text": [
            "Données chargées avec succès dans BigQuery.\n"
          ]
        },
        {
          "output_type": "stream",
          "name": "stderr",
          "text": [
            "<ipython-input-118-0deb04035900>:12: FutureWarning: to_gbq is deprecated and will be removed in a future version. Please use pandas_gbq.to_gbq instead: https://pandas-gbq.readthedocs.io/en/latest/api.html#pandas_gbq.to_gbq\n",
            "  df_ajout.to_gbq(\n",
            "100%|██████████| 1/1 [00:00<00:00, 9597.95it/s]\n"
          ]
        },
        {
          "output_type": "stream",
          "name": "stdout",
          "text": [
            "Données chargées avec succès dans BigQuery.\n"
          ]
        },
        {
          "output_type": "stream",
          "name": "stderr",
          "text": [
            "<ipython-input-118-0deb04035900>:12: FutureWarning: to_gbq is deprecated and will be removed in a future version. Please use pandas_gbq.to_gbq instead: https://pandas-gbq.readthedocs.io/en/latest/api.html#pandas_gbq.to_gbq\n",
            "  df_ajout.to_gbq(\n",
            "100%|██████████| 1/1 [00:00<00:00, 10672.53it/s]\n"
          ]
        },
        {
          "output_type": "stream",
          "name": "stdout",
          "text": [
            "Données chargées avec succès dans BigQuery.\n"
          ]
        },
        {
          "output_type": "stream",
          "name": "stderr",
          "text": [
            "<ipython-input-118-0deb04035900>:12: FutureWarning: to_gbq is deprecated and will be removed in a future version. Please use pandas_gbq.to_gbq instead: https://pandas-gbq.readthedocs.io/en/latest/api.html#pandas_gbq.to_gbq\n",
            "  df_ajout.to_gbq(\n",
            "100%|██████████| 1/1 [00:00<00:00, 9279.43it/s]\n"
          ]
        },
        {
          "output_type": "stream",
          "name": "stdout",
          "text": [
            "Données chargées avec succès dans BigQuery.\n"
          ]
        },
        {
          "output_type": "stream",
          "name": "stderr",
          "text": [
            "<ipython-input-118-0deb04035900>:12: FutureWarning: to_gbq is deprecated and will be removed in a future version. Please use pandas_gbq.to_gbq instead: https://pandas-gbq.readthedocs.io/en/latest/api.html#pandas_gbq.to_gbq\n",
            "  df_ajout.to_gbq(\n",
            "100%|██████████| 1/1 [00:00<00:00, 12483.05it/s]\n"
          ]
        },
        {
          "output_type": "stream",
          "name": "stdout",
          "text": [
            "Données chargées avec succès dans BigQuery.\n"
          ]
        },
        {
          "output_type": "stream",
          "name": "stderr",
          "text": [
            "<ipython-input-118-0deb04035900>:12: FutureWarning: to_gbq is deprecated and will be removed in a future version. Please use pandas_gbq.to_gbq instead: https://pandas-gbq.readthedocs.io/en/latest/api.html#pandas_gbq.to_gbq\n",
            "  df_ajout.to_gbq(\n",
            "100%|██████████| 1/1 [00:00<00:00, 13231.24it/s]\n"
          ]
        },
        {
          "output_type": "stream",
          "name": "stdout",
          "text": [
            "Données chargées avec succès dans BigQuery.\n"
          ]
        },
        {
          "output_type": "stream",
          "name": "stderr",
          "text": [
            "<ipython-input-118-0deb04035900>:12: FutureWarning: to_gbq is deprecated and will be removed in a future version. Please use pandas_gbq.to_gbq instead: https://pandas-gbq.readthedocs.io/en/latest/api.html#pandas_gbq.to_gbq\n",
            "  df_ajout.to_gbq(\n",
            "100%|██████████| 1/1 [00:00<00:00, 11554.56it/s]\n"
          ]
        },
        {
          "output_type": "stream",
          "name": "stdout",
          "text": [
            "Données chargées avec succès dans BigQuery.\n"
          ]
        },
        {
          "output_type": "stream",
          "name": "stderr",
          "text": [
            "<ipython-input-118-0deb04035900>:12: FutureWarning: to_gbq is deprecated and will be removed in a future version. Please use pandas_gbq.to_gbq instead: https://pandas-gbq.readthedocs.io/en/latest/api.html#pandas_gbq.to_gbq\n",
            "  df_ajout.to_gbq(\n",
            "100%|██████████| 1/1 [00:00<00:00, 7738.57it/s]\n"
          ]
        },
        {
          "output_type": "stream",
          "name": "stdout",
          "text": [
            "Données chargées avec succès dans BigQuery.\n"
          ]
        },
        {
          "output_type": "stream",
          "name": "stderr",
          "text": [
            "<ipython-input-118-0deb04035900>:12: FutureWarning: to_gbq is deprecated and will be removed in a future version. Please use pandas_gbq.to_gbq instead: https://pandas-gbq.readthedocs.io/en/latest/api.html#pandas_gbq.to_gbq\n",
            "  df_ajout.to_gbq(\n",
            "100%|██████████| 1/1 [00:00<00:00, 13797.05it/s]\n"
          ]
        },
        {
          "output_type": "stream",
          "name": "stdout",
          "text": [
            "Données chargées avec succès dans BigQuery.\n"
          ]
        },
        {
          "output_type": "stream",
          "name": "stderr",
          "text": [
            "<ipython-input-118-0deb04035900>:12: FutureWarning: to_gbq is deprecated and will be removed in a future version. Please use pandas_gbq.to_gbq instead: https://pandas-gbq.readthedocs.io/en/latest/api.html#pandas_gbq.to_gbq\n",
            "  df_ajout.to_gbq(\n",
            "100%|██████████| 1/1 [00:00<00:00, 10591.68it/s]\n"
          ]
        },
        {
          "output_type": "stream",
          "name": "stdout",
          "text": [
            "Données chargées avec succès dans BigQuery.\n"
          ]
        },
        {
          "output_type": "stream",
          "name": "stderr",
          "text": [
            "<ipython-input-118-0deb04035900>:12: FutureWarning: to_gbq is deprecated and will be removed in a future version. Please use pandas_gbq.to_gbq instead: https://pandas-gbq.readthedocs.io/en/latest/api.html#pandas_gbq.to_gbq\n",
            "  df_ajout.to_gbq(\n",
            "100%|██████████| 1/1 [00:00<00:00, 12595.51it/s]\n"
          ]
        },
        {
          "output_type": "stream",
          "name": "stdout",
          "text": [
            "Données chargées avec succès dans BigQuery.\n"
          ]
        },
        {
          "output_type": "stream",
          "name": "stderr",
          "text": [
            "<ipython-input-118-0deb04035900>:12: FutureWarning: to_gbq is deprecated and will be removed in a future version. Please use pandas_gbq.to_gbq instead: https://pandas-gbq.readthedocs.io/en/latest/api.html#pandas_gbq.to_gbq\n",
            "  df_ajout.to_gbq(\n",
            "100%|██████████| 1/1 [00:00<00:00, 14768.68it/s]\n"
          ]
        },
        {
          "output_type": "stream",
          "name": "stdout",
          "text": [
            "Données chargées avec succès dans BigQuery.\n"
          ]
        },
        {
          "output_type": "stream",
          "name": "stderr",
          "text": [
            "<ipython-input-118-0deb04035900>:12: FutureWarning: to_gbq is deprecated and will be removed in a future version. Please use pandas_gbq.to_gbq instead: https://pandas-gbq.readthedocs.io/en/latest/api.html#pandas_gbq.to_gbq\n",
            "  df_ajout.to_gbq(\n",
            "100%|██████████| 1/1 [00:00<00:00, 450.47it/s]\n"
          ]
        },
        {
          "output_type": "stream",
          "name": "stdout",
          "text": [
            "Données chargées avec succès dans BigQuery.\n"
          ]
        },
        {
          "output_type": "stream",
          "name": "stderr",
          "text": [
            "<ipython-input-118-0deb04035900>:12: FutureWarning: to_gbq is deprecated and will be removed in a future version. Please use pandas_gbq.to_gbq instead: https://pandas-gbq.readthedocs.io/en/latest/api.html#pandas_gbq.to_gbq\n",
            "  df_ajout.to_gbq(\n",
            "100%|██████████| 1/1 [00:00<00:00, 13706.88it/s]\n"
          ]
        },
        {
          "output_type": "stream",
          "name": "stdout",
          "text": [
            "Données chargées avec succès dans BigQuery.\n"
          ]
        },
        {
          "output_type": "stream",
          "name": "stderr",
          "text": [
            "<ipython-input-118-0deb04035900>:12: FutureWarning: to_gbq is deprecated and will be removed in a future version. Please use pandas_gbq.to_gbq instead: https://pandas-gbq.readthedocs.io/en/latest/api.html#pandas_gbq.to_gbq\n",
            "  df_ajout.to_gbq(\n",
            "100%|██████████| 1/1 [00:00<00:00, 13981.01it/s]\n"
          ]
        },
        {
          "output_type": "stream",
          "name": "stdout",
          "text": [
            "Données chargées avec succès dans BigQuery.\n"
          ]
        },
        {
          "output_type": "stream",
          "name": "stderr",
          "text": [
            "<ipython-input-118-0deb04035900>:12: FutureWarning: to_gbq is deprecated and will be removed in a future version. Please use pandas_gbq.to_gbq instead: https://pandas-gbq.readthedocs.io/en/latest/api.html#pandas_gbq.to_gbq\n",
            "  df_ajout.to_gbq(\n",
            "100%|██████████| 1/1 [00:00<00:00, 8738.13it/s]\n"
          ]
        },
        {
          "output_type": "stream",
          "name": "stdout",
          "text": [
            "Données chargées avec succès dans BigQuery.\n"
          ]
        },
        {
          "output_type": "stream",
          "name": "stderr",
          "text": [
            "<ipython-input-118-0deb04035900>:12: FutureWarning: to_gbq is deprecated and will be removed in a future version. Please use pandas_gbq.to_gbq instead: https://pandas-gbq.readthedocs.io/en/latest/api.html#pandas_gbq.to_gbq\n",
            "  df_ajout.to_gbq(\n",
            "100%|██████████| 1/1 [00:00<00:00, 8867.45it/s]\n"
          ]
        },
        {
          "output_type": "stream",
          "name": "stdout",
          "text": [
            "Données chargées avec succès dans BigQuery.\n"
          ]
        },
        {
          "output_type": "stream",
          "name": "stderr",
          "text": [
            "<ipython-input-118-0deb04035900>:12: FutureWarning: to_gbq is deprecated and will be removed in a future version. Please use pandas_gbq.to_gbq instead: https://pandas-gbq.readthedocs.io/en/latest/api.html#pandas_gbq.to_gbq\n",
            "  df_ajout.to_gbq(\n",
            "100%|██████████| 1/1 [00:00<00:00, 14266.34it/s]\n"
          ]
        },
        {
          "output_type": "stream",
          "name": "stdout",
          "text": [
            "Données chargées avec succès dans BigQuery.\n"
          ]
        },
        {
          "output_type": "stream",
          "name": "stderr",
          "text": [
            "<ipython-input-118-0deb04035900>:12: FutureWarning: to_gbq is deprecated and will be removed in a future version. Please use pandas_gbq.to_gbq instead: https://pandas-gbq.readthedocs.io/en/latest/api.html#pandas_gbq.to_gbq\n",
            "  df_ajout.to_gbq(\n",
            "100%|██████████| 1/1 [00:00<00:00, 12192.74it/s]\n"
          ]
        },
        {
          "output_type": "stream",
          "name": "stdout",
          "text": [
            "Données chargées avec succès dans BigQuery.\n"
          ]
        },
        {
          "output_type": "stream",
          "name": "stderr",
          "text": [
            "<ipython-input-118-0deb04035900>:12: FutureWarning: to_gbq is deprecated and will be removed in a future version. Please use pandas_gbq.to_gbq instead: https://pandas-gbq.readthedocs.io/en/latest/api.html#pandas_gbq.to_gbq\n",
            "  df_ajout.to_gbq(\n",
            "100%|██████████| 1/1 [00:00<00:00, 10810.06it/s]\n"
          ]
        },
        {
          "output_type": "stream",
          "name": "stdout",
          "text": [
            "Données chargées avec succès dans BigQuery.\n"
          ]
        },
        {
          "output_type": "stream",
          "name": "stderr",
          "text": [
            "<ipython-input-118-0deb04035900>:12: FutureWarning: to_gbq is deprecated and will be removed in a future version. Please use pandas_gbq.to_gbq instead: https://pandas-gbq.readthedocs.io/en/latest/api.html#pandas_gbq.to_gbq\n",
            "  df_ajout.to_gbq(\n",
            "100%|██████████| 1/1 [00:00<00:00, 9198.04it/s]\n"
          ]
        },
        {
          "output_type": "stream",
          "name": "stdout",
          "text": [
            "Données chargées avec succès dans BigQuery.\n"
          ]
        },
        {
          "output_type": "stream",
          "name": "stderr",
          "text": [
            "<ipython-input-118-0deb04035900>:12: FutureWarning: to_gbq is deprecated and will be removed in a future version. Please use pandas_gbq.to_gbq instead: https://pandas-gbq.readthedocs.io/en/latest/api.html#pandas_gbq.to_gbq\n",
            "  df_ajout.to_gbq(\n",
            "100%|██████████| 1/1 [00:00<00:00, 8577.31it/s]\n"
          ]
        },
        {
          "output_type": "stream",
          "name": "stdout",
          "text": [
            "Données chargées avec succès dans BigQuery.\n"
          ]
        },
        {
          "output_type": "stream",
          "name": "stderr",
          "text": [
            "<ipython-input-118-0deb04035900>:12: FutureWarning: to_gbq is deprecated and will be removed in a future version. Please use pandas_gbq.to_gbq instead: https://pandas-gbq.readthedocs.io/en/latest/api.html#pandas_gbq.to_gbq\n",
            "  df_ajout.to_gbq(\n",
            "100%|██████████| 1/1 [00:00<00:00, 9078.58it/s]\n"
          ]
        },
        {
          "output_type": "stream",
          "name": "stdout",
          "text": [
            "Données chargées avec succès dans BigQuery.\n"
          ]
        },
        {
          "output_type": "stream",
          "name": "stderr",
          "text": [
            "<ipython-input-118-0deb04035900>:12: FutureWarning: to_gbq is deprecated and will be removed in a future version. Please use pandas_gbq.to_gbq instead: https://pandas-gbq.readthedocs.io/en/latest/api.html#pandas_gbq.to_gbq\n",
            "  df_ajout.to_gbq(\n",
            "100%|██████████| 1/1 [00:00<00:00, 10979.85it/s]\n"
          ]
        },
        {
          "output_type": "stream",
          "name": "stdout",
          "text": [
            "Données chargées avec succès dans BigQuery.\n"
          ]
        },
        {
          "output_type": "stream",
          "name": "stderr",
          "text": [
            "<ipython-input-118-0deb04035900>:12: FutureWarning: to_gbq is deprecated and will be removed in a future version. Please use pandas_gbq.to_gbq instead: https://pandas-gbq.readthedocs.io/en/latest/api.html#pandas_gbq.to_gbq\n",
            "  df_ajout.to_gbq(\n",
            "100%|██████████| 1/1 [00:00<00:00, 11125.47it/s]\n"
          ]
        },
        {
          "output_type": "stream",
          "name": "stdout",
          "text": [
            "Données chargées avec succès dans BigQuery.\n"
          ]
        },
        {
          "output_type": "stream",
          "name": "stderr",
          "text": [
            "<ipython-input-118-0deb04035900>:12: FutureWarning: to_gbq is deprecated and will be removed in a future version. Please use pandas_gbq.to_gbq instead: https://pandas-gbq.readthedocs.io/en/latest/api.html#pandas_gbq.to_gbq\n",
            "  df_ajout.to_gbq(\n",
            "100%|██████████| 1/1 [00:00<00:00, 5833.52it/s]\n"
          ]
        },
        {
          "output_type": "stream",
          "name": "stdout",
          "text": [
            "Données chargées avec succès dans BigQuery.\n"
          ]
        },
        {
          "output_type": "stream",
          "name": "stderr",
          "text": [
            "<ipython-input-118-0deb04035900>:12: FutureWarning: to_gbq is deprecated and will be removed in a future version. Please use pandas_gbq.to_gbq instead: https://pandas-gbq.readthedocs.io/en/latest/api.html#pandas_gbq.to_gbq\n",
            "  df_ajout.to_gbq(\n",
            "100%|██████████| 1/1 [00:00<00:00, 11650.84it/s]\n"
          ]
        },
        {
          "output_type": "stream",
          "name": "stdout",
          "text": [
            "Données chargées avec succès dans BigQuery.\n"
          ]
        },
        {
          "output_type": "stream",
          "name": "stderr",
          "text": [
            "<ipython-input-118-0deb04035900>:12: FutureWarning: to_gbq is deprecated and will be removed in a future version. Please use pandas_gbq.to_gbq instead: https://pandas-gbq.readthedocs.io/en/latest/api.html#pandas_gbq.to_gbq\n",
            "  df_ajout.to_gbq(\n",
            "100%|██████████| 1/1 [00:00<00:00, 7825.19it/s]\n"
          ]
        },
        {
          "output_type": "stream",
          "name": "stdout",
          "text": [
            "Données chargées avec succès dans BigQuery.\n"
          ]
        },
        {
          "output_type": "stream",
          "name": "stderr",
          "text": [
            "<ipython-input-118-0deb04035900>:12: FutureWarning: to_gbq is deprecated and will be removed in a future version. Please use pandas_gbq.to_gbq instead: https://pandas-gbq.readthedocs.io/en/latest/api.html#pandas_gbq.to_gbq\n",
            "  df_ajout.to_gbq(\n",
            "100%|██████████| 1/1 [00:00<00:00, 9078.58it/s]\n"
          ]
        },
        {
          "output_type": "stream",
          "name": "stdout",
          "text": [
            "Données chargées avec succès dans BigQuery.\n"
          ]
        },
        {
          "output_type": "stream",
          "name": "stderr",
          "text": [
            "<ipython-input-118-0deb04035900>:12: FutureWarning: to_gbq is deprecated and will be removed in a future version. Please use pandas_gbq.to_gbq instead: https://pandas-gbq.readthedocs.io/en/latest/api.html#pandas_gbq.to_gbq\n",
            "  df_ajout.to_gbq(\n",
            "100%|██████████| 1/1 [00:00<00:00, 10618.49it/s]\n"
          ]
        },
        {
          "output_type": "stream",
          "name": "stdout",
          "text": [
            "Données chargées avec succès dans BigQuery.\n"
          ]
        },
        {
          "output_type": "stream",
          "name": "stderr",
          "text": [
            "<ipython-input-118-0deb04035900>:12: FutureWarning: to_gbq is deprecated and will be removed in a future version. Please use pandas_gbq.to_gbq instead: https://pandas-gbq.readthedocs.io/en/latest/api.html#pandas_gbq.to_gbq\n",
            "  df_ajout.to_gbq(\n",
            "100%|██████████| 1/1 [00:00<00:00, 814.11it/s]\n"
          ]
        },
        {
          "output_type": "stream",
          "name": "stdout",
          "text": [
            "Données chargées avec succès dans BigQuery.\n"
          ]
        },
        {
          "output_type": "stream",
          "name": "stderr",
          "text": [
            "<ipython-input-118-0deb04035900>:12: FutureWarning: to_gbq is deprecated and will be removed in a future version. Please use pandas_gbq.to_gbq instead: https://pandas-gbq.readthedocs.io/en/latest/api.html#pandas_gbq.to_gbq\n",
            "  df_ajout.to_gbq(\n",
            "100%|██████████| 1/1 [00:00<00:00, 4328.49it/s]\n"
          ]
        },
        {
          "output_type": "stream",
          "name": "stdout",
          "text": [
            "Données chargées avec succès dans BigQuery.\n"
          ]
        },
        {
          "output_type": "stream",
          "name": "stderr",
          "text": [
            "<ipython-input-118-0deb04035900>:12: FutureWarning: to_gbq is deprecated and will be removed in a future version. Please use pandas_gbq.to_gbq instead: https://pandas-gbq.readthedocs.io/en/latest/api.html#pandas_gbq.to_gbq\n",
            "  df_ajout.to_gbq(\n",
            "100%|██████████| 1/1 [00:00<00:00, 14074.85it/s]\n"
          ]
        },
        {
          "output_type": "stream",
          "name": "stdout",
          "text": [
            "Données chargées avec succès dans BigQuery.\n"
          ]
        },
        {
          "output_type": "stream",
          "name": "stderr",
          "text": [
            "<ipython-input-118-0deb04035900>:12: FutureWarning: to_gbq is deprecated and will be removed in a future version. Please use pandas_gbq.to_gbq instead: https://pandas-gbq.readthedocs.io/en/latest/api.html#pandas_gbq.to_gbq\n",
            "  df_ajout.to_gbq(\n",
            "100%|██████████| 1/1 [00:00<00:00, 11781.75it/s]\n"
          ]
        },
        {
          "output_type": "stream",
          "name": "stdout",
          "text": [
            "Données chargées avec succès dans BigQuery.\n"
          ]
        },
        {
          "output_type": "stream",
          "name": "stderr",
          "text": [
            "<ipython-input-118-0deb04035900>:12: FutureWarning: to_gbq is deprecated and will be removed in a future version. Please use pandas_gbq.to_gbq instead: https://pandas-gbq.readthedocs.io/en/latest/api.html#pandas_gbq.to_gbq\n",
            "  df_ajout.to_gbq(\n",
            "100%|██████████| 1/1 [00:00<00:00, 10356.31it/s]\n"
          ]
        },
        {
          "output_type": "stream",
          "name": "stdout",
          "text": [
            "Données chargées avec succès dans BigQuery.\n"
          ]
        },
        {
          "output_type": "stream",
          "name": "stderr",
          "text": [
            "<ipython-input-118-0deb04035900>:12: FutureWarning: to_gbq is deprecated and will be removed in a future version. Please use pandas_gbq.to_gbq instead: https://pandas-gbq.readthedocs.io/en/latest/api.html#pandas_gbq.to_gbq\n",
            "  df_ajout.to_gbq(\n",
            "100%|██████████| 1/1 [00:00<00:00, 15141.89it/s]\n"
          ]
        },
        {
          "output_type": "stream",
          "name": "stdout",
          "text": [
            "Données chargées avec succès dans BigQuery.\n"
          ]
        },
        {
          "output_type": "stream",
          "name": "stderr",
          "text": [
            "<ipython-input-118-0deb04035900>:12: FutureWarning: to_gbq is deprecated and will be removed in a future version. Please use pandas_gbq.to_gbq instead: https://pandas-gbq.readthedocs.io/en/latest/api.html#pandas_gbq.to_gbq\n",
            "  df_ajout.to_gbq(\n",
            "100%|██████████| 1/1 [00:00<00:00, 9576.04it/s]\n"
          ]
        },
        {
          "output_type": "stream",
          "name": "stdout",
          "text": [
            "Données chargées avec succès dans BigQuery.\n"
          ]
        },
        {
          "output_type": "stream",
          "name": "stderr",
          "text": [
            "<ipython-input-118-0deb04035900>:12: FutureWarning: to_gbq is deprecated and will be removed in a future version. Please use pandas_gbq.to_gbq instead: https://pandas-gbq.readthedocs.io/en/latest/api.html#pandas_gbq.to_gbq\n",
            "  df_ajout.to_gbq(\n",
            "100%|██████████| 1/1 [00:00<00:00, 12087.33it/s]\n"
          ]
        },
        {
          "output_type": "stream",
          "name": "stdout",
          "text": [
            "Données chargées avec succès dans BigQuery.\n"
          ]
        },
        {
          "output_type": "stream",
          "name": "stderr",
          "text": [
            "<ipython-input-118-0deb04035900>:12: FutureWarning: to_gbq is deprecated and will be removed in a future version. Please use pandas_gbq.to_gbq instead: https://pandas-gbq.readthedocs.io/en/latest/api.html#pandas_gbq.to_gbq\n",
            "  df_ajout.to_gbq(\n",
            "100%|██████████| 1/1 [00:00<00:00, 6278.90it/s]\n"
          ]
        },
        {
          "output_type": "stream",
          "name": "stdout",
          "text": [
            "Données chargées avec succès dans BigQuery.\n"
          ]
        },
        {
          "output_type": "stream",
          "name": "stderr",
          "text": [
            "<ipython-input-118-0deb04035900>:12: FutureWarning: to_gbq is deprecated and will be removed in a future version. Please use pandas_gbq.to_gbq instead: https://pandas-gbq.readthedocs.io/en/latest/api.html#pandas_gbq.to_gbq\n",
            "  df_ajout.to_gbq(\n",
            "100%|██████████| 1/1 [00:00<00:00, 12300.01it/s]\n"
          ]
        },
        {
          "output_type": "stream",
          "name": "stdout",
          "text": [
            "Données chargées avec succès dans BigQuery.\n"
          ]
        },
        {
          "output_type": "stream",
          "name": "stderr",
          "text": [
            "<ipython-input-118-0deb04035900>:12: FutureWarning: to_gbq is deprecated and will be removed in a future version. Please use pandas_gbq.to_gbq instead: https://pandas-gbq.readthedocs.io/en/latest/api.html#pandas_gbq.to_gbq\n",
            "  df_ajout.to_gbq(\n",
            "100%|██████████| 1/1 [00:00<00:00, 8559.80it/s]\n"
          ]
        },
        {
          "output_type": "stream",
          "name": "stdout",
          "text": [
            "Données chargées avec succès dans BigQuery.\n"
          ]
        },
        {
          "output_type": "stream",
          "name": "stderr",
          "text": [
            "<ipython-input-118-0deb04035900>:12: FutureWarning: to_gbq is deprecated and will be removed in a future version. Please use pandas_gbq.to_gbq instead: https://pandas-gbq.readthedocs.io/en/latest/api.html#pandas_gbq.to_gbq\n",
            "  df_ajout.to_gbq(\n",
            "100%|██████████| 1/1 [00:00<00:00, 8097.11it/s]\n"
          ]
        },
        {
          "output_type": "stream",
          "name": "stdout",
          "text": [
            "Données chargées avec succès dans BigQuery.\n"
          ]
        },
        {
          "output_type": "stream",
          "name": "stderr",
          "text": [
            "<ipython-input-118-0deb04035900>:12: FutureWarning: to_gbq is deprecated and will be removed in a future version. Please use pandas_gbq.to_gbq instead: https://pandas-gbq.readthedocs.io/en/latest/api.html#pandas_gbq.to_gbq\n",
            "  df_ajout.to_gbq(\n"
          ]
        }
      ]
    }
  ]
}